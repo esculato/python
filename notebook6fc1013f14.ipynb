{
 "cells": [
  {
   "cell_type": "markdown",
   "id": "3b34157d",
   "metadata": {
    "papermill": {
     "duration": 0.010945,
     "end_time": "2023-01-17T15:13:06.156358",
     "exception": false,
     "start_time": "2023-01-17T15:13:06.145413",
     "status": "completed"
    },
    "tags": []
   },
   "source": [
    "# Python Data types"
   ]
  },
  {
   "cell_type": "code",
   "execution_count": 1,
   "id": "61fc1282",
   "metadata": {
    "execution": {
     "iopub.execute_input": "2023-01-17T15:13:06.178123Z",
     "iopub.status.busy": "2023-01-17T15:13:06.177215Z",
     "iopub.status.idle": "2023-01-17T15:13:06.189724Z",
     "shell.execute_reply": "2023-01-17T15:13:06.188594Z"
    },
    "papermill": {
     "duration": 0.026187,
     "end_time": "2023-01-17T15:13:06.192478",
     "exception": false,
     "start_time": "2023-01-17T15:13:06.166291",
     "status": "completed"
    },
    "tags": []
   },
   "outputs": [],
   "source": [
    "#integers\n",
    "number1 = 10\n",
    "#float\n",
    "number2 = 25.57748\n",
    "#string\n",
    "string1 = \"Hello World!!!\"\n",
    "string2 = 'Hello World!!!'\n",
    "string3 = \"This is a message with quotation marks 'Message'.\"\n",
    "text = \"\"\"\n",
    "Lorem ipsum dolor sit amet, consectetur adipiscing elit.\n",
    "Maecenas pulvinar urna at nulla sagittis porta.\n",
    "Fusce dui enim, dictum nec orci a, consectetur consequat elit.\n",
    "In feugiat libero tortor, id bibendum ex ultricies sed.\n",
    "Cras a tristique ipsum. Sed sagittis maximus metus, ut vehicula neque tempor a.\n",
    "Vivamus scelerisque odio quis faucibus mattis.\n",
    "Morbi non arcu non nulla interdum cursus.\n",
    "Vivamus dui elit, sagittis quis porttitor quis, sollicitudin nec nibh.\n",
    "Suspendisse auctor est vel quam malesuada fermentum.\n",
    "\"\"\"\n",
    "#bool\n",
    "bool1 = True\n",
    "bool2 = False\n",
    "#bool3 = true\n",
    "#bool4 = false"
   ]
  },
  {
   "cell_type": "markdown",
   "id": "519e810b",
   "metadata": {
    "papermill": {
     "duration": 0.011498,
     "end_time": "2023-01-17T15:13:06.213994",
     "exception": false,
     "start_time": "2023-01-17T15:13:06.202496",
     "status": "completed"
    },
    "tags": []
   },
   "source": [
    "## Python print function\n",
    "### The print function is used to display elements on the screen"
   ]
  },
  {
   "cell_type": "code",
   "execution_count": 2,
   "id": "4c928b94",
   "metadata": {
    "execution": {
     "iopub.execute_input": "2023-01-17T15:13:06.235452Z",
     "iopub.status.busy": "2023-01-17T15:13:06.234683Z",
     "iopub.status.idle": "2023-01-17T15:13:06.241279Z",
     "shell.execute_reply": "2023-01-17T15:13:06.240156Z"
    },
    "papermill": {
     "duration": 0.020336,
     "end_time": "2023-01-17T15:13:06.243960",
     "exception": false,
     "start_time": "2023-01-17T15:13:06.223624",
     "status": "completed"
    },
    "tags": []
   },
   "outputs": [
    {
     "name": "stdout",
     "output_type": "stream",
     "text": [
      "Hello World!!! Hello World!!! This is a message with quotation marks 'Message'. 10 25.57748 True False\n",
      "10 25.57748\n"
     ]
    }
   ],
   "source": [
    "print(string1,string2,string3,number1,number2,bool1,bool2)\n",
    "print(number1,number2)"
   ]
  },
  {
   "cell_type": "markdown",
   "id": "b78d16cd",
   "metadata": {
    "papermill": {
     "duration": 0.00939,
     "end_time": "2023-01-17T15:13:06.263118",
     "exception": false,
     "start_time": "2023-01-17T15:13:06.253728",
     "status": "completed"
    },
    "tags": []
   },
   "source": [
    "### print options\n",
    "#### sep = \" \" is used to indicate the separator element by default is a space\n",
    "#### end = \"\\n\" is used to indicate the endline by default is a line break \\n"
   ]
  },
  {
   "cell_type": "code",
   "execution_count": 3,
   "id": "128a06f9",
   "metadata": {
    "execution": {
     "iopub.execute_input": "2023-01-17T15:13:06.284389Z",
     "iopub.status.busy": "2023-01-17T15:13:06.283982Z",
     "iopub.status.idle": "2023-01-17T15:13:06.290580Z",
     "shell.execute_reply": "2023-01-17T15:13:06.289022Z"
    },
    "papermill": {
     "duration": 0.020518,
     "end_time": "2023-01-17T15:13:06.293295",
     "exception": false,
     "start_time": "2023-01-17T15:13:06.272777",
     "status": "completed"
    },
    "tags": []
   },
   "outputs": [
    {
     "name": "stdout",
     "output_type": "stream",
     "text": [
      "Hello World!!!,Hello World!!!,This is a message with quotation marks 'Message'.\n"
     ]
    }
   ],
   "source": [
    "print(string1,string2,string3,sep = \",\")"
   ]
  },
  {
   "cell_type": "code",
   "execution_count": 4,
   "id": "25bdcd56",
   "metadata": {
    "execution": {
     "iopub.execute_input": "2023-01-17T15:13:06.315464Z",
     "iopub.status.busy": "2023-01-17T15:13:06.314781Z",
     "iopub.status.idle": "2023-01-17T15:13:06.320353Z",
     "shell.execute_reply": "2023-01-17T15:13:06.319092Z"
    },
    "papermill": {
     "duration": 0.019583,
     "end_time": "2023-01-17T15:13:06.323124",
     "exception": false,
     "start_time": "2023-01-17T15:13:06.303541",
     "status": "completed"
    },
    "tags": []
   },
   "outputs": [
    {
     "name": "stdout",
     "output_type": "stream",
     "text": [
      "Hello World!!!____Hello World!!!____This is a message with quotation marks 'Message'.\n",
      "\n",
      "\n",
      "\n",
      "10 25.57748\n"
     ]
    }
   ],
   "source": [
    "print(string1,string2,string3,sep = \"____\",end = \"\\n\\n\\n\\n\")\n",
    "print(number1,number2)"
   ]
  },
  {
   "cell_type": "code",
   "execution_count": 5,
   "id": "cd9cea1d",
   "metadata": {
    "execution": {
     "iopub.execute_input": "2023-01-17T15:13:06.344566Z",
     "iopub.status.busy": "2023-01-17T15:13:06.344161Z",
     "iopub.status.idle": "2023-01-17T15:13:06.350325Z",
     "shell.execute_reply": "2023-01-17T15:13:06.349096Z"
    },
    "papermill": {
     "duration": 0.019745,
     "end_time": "2023-01-17T15:13:06.352603",
     "exception": false,
     "start_time": "2023-01-17T15:13:06.332858",
     "status": "completed"
    },
    "tags": []
   },
   "outputs": [
    {
     "name": "stdout",
     "output_type": "stream",
     "text": [
      "<class 'int'>\n",
      "<class 'str'>\n",
      "<class 'bool'>\n"
     ]
    }
   ],
   "source": [
    "print(type(number1))\n",
    "print(type(string1))\n",
    "print(type(bool1))"
   ]
  },
  {
   "cell_type": "markdown",
   "id": "4a8bb809",
   "metadata": {
    "papermill": {
     "duration": 0.009504,
     "end_time": "2023-01-17T15:13:06.371997",
     "exception": false,
     "start_time": "2023-01-17T15:13:06.362493",
     "status": "completed"
    },
    "tags": []
   },
   "source": [
    "# Python Arithmetic  Operations"
   ]
  },
  {
   "cell_type": "code",
   "execution_count": 6,
   "id": "48fcd083",
   "metadata": {
    "execution": {
     "iopub.execute_input": "2023-01-17T15:13:06.393865Z",
     "iopub.status.busy": "2023-01-17T15:13:06.393043Z",
     "iopub.status.idle": "2023-01-17T15:13:06.401872Z",
     "shell.execute_reply": "2023-01-17T15:13:06.400594Z"
    },
    "papermill": {
     "duration": 0.023385,
     "end_time": "2023-01-17T15:13:06.405132",
     "exception": false,
     "start_time": "2023-01-17T15:13:06.381747",
     "status": "completed"
    },
    "tags": []
   },
   "outputs": [
    {
     "name": "stdout",
     "output_type": "stream",
     "text": [
      "35.57748\n",
      "15.577480000000001\n",
      "255.77480000000003\n",
      "0.39096893048103254\n",
      "3.7798972983064925e+25 3.7798972983064925e+25\n",
      "2.0\n",
      "5.577480000000001\n"
     ]
    }
   ],
   "source": [
    "#Addition \n",
    "addition = number1 + number2\n",
    "print(addition)\n",
    "#Subtraction\n",
    "substraction = number2 - number1\n",
    "print(substraction)\n",
    "#Multiplication\n",
    "multiplication = number1 * number2\n",
    "print(multiplication)\n",
    "#division\n",
    "division = number1 / number2\n",
    "print(division)\n",
    "#Exponent\n",
    "exponent1 = number1 ** number2\n",
    "exponent2 = pow(number1, number2)\n",
    "print(exponent1, exponent2)\n",
    "#Floor Division\n",
    "fdivision = number2 // number1\n",
    "print(fdivision)\n",
    "#Modulus\n",
    "# D = d * q + r\n",
    "# Dividend =  divisor * quotient + remainder  \n",
    "#module = r\n",
    "modulus = number2 % number1\n",
    "print(modulus)"
   ]
  },
  {
   "cell_type": "code",
   "execution_count": 7,
   "id": "d2be2a48",
   "metadata": {
    "execution": {
     "iopub.execute_input": "2023-01-17T15:13:06.427199Z",
     "iopub.status.busy": "2023-01-17T15:13:06.426781Z",
     "iopub.status.idle": "2023-01-17T15:13:06.432156Z",
     "shell.execute_reply": "2023-01-17T15:13:06.430992Z"
    },
    "papermill": {
     "duration": 0.020226,
     "end_time": "2023-01-17T15:13:06.435433",
     "exception": false,
     "start_time": "2023-01-17T15:13:06.415207",
     "status": "completed"
    },
    "tags": []
   },
   "outputs": [
    {
     "name": "stdout",
     "output_type": "stream",
     "text": [
      "0\n"
     ]
    }
   ],
   "source": [
    "number4 = 256\n",
    "print(number4 % 4)"
   ]
  },
  {
   "cell_type": "markdown",
   "id": "eafa61d5",
   "metadata": {
    "papermill": {
     "duration": 0.009725,
     "end_time": "2023-01-17T15:13:06.456034",
     "exception": false,
     "start_time": "2023-01-17T15:13:06.446309",
     "status": "completed"
    },
    "tags": []
   },
   "source": [
    "# Python Assignment Operators"
   ]
  },
  {
   "cell_type": "code",
   "execution_count": 8,
   "id": "4a793fd1",
   "metadata": {
    "execution": {
     "iopub.execute_input": "2023-01-17T15:13:06.477526Z",
     "iopub.status.busy": "2023-01-17T15:13:06.477119Z",
     "iopub.status.idle": "2023-01-17T15:13:06.484305Z",
     "shell.execute_reply": "2023-01-17T15:13:06.483096Z"
    },
    "papermill": {
     "duration": 0.021058,
     "end_time": "2023-01-17T15:13:06.487006",
     "exception": false,
     "start_time": "2023-01-17T15:13:06.465948",
     "status": "completed"
    },
    "tags": []
   },
   "outputs": [
    {
     "name": "stdout",
     "output_type": "stream",
     "text": [
      "Add:20\n",
      "Sub:33\n",
      "Mul:30\n",
      "Div:5.0\n"
     ]
    }
   ],
   "source": [
    "a = 10\n",
    "a += 10 # a = a + 10\n",
    "print(\"Add\",a,sep = \":\")\n",
    "b = 35\n",
    "b -= 2 #b = b - 2\n",
    "print(\"Sub\",b,sep = \":\")\n",
    "c = 15\n",
    "c *= 2 #c = c * 5\n",
    "print(\"Mul\",c,sep = \":\")\n",
    "d = 25\n",
    "d /= 5\n",
    "print(\"Div\",d,sep = \":\")"
   ]
  },
  {
   "cell_type": "code",
   "execution_count": 9,
   "id": "189d3a68",
   "metadata": {
    "execution": {
     "iopub.execute_input": "2023-01-17T15:13:06.508661Z",
     "iopub.status.busy": "2023-01-17T15:13:06.508281Z",
     "iopub.status.idle": "2023-01-17T15:13:06.513959Z",
     "shell.execute_reply": "2023-01-17T15:13:06.512809Z"
    },
    "papermill": {
     "duration": 0.020171,
     "end_time": "2023-01-17T15:13:06.517173",
     "exception": false,
     "start_time": "2023-01-17T15:13:06.497002",
     "status": "completed"
    },
    "tags": []
   },
   "outputs": [
    {
     "name": "stdout",
     "output_type": "stream",
     "text": [
      "Hello World!!!Hello World!!!Hello World!!!Hello World!!!Hello World!!!Hello World!!!Hello World!!!Hello World!!!Hello World!!!Hello World!!!\n",
      "**************************************************************************************************************\n",
      "Another process\n"
     ]
    }
   ],
   "source": [
    "string = \"Hello World!!!\"\n",
    "print(string * 10)\n",
    "print(\"*\"*110)\n",
    "print(\"Another process\")"
   ]
  },
  {
   "cell_type": "code",
   "execution_count": 10,
   "id": "4abda91b",
   "metadata": {
    "execution": {
     "iopub.execute_input": "2023-01-17T15:13:06.540023Z",
     "iopub.status.busy": "2023-01-17T15:13:06.539653Z",
     "iopub.status.idle": "2023-01-17T15:13:06.544364Z",
     "shell.execute_reply": "2023-01-17T15:13:06.543168Z"
    },
    "papermill": {
     "duration": 0.018394,
     "end_time": "2023-01-17T15:13:06.546644",
     "exception": false,
     "start_time": "2023-01-17T15:13:06.528250",
     "status": "completed"
    },
    "tags": []
   },
   "outputs": [],
   "source": [
    "string = \"Hello\"\n",
    "#print(string/10)"
   ]
  },
  {
   "cell_type": "markdown",
   "id": "bb5f0652",
   "metadata": {
    "papermill": {
     "duration": 0.009724,
     "end_time": "2023-01-17T15:13:06.566398",
     "exception": false,
     "start_time": "2023-01-17T15:13:06.556674",
     "status": "completed"
    },
    "tags": []
   },
   "source": [
    "# Python Comparison Operators\n",
    "### the output of these operations are Boolean"
   ]
  },
  {
   "cell_type": "code",
   "execution_count": 11,
   "id": "ceb32d5e",
   "metadata": {
    "execution": {
     "iopub.execute_input": "2023-01-17T15:13:06.588058Z",
     "iopub.status.busy": "2023-01-17T15:13:06.587674Z",
     "iopub.status.idle": "2023-01-17T15:13:06.595170Z",
     "shell.execute_reply": "2023-01-17T15:13:06.594018Z"
    },
    "papermill": {
     "duration": 0.021642,
     "end_time": "2023-01-17T15:13:06.598069",
     "exception": false,
     "start_time": "2023-01-17T15:13:06.576427",
     "status": "completed"
    },
    "tags": []
   },
   "outputs": [
    {
     "name": "stdout",
     "output_type": "stream",
     "text": [
      "Equal False\n",
      "Difference True\n",
      "Great False\n",
      "Less True\n",
      "Great than False\n",
      "Less than True\n"
     ]
    }
   ],
   "source": [
    "a = 10\n",
    "b = 100\n",
    "#Equal\n",
    "o = a == b\n",
    "print(\"Equal\",o)\n",
    "#Difference\n",
    "o = a != b\n",
    "print(\"Difference\",o)\n",
    "#great\n",
    "o = a > b\n",
    "print(\"Great\",o)\n",
    "#less\n",
    "o = a < b\n",
    "print(\"Less\",o)\n",
    "#great than\n",
    "o = a >= b\n",
    "print(\"Great than\",o)\n",
    "#less than\n",
    "o = a <= b\n",
    "print(\"Less than\",o)"
   ]
  },
  {
   "cell_type": "markdown",
   "id": "654a0847",
   "metadata": {
    "papermill": {
     "duration": 0.009819,
     "end_time": "2023-01-17T15:13:06.618988",
     "exception": false,
     "start_time": "2023-01-17T15:13:06.609169",
     "status": "completed"
    },
    "tags": []
   },
   "source": [
    "# Python Logical Operators\n",
    "### Logical AND: True if both the operands are true\n",
    "### Logical OR: True if either of the operands is true\n",
    "### Logical NOT: True if operand is false"
   ]
  },
  {
   "cell_type": "code",
   "execution_count": 12,
   "id": "575114fb",
   "metadata": {
    "execution": {
     "iopub.execute_input": "2023-01-17T15:13:06.641056Z",
     "iopub.status.busy": "2023-01-17T15:13:06.640656Z",
     "iopub.status.idle": "2023-01-17T15:13:06.649851Z",
     "shell.execute_reply": "2023-01-17T15:13:06.648741Z"
    },
    "papermill": {
     "duration": 0.022788,
     "end_time": "2023-01-17T15:13:06.652102",
     "exception": false,
     "start_time": "2023-01-17T15:13:06.629314",
     "status": "completed"
    },
    "tags": []
   },
   "outputs": [
    {
     "data": {
      "text/plain": [
       "False"
      ]
     },
     "execution_count": 12,
     "metadata": {},
     "output_type": "execute_result"
    }
   ],
   "source": [
    "number = 19\n",
    "number > 0 and number < 10"
   ]
  },
  {
   "cell_type": "code",
   "execution_count": 13,
   "id": "f7357b50",
   "metadata": {
    "execution": {
     "iopub.execute_input": "2023-01-17T15:13:06.674122Z",
     "iopub.status.busy": "2023-01-17T15:13:06.673735Z",
     "iopub.status.idle": "2023-01-17T15:13:06.680499Z",
     "shell.execute_reply": "2023-01-17T15:13:06.679437Z"
    },
    "papermill": {
     "duration": 0.020302,
     "end_time": "2023-01-17T15:13:06.682686",
     "exception": false,
     "start_time": "2023-01-17T15:13:06.662384",
     "status": "completed"
    },
    "tags": []
   },
   "outputs": [
    {
     "data": {
      "text/plain": [
       "True"
      ]
     },
     "execution_count": 13,
     "metadata": {},
     "output_type": "execute_result"
    }
   ],
   "source": [
    "number = 150\n",
    "number < 0 or number > 20"
   ]
  },
  {
   "cell_type": "code",
   "execution_count": 14,
   "id": "3cec2c9f",
   "metadata": {
    "execution": {
     "iopub.execute_input": "2023-01-17T15:13:06.705543Z",
     "iopub.status.busy": "2023-01-17T15:13:06.705114Z",
     "iopub.status.idle": "2023-01-17T15:13:06.711576Z",
     "shell.execute_reply": "2023-01-17T15:13:06.710715Z"
    },
    "papermill": {
     "duration": 0.0204,
     "end_time": "2023-01-17T15:13:06.713584",
     "exception": false,
     "start_time": "2023-01-17T15:13:06.693184",
     "status": "completed"
    },
    "tags": []
   },
   "outputs": [
    {
     "data": {
      "text/plain": [
       "False"
      ]
     },
     "execution_count": 14,
     "metadata": {},
     "output_type": "execute_result"
    }
   ],
   "source": [
    "number = 150\n",
    "not (number < 0 or number > 20)"
   ]
  },
  {
   "cell_type": "markdown",
   "id": "98d1f0df",
   "metadata": {
    "papermill": {
     "duration": 0.010228,
     "end_time": "2023-01-17T15:13:06.734439",
     "exception": false,
     "start_time": "2023-01-17T15:13:06.724211",
     "status": "completed"
    },
    "tags": []
   },
   "source": [
    "# Input values"
   ]
  },
  {
   "cell_type": "code",
   "execution_count": 15,
   "id": "e56df1bd",
   "metadata": {
    "execution": {
     "iopub.execute_input": "2023-01-17T15:13:06.757990Z",
     "iopub.status.busy": "2023-01-17T15:13:06.757614Z",
     "iopub.status.idle": "2023-01-17T15:13:06.763212Z",
     "shell.execute_reply": "2023-01-17T15:13:06.761862Z"
    },
    "papermill": {
     "duration": 0.019885,
     "end_time": "2023-01-17T15:13:06.765605",
     "exception": false,
     "start_time": "2023-01-17T15:13:06.745720",
     "status": "completed"
    },
    "tags": []
   },
   "outputs": [
    {
     "name": "stdout",
     "output_type": "stream",
     "text": [
      "150\n",
      "<class 'int'>\n"
     ]
    }
   ],
   "source": [
    "#number = input(\"Enter a number: \")\n",
    "print(number)\n",
    "print(type(number))"
   ]
  },
  {
   "cell_type": "code",
   "execution_count": 16,
   "id": "d72da5f0",
   "metadata": {
    "execution": {
     "iopub.execute_input": "2023-01-17T15:13:06.788320Z",
     "iopub.status.busy": "2023-01-17T15:13:06.787694Z",
     "iopub.status.idle": "2023-01-17T15:13:06.792362Z",
     "shell.execute_reply": "2023-01-17T15:13:06.791365Z"
    },
    "papermill": {
     "duration": 0.018418,
     "end_time": "2023-01-17T15:13:06.794479",
     "exception": false,
     "start_time": "2023-01-17T15:13:06.776061",
     "status": "completed"
    },
    "tags": []
   },
   "outputs": [],
   "source": [
    "#number += 100 #TypeError: can only concatenate str (not \"int\") to str"
   ]
  },
  {
   "cell_type": "markdown",
   "id": "c61e238b",
   "metadata": {
    "papermill": {
     "duration": 0.010817,
     "end_time": "2023-01-17T15:13:06.816919",
     "exception": false,
     "start_time": "2023-01-17T15:13:06.806102",
     "status": "completed"
    },
    "tags": []
   },
   "source": [
    "# Cast Values"
   ]
  },
  {
   "cell_type": "code",
   "execution_count": 17,
   "id": "9f9cef78",
   "metadata": {
    "execution": {
     "iopub.execute_input": "2023-01-17T15:13:06.839510Z",
     "iopub.status.busy": "2023-01-17T15:13:06.839064Z",
     "iopub.status.idle": "2023-01-17T15:13:06.844876Z",
     "shell.execute_reply": "2023-01-17T15:13:06.843941Z"
    },
    "papermill": {
     "duration": 0.020906,
     "end_time": "2023-01-17T15:13:06.848272",
     "exception": false,
     "start_time": "2023-01-17T15:13:06.827366",
     "status": "completed"
    },
    "tags": []
   },
   "outputs": [
    {
     "name": "stdout",
     "output_type": "stream",
     "text": [
      "<class 'int'>\n",
      "<class 'float'>\n"
     ]
    }
   ],
   "source": [
    "a = 10 #integer\n",
    "print(type(a))\n",
    "new_a = float(a)\n",
    "print(type(new_a))"
   ]
  },
  {
   "cell_type": "code",
   "execution_count": 18,
   "id": "b1799d1c",
   "metadata": {
    "execution": {
     "iopub.execute_input": "2023-01-17T15:13:06.872330Z",
     "iopub.status.busy": "2023-01-17T15:13:06.871904Z",
     "iopub.status.idle": "2023-01-17T15:13:06.877929Z",
     "shell.execute_reply": "2023-01-17T15:13:06.876796Z"
    },
    "papermill": {
     "duration": 0.02076,
     "end_time": "2023-01-17T15:13:06.880576",
     "exception": false,
     "start_time": "2023-01-17T15:13:06.859816",
     "status": "completed"
    },
    "tags": []
   },
   "outputs": [
    {
     "name": "stdout",
     "output_type": "stream",
     "text": [
      "<class 'float'>\n",
      "25\n",
      "<class 'int'>\n"
     ]
    }
   ],
   "source": [
    "b = 25.4234\n",
    "print(type(b))\n",
    "new_b = int(b)\n",
    "print(new_b)\n",
    "print(type(new_b))"
   ]
  },
  {
   "cell_type": "code",
   "execution_count": 19,
   "id": "ccfca835",
   "metadata": {
    "execution": {
     "iopub.execute_input": "2023-01-17T15:13:06.903944Z",
     "iopub.status.busy": "2023-01-17T15:13:06.903561Z",
     "iopub.status.idle": "2023-01-17T15:13:06.909300Z",
     "shell.execute_reply": "2023-01-17T15:13:06.908213Z"
    },
    "papermill": {
     "duration": 0.020949,
     "end_time": "2023-01-17T15:13:06.912281",
     "exception": false,
     "start_time": "2023-01-17T15:13:06.891332",
     "status": "completed"
    },
    "tags": []
   },
   "outputs": [
    {
     "name": "stdout",
     "output_type": "stream",
     "text": [
      "<class 'str'>\n",
      "<class 'int'>\n"
     ]
    }
   ],
   "source": [
    "a = '10'\n",
    "new_a = int(a)\n",
    "print(type(a))\n",
    "print(type(new_a))"
   ]
  },
  {
   "cell_type": "code",
   "execution_count": 20,
   "id": "49c14e99",
   "metadata": {
    "execution": {
     "iopub.execute_input": "2023-01-17T15:13:06.937283Z",
     "iopub.status.busy": "2023-01-17T15:13:06.936058Z",
     "iopub.status.idle": "2023-01-17T15:13:06.942790Z",
     "shell.execute_reply": "2023-01-17T15:13:06.941546Z"
    },
    "papermill": {
     "duration": 0.021039,
     "end_time": "2023-01-17T15:13:06.945092",
     "exception": false,
     "start_time": "2023-01-17T15:13:06.924053",
     "status": "completed"
    },
    "tags": []
   },
   "outputs": [
    {
     "name": "stdout",
     "output_type": "stream",
     "text": [
      "<class 'str'>\n",
      "<class 'float'>\n"
     ]
    }
   ],
   "source": [
    "b = \"1.56\"\n",
    "new_b = float(b)\n",
    "print(type(b))\n",
    "print(type(new_b))"
   ]
  },
  {
   "cell_type": "code",
   "execution_count": 21,
   "id": "44d24b42",
   "metadata": {
    "execution": {
     "iopub.execute_input": "2023-01-17T15:13:06.968154Z",
     "iopub.status.busy": "2023-01-17T15:13:06.967769Z",
     "iopub.status.idle": "2023-01-17T15:13:06.972519Z",
     "shell.execute_reply": "2023-01-17T15:13:06.971394Z"
    },
    "papermill": {
     "duration": 0.018828,
     "end_time": "2023-01-17T15:13:06.974657",
     "exception": false,
     "start_time": "2023-01-17T15:13:06.955829",
     "status": "completed"
    },
    "tags": []
   },
   "outputs": [],
   "source": [
    "c = \"text\"\n",
    "#print(int(c)) #ValueError: invalid literal for int() with base 10: 'text'"
   ]
  },
  {
   "cell_type": "code",
   "execution_count": 22,
   "id": "aebcb220",
   "metadata": {
    "execution": {
     "iopub.execute_input": "2023-01-17T15:13:06.998452Z",
     "iopub.status.busy": "2023-01-17T15:13:06.998038Z",
     "iopub.status.idle": "2023-01-17T15:13:07.002619Z",
     "shell.execute_reply": "2023-01-17T15:13:07.001736Z"
    },
    "papermill": {
     "duration": 0.019259,
     "end_time": "2023-01-17T15:13:07.004875",
     "exception": false,
     "start_time": "2023-01-17T15:13:06.985616",
     "status": "completed"
    },
    "tags": []
   },
   "outputs": [
    {
     "name": "stdout",
     "output_type": "stream",
     "text": [
      "150\n",
      "<class 'int'>\n"
     ]
    }
   ],
   "source": [
    "#number = int(input(\"Enter a number: \"))\n",
    "print(number)\n",
    "print(type(number))"
   ]
  },
  {
   "cell_type": "code",
   "execution_count": null,
   "id": "61147ff4",
   "metadata": {
    "papermill": {
     "duration": 0.011287,
     "end_time": "2023-01-17T15:13:07.027566",
     "exception": false,
     "start_time": "2023-01-17T15:13:07.016279",
     "status": "completed"
    },
    "tags": []
   },
   "outputs": [],
   "source": []
  },
  {
   "cell_type": "markdown",
   "id": "a0ce0966",
   "metadata": {
    "papermill": {
     "duration": 0.010906,
     "end_time": "2023-01-17T15:13:07.050791",
     "exception": false,
     "start_time": "2023-01-17T15:13:07.039885",
     "status": "completed"
    },
    "tags": []
   },
   "source": [
    "# String Methods"
   ]
  },
  {
   "cell_type": "code",
   "execution_count": 23,
   "id": "158fd550",
   "metadata": {
    "execution": {
     "iopub.execute_input": "2023-01-17T15:13:07.078845Z",
     "iopub.status.busy": "2023-01-17T15:13:07.078095Z",
     "iopub.status.idle": "2023-01-17T15:13:07.085384Z",
     "shell.execute_reply": "2023-01-17T15:13:07.084039Z"
    },
    "papermill": {
     "duration": 0.023924,
     "end_time": "2023-01-17T15:13:07.088539",
     "exception": false,
     "start_time": "2023-01-17T15:13:07.064615",
     "status": "completed"
    },
    "tags": []
   },
   "outputs": [
    {
     "name": "stdout",
     "output_type": "stream",
     "text": [
      "Capitalize Hello world\n",
      "Title Hello World\n",
      "LowerCase hello world\n",
      "UpperCase HELLO WORLD\n"
     ]
    }
   ],
   "source": [
    "string1 = \"hello world\"\n",
    "print(\"Capitalize\",string1.capitalize())\n",
    "print(\"Title\",string1.title())\n",
    "print(\"LowerCase\",string1.lower())\n",
    "print(\"UpperCase\",string1.upper())"
   ]
  },
  {
   "cell_type": "code",
   "execution_count": 24,
   "id": "a510d02c",
   "metadata": {
    "execution": {
     "iopub.execute_input": "2023-01-17T15:13:07.116554Z",
     "iopub.status.busy": "2023-01-17T15:13:07.116103Z",
     "iopub.status.idle": "2023-01-17T15:13:07.120559Z",
     "shell.execute_reply": "2023-01-17T15:13:07.119606Z"
    },
    "papermill": {
     "duration": 0.019777,
     "end_time": "2023-01-17T15:13:07.122651",
     "exception": false,
     "start_time": "2023-01-17T15:13:07.102874",
     "status": "completed"
    },
    "tags": []
   },
   "outputs": [],
   "source": [
    "string2 = '10'"
   ]
  },
  {
   "cell_type": "code",
   "execution_count": 25,
   "id": "8e84d499",
   "metadata": {
    "execution": {
     "iopub.execute_input": "2023-01-17T15:13:07.147008Z",
     "iopub.status.busy": "2023-01-17T15:13:07.146260Z",
     "iopub.status.idle": "2023-01-17T15:13:07.153973Z",
     "shell.execute_reply": "2023-01-17T15:13:07.153112Z"
    },
    "papermill": {
     "duration": 0.021964,
     "end_time": "2023-01-17T15:13:07.155896",
     "exception": false,
     "start_time": "2023-01-17T15:13:07.133932",
     "status": "completed"
    },
    "tags": []
   },
   "outputs": [
    {
     "data": {
      "text/plain": [
       "['__add__',\n",
       " '__class__',\n",
       " '__contains__',\n",
       " '__delattr__',\n",
       " '__dir__',\n",
       " '__doc__',\n",
       " '__eq__',\n",
       " '__format__',\n",
       " '__ge__',\n",
       " '__getattribute__',\n",
       " '__getitem__',\n",
       " '__getnewargs__',\n",
       " '__gt__',\n",
       " '__hash__',\n",
       " '__init__',\n",
       " '__init_subclass__',\n",
       " '__iter__',\n",
       " '__le__',\n",
       " '__len__',\n",
       " '__lt__',\n",
       " '__mod__',\n",
       " '__mul__',\n",
       " '__ne__',\n",
       " '__new__',\n",
       " '__reduce__',\n",
       " '__reduce_ex__',\n",
       " '__repr__',\n",
       " '__rmod__',\n",
       " '__rmul__',\n",
       " '__setattr__',\n",
       " '__sizeof__',\n",
       " '__str__',\n",
       " '__subclasshook__',\n",
       " 'capitalize',\n",
       " 'casefold',\n",
       " 'center',\n",
       " 'count',\n",
       " 'encode',\n",
       " 'endswith',\n",
       " 'expandtabs',\n",
       " 'find',\n",
       " 'format',\n",
       " 'format_map',\n",
       " 'index',\n",
       " 'isalnum',\n",
       " 'isalpha',\n",
       " 'isascii',\n",
       " 'isdecimal',\n",
       " 'isdigit',\n",
       " 'isidentifier',\n",
       " 'islower',\n",
       " 'isnumeric',\n",
       " 'isprintable',\n",
       " 'isspace',\n",
       " 'istitle',\n",
       " 'isupper',\n",
       " 'join',\n",
       " 'ljust',\n",
       " 'lower',\n",
       " 'lstrip',\n",
       " 'maketrans',\n",
       " 'partition',\n",
       " 'replace',\n",
       " 'rfind',\n",
       " 'rindex',\n",
       " 'rjust',\n",
       " 'rpartition',\n",
       " 'rsplit',\n",
       " 'rstrip',\n",
       " 'split',\n",
       " 'splitlines',\n",
       " 'startswith',\n",
       " 'strip',\n",
       " 'swapcase',\n",
       " 'title',\n",
       " 'translate',\n",
       " 'upper',\n",
       " 'zfill']"
      ]
     },
     "execution_count": 25,
     "metadata": {},
     "output_type": "execute_result"
    }
   ],
   "source": [
    "dir(string2)"
   ]
  },
  {
   "cell_type": "code",
   "execution_count": 26,
   "id": "472d70ef",
   "metadata": {
    "execution": {
     "iopub.execute_input": "2023-01-17T15:13:07.180672Z",
     "iopub.status.busy": "2023-01-17T15:13:07.180285Z",
     "iopub.status.idle": "2023-01-17T15:13:07.187047Z",
     "shell.execute_reply": "2023-01-17T15:13:07.185720Z"
    },
    "papermill": {
     "duration": 0.022335,
     "end_time": "2023-01-17T15:13:07.190069",
     "exception": false,
     "start_time": "2023-01-17T15:13:07.167734",
     "status": "completed"
    },
    "tags": []
   },
   "outputs": [
    {
     "name": "stdout",
     "output_type": "stream",
     "text": [
      "Help on built-in function isalnum:\n",
      "\n",
      "isalnum() method of builtins.str instance\n",
      "    Return True if the string is an alpha-numeric string, False otherwise.\n",
      "    \n",
      "    A string is alpha-numeric if all characters in the string are alpha-numeric and\n",
      "    there is at least one character in the string.\n",
      "\n"
     ]
    }
   ],
   "source": [
    "help(string2.isalnum)"
   ]
  },
  {
   "cell_type": "code",
   "execution_count": 27,
   "id": "07919c56",
   "metadata": {
    "execution": {
     "iopub.execute_input": "2023-01-17T15:13:07.219894Z",
     "iopub.status.busy": "2023-01-17T15:13:07.219492Z",
     "iopub.status.idle": "2023-01-17T15:13:07.225004Z",
     "shell.execute_reply": "2023-01-17T15:13:07.223887Z"
    },
    "papermill": {
     "duration": 0.023683,
     "end_time": "2023-01-17T15:13:07.227451",
     "exception": false,
     "start_time": "2023-01-17T15:13:07.203768",
     "status": "completed"
    },
    "tags": []
   },
   "outputs": [
    {
     "name": "stdout",
     "output_type": "stream",
     "text": [
      "True\n"
     ]
    }
   ],
   "source": [
    "string3 = \"HelloWorld\"\n",
    "print(string3.isalnum())"
   ]
  },
  {
   "cell_type": "code",
   "execution_count": 28,
   "id": "659cb7b4",
   "metadata": {
    "execution": {
     "iopub.execute_input": "2023-01-17T15:13:07.255815Z",
     "iopub.status.busy": "2023-01-17T15:13:07.255405Z",
     "iopub.status.idle": "2023-01-17T15:13:07.261621Z",
     "shell.execute_reply": "2023-01-17T15:13:07.260366Z"
    },
    "papermill": {
     "duration": 0.023399,
     "end_time": "2023-01-17T15:13:07.264070",
     "exception": false,
     "start_time": "2023-01-17T15:13:07.240671",
     "status": "completed"
    },
    "tags": []
   },
   "outputs": [
    {
     "name": "stdout",
     "output_type": "stream",
     "text": [
      "True\n",
      "True\n",
      "True\n"
     ]
    }
   ],
   "source": [
    "string4 = \"150\"\n",
    "print(string4.isnumeric()) # method supports Digits, Vulgar Fractions, Subscripts, Superscripts, Roman Numerals, Currency Numerators\n",
    "print(string4.isdigit()) # method supports Decimals, Subscripts, Superscripts.\n",
    "print(string4.isdecimal()) # method supports only Decimal Numbers"
   ]
  },
  {
   "cell_type": "code",
   "execution_count": 29,
   "id": "0495ad67",
   "metadata": {
    "execution": {
     "iopub.execute_input": "2023-01-17T15:13:07.289337Z",
     "iopub.status.busy": "2023-01-17T15:13:07.288940Z",
     "iopub.status.idle": "2023-01-17T15:13:07.294536Z",
     "shell.execute_reply": "2023-01-17T15:13:07.293455Z"
    },
    "papermill": {
     "duration": 0.020882,
     "end_time": "2023-01-17T15:13:07.296706",
     "exception": false,
     "start_time": "2023-01-17T15:13:07.275824",
     "status": "completed"
    },
    "tags": []
   },
   "outputs": [
    {
     "name": "stdout",
     "output_type": "stream",
     "text": [
      "²\n"
     ]
    }
   ],
   "source": [
    "print('\\u00B2')"
   ]
  },
  {
   "cell_type": "code",
   "execution_count": 30,
   "id": "91b964a6",
   "metadata": {
    "execution": {
     "iopub.execute_input": "2023-01-17T15:13:07.323969Z",
     "iopub.status.busy": "2023-01-17T15:13:07.323426Z",
     "iopub.status.idle": "2023-01-17T15:13:07.330945Z",
     "shell.execute_reply": "2023-01-17T15:13:07.329658Z"
    },
    "papermill": {
     "duration": 0.023972,
     "end_time": "2023-01-17T15:13:07.332995",
     "exception": false,
     "start_time": "2023-01-17T15:13:07.309023",
     "status": "completed"
    },
    "tags": []
   },
   "outputs": [
    {
     "data": {
      "text/plain": [
       "False"
      ]
     },
     "execution_count": 30,
     "metadata": {},
     "output_type": "execute_result"
    }
   ],
   "source": [
    "'\\u00B2'.isdecimal()"
   ]
  },
  {
   "cell_type": "code",
   "execution_count": 31,
   "id": "80a5051c",
   "metadata": {
    "execution": {
     "iopub.execute_input": "2023-01-17T15:13:07.358085Z",
     "iopub.status.busy": "2023-01-17T15:13:07.357718Z",
     "iopub.status.idle": "2023-01-17T15:13:07.364215Z",
     "shell.execute_reply": "2023-01-17T15:13:07.363155Z"
    },
    "papermill": {
     "duration": 0.02163,
     "end_time": "2023-01-17T15:13:07.366315",
     "exception": false,
     "start_time": "2023-01-17T15:13:07.344685",
     "status": "completed"
    },
    "tags": []
   },
   "outputs": [
    {
     "data": {
      "text/plain": [
       "True"
      ]
     },
     "execution_count": 31,
     "metadata": {},
     "output_type": "execute_result"
    }
   ],
   "source": [
    "'\\u00B2'.isdigit()"
   ]
  },
  {
   "cell_type": "code",
   "execution_count": 32,
   "id": "d5b993ab",
   "metadata": {
    "execution": {
     "iopub.execute_input": "2023-01-17T15:13:07.391288Z",
     "iopub.status.busy": "2023-01-17T15:13:07.390869Z",
     "iopub.status.idle": "2023-01-17T15:13:07.396996Z",
     "shell.execute_reply": "2023-01-17T15:13:07.395775Z"
    },
    "papermill": {
     "duration": 0.021816,
     "end_time": "2023-01-17T15:13:07.399739",
     "exception": false,
     "start_time": "2023-01-17T15:13:07.377923",
     "status": "completed"
    },
    "tags": []
   },
   "outputs": [
    {
     "name": "stdout",
     "output_type": "stream",
     "text": [
      "² False\n",
      "² True\n",
      "² True\n"
     ]
    }
   ],
   "source": [
    "print('\\u00b2','\\u00b2'.isdecimal())    # Prints False\n",
    "print('\\u00b2','\\u00b2'.isdigit())      # Prints True\n",
    "print('\\u00b2','\\u00b2'.isnumeric())    # Prints True"
   ]
  },
  {
   "cell_type": "code",
   "execution_count": 33,
   "id": "9fbd7296",
   "metadata": {
    "execution": {
     "iopub.execute_input": "2023-01-17T15:13:07.425315Z",
     "iopub.status.busy": "2023-01-17T15:13:07.424927Z",
     "iopub.status.idle": "2023-01-17T15:13:07.429891Z",
     "shell.execute_reply": "2023-01-17T15:13:07.428904Z"
    },
    "papermill": {
     "duration": 0.02029,
     "end_time": "2023-01-17T15:13:07.432325",
     "exception": false,
     "start_time": "2023-01-17T15:13:07.412035",
     "status": "completed"
    },
    "tags": []
   },
   "outputs": [
    {
     "name": "stdout",
     "output_type": "stream",
     "text": [
      "⅓ False\n",
      "⅓ False\n",
      "⅓ True\n"
     ]
    }
   ],
   "source": [
    "print('\\u2153','\\u2153'.isdecimal())    # Prints False\n",
    "print('\\u2153','\\u2153'.isdigit())      # Prints False\n",
    "print('\\u2153','\\u2153'.isnumeric())    # Prints True"
   ]
  },
  {
   "cell_type": "code",
   "execution_count": 34,
   "id": "97defce9",
   "metadata": {
    "execution": {
     "iopub.execute_input": "2023-01-17T15:13:07.458452Z",
     "iopub.status.busy": "2023-01-17T15:13:07.457407Z",
     "iopub.status.idle": "2023-01-17T15:13:07.464084Z",
     "shell.execute_reply": "2023-01-17T15:13:07.462857Z"
    },
    "papermill": {
     "duration": 0.022787,
     "end_time": "2023-01-17T15:13:07.466906",
     "exception": false,
     "start_time": "2023-01-17T15:13:07.444119",
     "status": "completed"
    },
    "tags": []
   },
   "outputs": [
    {
     "name": "stdout",
     "output_type": "stream",
     "text": [
      "14\n",
      "14\n"
     ]
    }
   ],
   "source": [
    "round(0.1 + 0.2,1) == 0.3\n",
    "print(round(13.5))\n",
    "print(round(14.5))\n",
    "# Home work\n",
    "# The round() function can round the values up and down both depending on the situation. For <0.5, it rounds down, and for >0.5, it rounds up. For =0.5, the round() function rounds the number off to the nearest even number. So, 0.5 is rounded to zero, and so is -0.5; 33.5 and 34.5 are both rounded off to 34; -33.5 -34.5 are both rounded off to -34, and so on."
   ]
  }
 ],
 "metadata": {
  "kernelspec": {
   "display_name": "Python 3",
   "language": "python",
   "name": "python3"
  },
  "language_info": {
   "codemirror_mode": {
    "name": "ipython",
    "version": 3
   },
   "file_extension": ".py",
   "mimetype": "text/x-python",
   "name": "python",
   "nbconvert_exporter": "python",
   "pygments_lexer": "ipython3",
   "version": "3.7.12"
  },
  "papermill": {
   "default_parameters": {},
   "duration": 10.215635,
   "end_time": "2023-01-17T15:13:08.101623",
   "environment_variables": {},
   "exception": null,
   "input_path": "__notebook__.ipynb",
   "output_path": "__notebook__.ipynb",
   "parameters": {},
   "start_time": "2023-01-17T15:12:57.885988",
   "version": "2.3.4"
  }
 },
 "nbformat": 4,
 "nbformat_minor": 5
}
