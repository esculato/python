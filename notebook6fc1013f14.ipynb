{
 "cells": [
  {
   "cell_type": "markdown",
   "id": "2bd7c218",
   "metadata": {
    "papermill": {
     "duration": 0.012647,
     "end_time": "2023-01-23T15:24:21.301397",
     "exception": false,
     "start_time": "2023-01-23T15:24:21.288750",
     "status": "completed"
    },
    "tags": []
   },
   "source": [
    "# Python Data types"
   ]
  },
  {
   "cell_type": "code",
   "execution_count": 1,
   "id": "0cb83882",
   "metadata": {
    "execution": {
     "iopub.execute_input": "2023-01-23T15:24:21.324784Z",
     "iopub.status.busy": "2023-01-23T15:24:21.324264Z",
     "iopub.status.idle": "2023-01-23T15:24:21.337574Z",
     "shell.execute_reply": "2023-01-23T15:24:21.336549Z"
    },
    "papermill": {
     "duration": 0.028019,
     "end_time": "2023-01-23T15:24:21.340286",
     "exception": false,
     "start_time": "2023-01-23T15:24:21.312267",
     "status": "completed"
    },
    "tags": []
   },
   "outputs": [],
   "source": [
    "#integers\n",
    "number1 = 10\n",
    "#float\n",
    "number2 = 25.57748\n",
    "#string\n",
    "string1 = \"Hello World!!!\"\n",
    "string2 = 'Hello World!!!'\n",
    "string3 = \"This is a message with quotation marks 'Message'.\"\n",
    "text = \"\"\"\n",
    "Lorem ipsum dolor sit amet, consectetur adipiscing elit.\n",
    "Maecenas pulvinar urna at nulla sagittis porta.\n",
    "Fusce dui enim, dictum nec orci a, consectetur consequat elit.\n",
    "In feugiat libero tortor, id bibendum ex ultricies sed.\n",
    "Cras a tristique ipsum. Sed sagittis maximus metus, ut vehicula neque tempor a.\n",
    "Vivamus scelerisque odio quis faucibus mattis.\n",
    "Morbi non arcu non nulla interdum cursus.\n",
    "Vivamus dui elit, sagittis quis porttitor quis, sollicitudin nec nibh.\n",
    "Suspendisse auctor est vel quam malesuada fermentum.\n",
    "\"\"\"\n",
    "#bool\n",
    "bool1 = True\n",
    "bool2 = False\n",
    "#bool3 = true\n",
    "#bool4 = false"
   ]
  },
  {
   "cell_type": "markdown",
   "id": "d8f64593",
   "metadata": {
    "papermill": {
     "duration": 0.012305,
     "end_time": "2023-01-23T15:24:21.362751",
     "exception": false,
     "start_time": "2023-01-23T15:24:21.350446",
     "status": "completed"
    },
    "tags": []
   },
   "source": [
    "## Python print function\n",
    "### The print function is used to display elements on the screen"
   ]
  },
  {
   "cell_type": "code",
   "execution_count": 2,
   "id": "86b9598d",
   "metadata": {
    "execution": {
     "iopub.execute_input": "2023-01-23T15:24:21.385900Z",
     "iopub.status.busy": "2023-01-23T15:24:21.385021Z",
     "iopub.status.idle": "2023-01-23T15:24:21.392483Z",
     "shell.execute_reply": "2023-01-23T15:24:21.391209Z"
    },
    "papermill": {
     "duration": 0.022408,
     "end_time": "2023-01-23T15:24:21.395317",
     "exception": false,
     "start_time": "2023-01-23T15:24:21.372909",
     "status": "completed"
    },
    "tags": []
   },
   "outputs": [
    {
     "name": "stdout",
     "output_type": "stream",
     "text": [
      "Hello World!!! Hello World!!! This is a message with quotation marks 'Message'. 10 25.57748 True False\n",
      "10 25.57748\n"
     ]
    }
   ],
   "source": [
    "print(string1,string2,string3,number1,number2,bool1,bool2)\n",
    "print(number1,number2)"
   ]
  },
  {
   "cell_type": "markdown",
   "id": "f52cd8e3",
   "metadata": {
    "papermill": {
     "duration": 0.009864,
     "end_time": "2023-01-23T15:24:21.415385",
     "exception": false,
     "start_time": "2023-01-23T15:24:21.405521",
     "status": "completed"
    },
    "tags": []
   },
   "source": [
    "### print options\n",
    "#### sep = \" \" is used to indicate the separator element by default is a space\n",
    "#### end = \"\\n\" is used to indicate the endline by default is a line break \\n"
   ]
  },
  {
   "cell_type": "code",
   "execution_count": 3,
   "id": "71324d09",
   "metadata": {
    "execution": {
     "iopub.execute_input": "2023-01-23T15:24:21.438115Z",
     "iopub.status.busy": "2023-01-23T15:24:21.437625Z",
     "iopub.status.idle": "2023-01-23T15:24:21.443732Z",
     "shell.execute_reply": "2023-01-23T15:24:21.442764Z"
    },
    "papermill": {
     "duration": 0.02076,
     "end_time": "2023-01-23T15:24:21.446351",
     "exception": false,
     "start_time": "2023-01-23T15:24:21.425591",
     "status": "completed"
    },
    "tags": []
   },
   "outputs": [
    {
     "name": "stdout",
     "output_type": "stream",
     "text": [
      "Hello World!!!,Hello World!!!,This is a message with quotation marks 'Message'.\n"
     ]
    }
   ],
   "source": [
    "print(string1,string2,string3,sep = \",\")"
   ]
  },
  {
   "cell_type": "code",
   "execution_count": 4,
   "id": "9630bb88",
   "metadata": {
    "execution": {
     "iopub.execute_input": "2023-01-23T15:24:21.469570Z",
     "iopub.status.busy": "2023-01-23T15:24:21.468165Z",
     "iopub.status.idle": "2023-01-23T15:24:21.474848Z",
     "shell.execute_reply": "2023-01-23T15:24:21.473946Z"
    },
    "papermill": {
     "duration": 0.021116,
     "end_time": "2023-01-23T15:24:21.477534",
     "exception": false,
     "start_time": "2023-01-23T15:24:21.456418",
     "status": "completed"
    },
    "tags": []
   },
   "outputs": [
    {
     "name": "stdout",
     "output_type": "stream",
     "text": [
      "Hello World!!!____Hello World!!!____This is a message with quotation marks 'Message'.\n",
      "\n",
      "\n",
      "\n",
      "10 25.57748\n"
     ]
    }
   ],
   "source": [
    "print(string1,string2,string3,sep = \"____\",end = \"\\n\\n\\n\\n\")\n",
    "print(number1,number2)"
   ]
  },
  {
   "cell_type": "code",
   "execution_count": 5,
   "id": "5635532b",
   "metadata": {
    "execution": {
     "iopub.execute_input": "2023-01-23T15:24:21.501953Z",
     "iopub.status.busy": "2023-01-23T15:24:21.501463Z",
     "iopub.status.idle": "2023-01-23T15:24:21.508234Z",
     "shell.execute_reply": "2023-01-23T15:24:21.506725Z"
    },
    "papermill": {
     "duration": 0.022762,
     "end_time": "2023-01-23T15:24:21.510966",
     "exception": false,
     "start_time": "2023-01-23T15:24:21.488204",
     "status": "completed"
    },
    "tags": []
   },
   "outputs": [
    {
     "name": "stdout",
     "output_type": "stream",
     "text": [
      "<class 'int'>\n",
      "<class 'str'>\n",
      "<class 'bool'>\n"
     ]
    }
   ],
   "source": [
    "print(type(number1))\n",
    "print(type(string1))\n",
    "print(type(bool1))"
   ]
  },
  {
   "cell_type": "markdown",
   "id": "1e4b3328",
   "metadata": {
    "papermill": {
     "duration": 0.010059,
     "end_time": "2023-01-23T15:24:21.531901",
     "exception": false,
     "start_time": "2023-01-23T15:24:21.521842",
     "status": "completed"
    },
    "tags": []
   },
   "source": [
    "# Python Arithmetic  Operations"
   ]
  },
  {
   "cell_type": "code",
   "execution_count": 6,
   "id": "1f4543e8",
   "metadata": {
    "execution": {
     "iopub.execute_input": "2023-01-23T15:24:21.554039Z",
     "iopub.status.busy": "2023-01-23T15:24:21.553581Z",
     "iopub.status.idle": "2023-01-23T15:24:21.562707Z",
     "shell.execute_reply": "2023-01-23T15:24:21.561084Z"
    },
    "papermill": {
     "duration": 0.023795,
     "end_time": "2023-01-23T15:24:21.565799",
     "exception": false,
     "start_time": "2023-01-23T15:24:21.542004",
     "status": "completed"
    },
    "tags": []
   },
   "outputs": [
    {
     "name": "stdout",
     "output_type": "stream",
     "text": [
      "35.57748\n",
      "15.577480000000001\n",
      "255.77480000000003\n",
      "0.39096893048103254\n",
      "3.7798972983064925e+25 3.7798972983064925e+25\n",
      "2.0\n",
      "5.577480000000001\n"
     ]
    }
   ],
   "source": [
    "#Addition \n",
    "addition = number1 + number2\n",
    "print(addition)\n",
    "#Subtraction\n",
    "substraction = number2 - number1\n",
    "print(substraction)\n",
    "#Multiplication\n",
    "multiplication = number1 * number2\n",
    "print(multiplication)\n",
    "#division\n",
    "division = number1 / number2\n",
    "print(division)\n",
    "#Exponent\n",
    "exponent1 = number1 ** number2\n",
    "exponent2 = pow(number1, number2)\n",
    "print(exponent1, exponent2)\n",
    "#Floor Division\n",
    "fdivision = number2 // number1\n",
    "print(fdivision)\n",
    "#Modulus\n",
    "# D = d * q + r\n",
    "# Dividend =  divisor * quotient + remainder  \n",
    "#module = r\n",
    "modulus = number2 % number1\n",
    "print(modulus)"
   ]
  },
  {
   "cell_type": "code",
   "execution_count": 7,
   "id": "f27fad53",
   "metadata": {
    "execution": {
     "iopub.execute_input": "2023-01-23T15:24:21.588701Z",
     "iopub.status.busy": "2023-01-23T15:24:21.587516Z",
     "iopub.status.idle": "2023-01-23T15:24:21.595419Z",
     "shell.execute_reply": "2023-01-23T15:24:21.593713Z"
    },
    "papermill": {
     "duration": 0.022454,
     "end_time": "2023-01-23T15:24:21.598346",
     "exception": false,
     "start_time": "2023-01-23T15:24:21.575892",
     "status": "completed"
    },
    "tags": []
   },
   "outputs": [
    {
     "name": "stdout",
     "output_type": "stream",
     "text": [
      "0\n"
     ]
    }
   ],
   "source": [
    "number4 = 256\n",
    "print(number4 % 4)"
   ]
  },
  {
   "cell_type": "markdown",
   "id": "d4e363d0",
   "metadata": {
    "papermill": {
     "duration": 0.010189,
     "end_time": "2023-01-23T15:24:21.619041",
     "exception": false,
     "start_time": "2023-01-23T15:24:21.608852",
     "status": "completed"
    },
    "tags": []
   },
   "source": [
    "# Python Assignment Operators"
   ]
  },
  {
   "cell_type": "code",
   "execution_count": 8,
   "id": "3ab1dc18",
   "metadata": {
    "execution": {
     "iopub.execute_input": "2023-01-23T15:24:21.641820Z",
     "iopub.status.busy": "2023-01-23T15:24:21.641327Z",
     "iopub.status.idle": "2023-01-23T15:24:21.650381Z",
     "shell.execute_reply": "2023-01-23T15:24:21.648869Z"
    },
    "papermill": {
     "duration": 0.023563,
     "end_time": "2023-01-23T15:24:21.652865",
     "exception": false,
     "start_time": "2023-01-23T15:24:21.629302",
     "status": "completed"
    },
    "tags": []
   },
   "outputs": [
    {
     "name": "stdout",
     "output_type": "stream",
     "text": [
      "Add:20\n",
      "Sub:33\n",
      "Mul:30\n",
      "Div:5.0\n"
     ]
    }
   ],
   "source": [
    "a = 10\n",
    "a += 10 # a = a + 10\n",
    "print(\"Add\",a,sep = \":\")\n",
    "b = 35\n",
    "b -= 2 #b = b - 2\n",
    "print(\"Sub\",b,sep = \":\")\n",
    "c = 15\n",
    "c *= 2 #c = c * 5\n",
    "print(\"Mul\",c,sep = \":\")\n",
    "d = 25\n",
    "d /= 5\n",
    "print(\"Div\",d,sep = \":\")"
   ]
  },
  {
   "cell_type": "code",
   "execution_count": 9,
   "id": "788dc528",
   "metadata": {
    "execution": {
     "iopub.execute_input": "2023-01-23T15:24:21.676985Z",
     "iopub.status.busy": "2023-01-23T15:24:21.676200Z",
     "iopub.status.idle": "2023-01-23T15:24:21.683393Z",
     "shell.execute_reply": "2023-01-23T15:24:21.682129Z"
    },
    "papermill": {
     "duration": 0.022564,
     "end_time": "2023-01-23T15:24:21.686021",
     "exception": false,
     "start_time": "2023-01-23T15:24:21.663457",
     "status": "completed"
    },
    "tags": []
   },
   "outputs": [
    {
     "name": "stdout",
     "output_type": "stream",
     "text": [
      "Hello World!!!Hello World!!!Hello World!!!Hello World!!!Hello World!!!Hello World!!!Hello World!!!Hello World!!!Hello World!!!Hello World!!!\n",
      "**************************************************************************************************************\n",
      "Another process\n"
     ]
    }
   ],
   "source": [
    "string = \"Hello World!!!\"\n",
    "print(string * 10)\n",
    "print(\"*\"*110)\n",
    "print(\"Another process\")"
   ]
  },
  {
   "cell_type": "code",
   "execution_count": 10,
   "id": "f1334b83",
   "metadata": {
    "execution": {
     "iopub.execute_input": "2023-01-23T15:24:21.708914Z",
     "iopub.status.busy": "2023-01-23T15:24:21.708380Z",
     "iopub.status.idle": "2023-01-23T15:24:21.713796Z",
     "shell.execute_reply": "2023-01-23T15:24:21.712661Z"
    },
    "papermill": {
     "duration": 0.019873,
     "end_time": "2023-01-23T15:24:21.716376",
     "exception": false,
     "start_time": "2023-01-23T15:24:21.696503",
     "status": "completed"
    },
    "tags": []
   },
   "outputs": [],
   "source": [
    "string = \"Hello\"\n",
    "#print(string/10)"
   ]
  },
  {
   "cell_type": "markdown",
   "id": "fd647637",
   "metadata": {
    "papermill": {
     "duration": 0.01005,
     "end_time": "2023-01-23T15:24:21.736972",
     "exception": false,
     "start_time": "2023-01-23T15:24:21.726922",
     "status": "completed"
    },
    "tags": []
   },
   "source": [
    "# Python Comparison Operators\n",
    "### the output of these operations are Boolean"
   ]
  },
  {
   "cell_type": "code",
   "execution_count": 11,
   "id": "ccceeffa",
   "metadata": {
    "execution": {
     "iopub.execute_input": "2023-01-23T15:24:21.759695Z",
     "iopub.status.busy": "2023-01-23T15:24:21.759180Z",
     "iopub.status.idle": "2023-01-23T15:24:21.767766Z",
     "shell.execute_reply": "2023-01-23T15:24:21.766517Z"
    },
    "papermill": {
     "duration": 0.023347,
     "end_time": "2023-01-23T15:24:21.770536",
     "exception": false,
     "start_time": "2023-01-23T15:24:21.747189",
     "status": "completed"
    },
    "tags": []
   },
   "outputs": [
    {
     "name": "stdout",
     "output_type": "stream",
     "text": [
      "Equal False\n",
      "Difference True\n",
      "Great False\n",
      "Less True\n",
      "Great than False\n",
      "Less than True\n"
     ]
    }
   ],
   "source": [
    "a = 10\n",
    "b = 100\n",
    "#Equal\n",
    "o = a == b\n",
    "print(\"Equal\",o)\n",
    "#Difference\n",
    "o = a != b\n",
    "print(\"Difference\",o)\n",
    "#great\n",
    "o = a > b\n",
    "print(\"Great\",o)\n",
    "#less\n",
    "o = a < b\n",
    "print(\"Less\",o)\n",
    "#great than\n",
    "o = a >= b\n",
    "print(\"Great than\",o)\n",
    "#less than\n",
    "o = a <= b\n",
    "print(\"Less than\",o)"
   ]
  },
  {
   "cell_type": "markdown",
   "id": "c7f0c670",
   "metadata": {
    "papermill": {
     "duration": 0.010535,
     "end_time": "2023-01-23T15:24:21.792543",
     "exception": false,
     "start_time": "2023-01-23T15:24:21.782008",
     "status": "completed"
    },
    "tags": []
   },
   "source": [
    "# Python Logical Operators\n",
    "### Logical AND: True if both the operands are true\n",
    "### Logical OR: True if either of the operands is true\n",
    "### Logical NOT: True if operand is false"
   ]
  },
  {
   "cell_type": "code",
   "execution_count": 12,
   "id": "2331bd5e",
   "metadata": {
    "execution": {
     "iopub.execute_input": "2023-01-23T15:24:21.816966Z",
     "iopub.status.busy": "2023-01-23T15:24:21.816124Z",
     "iopub.status.idle": "2023-01-23T15:24:21.825853Z",
     "shell.execute_reply": "2023-01-23T15:24:21.824822Z"
    },
    "papermill": {
     "duration": 0.024347,
     "end_time": "2023-01-23T15:24:21.828042",
     "exception": false,
     "start_time": "2023-01-23T15:24:21.803695",
     "status": "completed"
    },
    "tags": []
   },
   "outputs": [
    {
     "data": {
      "text/plain": [
       "False"
      ]
     },
     "execution_count": 12,
     "metadata": {},
     "output_type": "execute_result"
    }
   ],
   "source": [
    "number = 19\n",
    "number > 0 and number < 10"
   ]
  },
  {
   "cell_type": "code",
   "execution_count": 13,
   "id": "031975c9",
   "metadata": {
    "execution": {
     "iopub.execute_input": "2023-01-23T15:24:21.852454Z",
     "iopub.status.busy": "2023-01-23T15:24:21.851416Z",
     "iopub.status.idle": "2023-01-23T15:24:21.858327Z",
     "shell.execute_reply": "2023-01-23T15:24:21.857517Z"
    },
    "papermill": {
     "duration": 0.021543,
     "end_time": "2023-01-23T15:24:21.860526",
     "exception": false,
     "start_time": "2023-01-23T15:24:21.838983",
     "status": "completed"
    },
    "tags": []
   },
   "outputs": [
    {
     "data": {
      "text/plain": [
       "True"
      ]
     },
     "execution_count": 13,
     "metadata": {},
     "output_type": "execute_result"
    }
   ],
   "source": [
    "number = 150\n",
    "number < 0 or number > 20"
   ]
  },
  {
   "cell_type": "code",
   "execution_count": 14,
   "id": "703e8c25",
   "metadata": {
    "execution": {
     "iopub.execute_input": "2023-01-23T15:24:21.884284Z",
     "iopub.status.busy": "2023-01-23T15:24:21.883857Z",
     "iopub.status.idle": "2023-01-23T15:24:21.890245Z",
     "shell.execute_reply": "2023-01-23T15:24:21.889435Z"
    },
    "papermill": {
     "duration": 0.021057,
     "end_time": "2023-01-23T15:24:21.892340",
     "exception": false,
     "start_time": "2023-01-23T15:24:21.871283",
     "status": "completed"
    },
    "tags": []
   },
   "outputs": [
    {
     "data": {
      "text/plain": [
       "False"
      ]
     },
     "execution_count": 14,
     "metadata": {},
     "output_type": "execute_result"
    }
   ],
   "source": [
    "number = 150\n",
    "not (number < 0 or number > 20)"
   ]
  },
  {
   "cell_type": "markdown",
   "id": "cf3e2b64",
   "metadata": {
    "papermill": {
     "duration": 0.010531,
     "end_time": "2023-01-23T15:24:21.913833",
     "exception": false,
     "start_time": "2023-01-23T15:24:21.903302",
     "status": "completed"
    },
    "tags": []
   },
   "source": [
    "# Input values"
   ]
  },
  {
   "cell_type": "code",
   "execution_count": 15,
   "id": "59cdc41b",
   "metadata": {
    "execution": {
     "iopub.execute_input": "2023-01-23T15:24:21.937605Z",
     "iopub.status.busy": "2023-01-23T15:24:21.937164Z",
     "iopub.status.idle": "2023-01-23T15:24:21.942996Z",
     "shell.execute_reply": "2023-01-23T15:24:21.941760Z"
    },
    "papermill": {
     "duration": 0.021633,
     "end_time": "2023-01-23T15:24:21.946221",
     "exception": false,
     "start_time": "2023-01-23T15:24:21.924588",
     "status": "completed"
    },
    "tags": []
   },
   "outputs": [
    {
     "name": "stdout",
     "output_type": "stream",
     "text": [
      "150\n",
      "<class 'int'>\n"
     ]
    }
   ],
   "source": [
    "#number = input(\"Enter a number: \") #uncomment to run\n",
    "print(number)\n",
    "print(type(number))"
   ]
  },
  {
   "cell_type": "code",
   "execution_count": 16,
   "id": "d5f8e4e0",
   "metadata": {
    "execution": {
     "iopub.execute_input": "2023-01-23T15:24:21.970293Z",
     "iopub.status.busy": "2023-01-23T15:24:21.969868Z",
     "iopub.status.idle": "2023-01-23T15:24:21.974400Z",
     "shell.execute_reply": "2023-01-23T15:24:21.973595Z"
    },
    "papermill": {
     "duration": 0.019012,
     "end_time": "2023-01-23T15:24:21.976469",
     "exception": false,
     "start_time": "2023-01-23T15:24:21.957457",
     "status": "completed"
    },
    "tags": []
   },
   "outputs": [],
   "source": [
    "#number += 100 #TypeError: can only concatenate str (not \"int\") to str"
   ]
  },
  {
   "cell_type": "markdown",
   "id": "42bbebc2",
   "metadata": {
    "papermill": {
     "duration": 0.010551,
     "end_time": "2023-01-23T15:24:21.997879",
     "exception": false,
     "start_time": "2023-01-23T15:24:21.987328",
     "status": "completed"
    },
    "tags": []
   },
   "source": [
    "# Cast Values"
   ]
  },
  {
   "cell_type": "code",
   "execution_count": 17,
   "id": "9d5f7352",
   "metadata": {
    "execution": {
     "iopub.execute_input": "2023-01-23T15:24:22.021572Z",
     "iopub.status.busy": "2023-01-23T15:24:22.021148Z",
     "iopub.status.idle": "2023-01-23T15:24:22.026874Z",
     "shell.execute_reply": "2023-01-23T15:24:22.025825Z"
    },
    "papermill": {
     "duration": 0.020831,
     "end_time": "2023-01-23T15:24:22.029648",
     "exception": false,
     "start_time": "2023-01-23T15:24:22.008817",
     "status": "completed"
    },
    "tags": []
   },
   "outputs": [
    {
     "name": "stdout",
     "output_type": "stream",
     "text": [
      "<class 'int'>\n",
      "<class 'float'>\n"
     ]
    }
   ],
   "source": [
    "a = 10 #integer\n",
    "print(type(a))\n",
    "new_a = float(a)\n",
    "print(type(new_a))"
   ]
  },
  {
   "cell_type": "code",
   "execution_count": 18,
   "id": "a2a57c7f",
   "metadata": {
    "execution": {
     "iopub.execute_input": "2023-01-23T15:24:22.054184Z",
     "iopub.status.busy": "2023-01-23T15:24:22.053750Z",
     "iopub.status.idle": "2023-01-23T15:24:22.060044Z",
     "shell.execute_reply": "2023-01-23T15:24:22.058801Z"
    },
    "papermill": {
     "duration": 0.022103,
     "end_time": "2023-01-23T15:24:22.062785",
     "exception": false,
     "start_time": "2023-01-23T15:24:22.040682",
     "status": "completed"
    },
    "tags": []
   },
   "outputs": [
    {
     "name": "stdout",
     "output_type": "stream",
     "text": [
      "<class 'float'>\n",
      "25\n",
      "<class 'int'>\n"
     ]
    }
   ],
   "source": [
    "b = 25.4234\n",
    "print(type(b))\n",
    "new_b = int(b)\n",
    "print(new_b)\n",
    "print(type(new_b))"
   ]
  },
  {
   "cell_type": "code",
   "execution_count": 19,
   "id": "07efbe23",
   "metadata": {
    "execution": {
     "iopub.execute_input": "2023-01-23T15:24:22.087304Z",
     "iopub.status.busy": "2023-01-23T15:24:22.086882Z",
     "iopub.status.idle": "2023-01-23T15:24:22.093842Z",
     "shell.execute_reply": "2023-01-23T15:24:22.092287Z"
    },
    "papermill": {
     "duration": 0.022171,
     "end_time": "2023-01-23T15:24:22.096314",
     "exception": false,
     "start_time": "2023-01-23T15:24:22.074143",
     "status": "completed"
    },
    "tags": []
   },
   "outputs": [
    {
     "name": "stdout",
     "output_type": "stream",
     "text": [
      "<class 'str'>\n",
      "<class 'int'>\n"
     ]
    }
   ],
   "source": [
    "a = '10'\n",
    "new_a = int(a)\n",
    "print(type(a))\n",
    "print(type(new_a))"
   ]
  },
  {
   "cell_type": "code",
   "execution_count": 20,
   "id": "86a3c21c",
   "metadata": {
    "execution": {
     "iopub.execute_input": "2023-01-23T15:24:22.121147Z",
     "iopub.status.busy": "2023-01-23T15:24:22.120619Z",
     "iopub.status.idle": "2023-01-23T15:24:22.127686Z",
     "shell.execute_reply": "2023-01-23T15:24:22.126453Z"
    },
    "papermill": {
     "duration": 0.023067,
     "end_time": "2023-01-23T15:24:22.130791",
     "exception": false,
     "start_time": "2023-01-23T15:24:22.107724",
     "status": "completed"
    },
    "tags": []
   },
   "outputs": [
    {
     "name": "stdout",
     "output_type": "stream",
     "text": [
      "<class 'str'>\n",
      "<class 'float'>\n"
     ]
    }
   ],
   "source": [
    "b = \"1.56\"\n",
    "new_b = float(b)\n",
    "print(type(b))\n",
    "print(type(new_b))"
   ]
  },
  {
   "cell_type": "code",
   "execution_count": 21,
   "id": "960c8522",
   "metadata": {
    "execution": {
     "iopub.execute_input": "2023-01-23T15:24:22.155418Z",
     "iopub.status.busy": "2023-01-23T15:24:22.154980Z",
     "iopub.status.idle": "2023-01-23T15:24:22.160379Z",
     "shell.execute_reply": "2023-01-23T15:24:22.159057Z"
    },
    "papermill": {
     "duration": 0.020577,
     "end_time": "2023-01-23T15:24:22.162755",
     "exception": false,
     "start_time": "2023-01-23T15:24:22.142178",
     "status": "completed"
    },
    "tags": []
   },
   "outputs": [],
   "source": [
    "c = \"text\"\n",
    "#print(int(c)) #ValueError: invalid literal for int() with base 10: 'text'"
   ]
  },
  {
   "cell_type": "code",
   "execution_count": 22,
   "id": "722c84a9",
   "metadata": {
    "execution": {
     "iopub.execute_input": "2023-01-23T15:24:22.187599Z",
     "iopub.status.busy": "2023-01-23T15:24:22.186429Z",
     "iopub.status.idle": "2023-01-23T15:24:22.193317Z",
     "shell.execute_reply": "2023-01-23T15:24:22.191922Z"
    },
    "papermill": {
     "duration": 0.021848,
     "end_time": "2023-01-23T15:24:22.195808",
     "exception": false,
     "start_time": "2023-01-23T15:24:22.173960",
     "status": "completed"
    },
    "tags": []
   },
   "outputs": [
    {
     "name": "stdout",
     "output_type": "stream",
     "text": [
      "150\n",
      "<class 'int'>\n"
     ]
    }
   ],
   "source": [
    "#number = int(input(\"Enter a number: \")) #uncomment to run\n",
    "print(number)\n",
    "print(type(number))"
   ]
  },
  {
   "cell_type": "code",
   "execution_count": null,
   "id": "5e5ad0a6",
   "metadata": {
    "papermill": {
     "duration": 0.01085,
     "end_time": "2023-01-23T15:24:22.217913",
     "exception": false,
     "start_time": "2023-01-23T15:24:22.207063",
     "status": "completed"
    },
    "tags": []
   },
   "outputs": [],
   "source": []
  },
  {
   "cell_type": "markdown",
   "id": "23d71893",
   "metadata": {
    "papermill": {
     "duration": 0.01087,
     "end_time": "2023-01-23T15:24:22.239890",
     "exception": false,
     "start_time": "2023-01-23T15:24:22.229020",
     "status": "completed"
    },
    "tags": []
   },
   "source": [
    "# String Methods"
   ]
  },
  {
   "cell_type": "code",
   "execution_count": 23,
   "id": "3c5ae671",
   "metadata": {
    "execution": {
     "iopub.execute_input": "2023-01-23T15:24:22.264168Z",
     "iopub.status.busy": "2023-01-23T15:24:22.263749Z",
     "iopub.status.idle": "2023-01-23T15:24:22.270243Z",
     "shell.execute_reply": "2023-01-23T15:24:22.269451Z"
    },
    "papermill": {
     "duration": 0.021785,
     "end_time": "2023-01-23T15:24:22.272823",
     "exception": false,
     "start_time": "2023-01-23T15:24:22.251038",
     "status": "completed"
    },
    "tags": []
   },
   "outputs": [
    {
     "name": "stdout",
     "output_type": "stream",
     "text": [
      "Capitalize Hello world\n",
      "Title Hello World\n",
      "LowerCase hello world\n",
      "UpperCase HELLO WORLD\n"
     ]
    }
   ],
   "source": [
    "string1 = \"hello world\"\n",
    "print(\"Capitalize\",string1.capitalize())\n",
    "print(\"Title\",string1.title())\n",
    "print(\"LowerCase\",string1.lower())\n",
    "print(\"UpperCase\",string1.upper())"
   ]
  },
  {
   "cell_type": "code",
   "execution_count": 24,
   "id": "84751d15",
   "metadata": {
    "execution": {
     "iopub.execute_input": "2023-01-23T15:24:22.298039Z",
     "iopub.status.busy": "2023-01-23T15:24:22.297612Z",
     "iopub.status.idle": "2023-01-23T15:24:22.302094Z",
     "shell.execute_reply": "2023-01-23T15:24:22.301254Z"
    },
    "papermill": {
     "duration": 0.020409,
     "end_time": "2023-01-23T15:24:22.304908",
     "exception": false,
     "start_time": "2023-01-23T15:24:22.284499",
     "status": "completed"
    },
    "tags": []
   },
   "outputs": [],
   "source": [
    "string2 = '10'"
   ]
  },
  {
   "cell_type": "code",
   "execution_count": 25,
   "id": "4718d890",
   "metadata": {
    "execution": {
     "iopub.execute_input": "2023-01-23T15:24:22.330405Z",
     "iopub.status.busy": "2023-01-23T15:24:22.329664Z",
     "iopub.status.idle": "2023-01-23T15:24:22.336938Z",
     "shell.execute_reply": "2023-01-23T15:24:22.336138Z"
    },
    "papermill": {
     "duration": 0.02276,
     "end_time": "2023-01-23T15:24:22.339220",
     "exception": false,
     "start_time": "2023-01-23T15:24:22.316460",
     "status": "completed"
    },
    "tags": []
   },
   "outputs": [
    {
     "data": {
      "text/plain": [
       "['__add__',\n",
       " '__class__',\n",
       " '__contains__',\n",
       " '__delattr__',\n",
       " '__dir__',\n",
       " '__doc__',\n",
       " '__eq__',\n",
       " '__format__',\n",
       " '__ge__',\n",
       " '__getattribute__',\n",
       " '__getitem__',\n",
       " '__getnewargs__',\n",
       " '__gt__',\n",
       " '__hash__',\n",
       " '__init__',\n",
       " '__init_subclass__',\n",
       " '__iter__',\n",
       " '__le__',\n",
       " '__len__',\n",
       " '__lt__',\n",
       " '__mod__',\n",
       " '__mul__',\n",
       " '__ne__',\n",
       " '__new__',\n",
       " '__reduce__',\n",
       " '__reduce_ex__',\n",
       " '__repr__',\n",
       " '__rmod__',\n",
       " '__rmul__',\n",
       " '__setattr__',\n",
       " '__sizeof__',\n",
       " '__str__',\n",
       " '__subclasshook__',\n",
       " 'capitalize',\n",
       " 'casefold',\n",
       " 'center',\n",
       " 'count',\n",
       " 'encode',\n",
       " 'endswith',\n",
       " 'expandtabs',\n",
       " 'find',\n",
       " 'format',\n",
       " 'format_map',\n",
       " 'index',\n",
       " 'isalnum',\n",
       " 'isalpha',\n",
       " 'isascii',\n",
       " 'isdecimal',\n",
       " 'isdigit',\n",
       " 'isidentifier',\n",
       " 'islower',\n",
       " 'isnumeric',\n",
       " 'isprintable',\n",
       " 'isspace',\n",
       " 'istitle',\n",
       " 'isupper',\n",
       " 'join',\n",
       " 'ljust',\n",
       " 'lower',\n",
       " 'lstrip',\n",
       " 'maketrans',\n",
       " 'partition',\n",
       " 'replace',\n",
       " 'rfind',\n",
       " 'rindex',\n",
       " 'rjust',\n",
       " 'rpartition',\n",
       " 'rsplit',\n",
       " 'rstrip',\n",
       " 'split',\n",
       " 'splitlines',\n",
       " 'startswith',\n",
       " 'strip',\n",
       " 'swapcase',\n",
       " 'title',\n",
       " 'translate',\n",
       " 'upper',\n",
       " 'zfill']"
      ]
     },
     "execution_count": 25,
     "metadata": {},
     "output_type": "execute_result"
    }
   ],
   "source": [
    "dir(string2)"
   ]
  },
  {
   "cell_type": "code",
   "execution_count": 26,
   "id": "9842ad81",
   "metadata": {
    "execution": {
     "iopub.execute_input": "2023-01-23T15:24:22.365463Z",
     "iopub.status.busy": "2023-01-23T15:24:22.364736Z",
     "iopub.status.idle": "2023-01-23T15:24:22.371501Z",
     "shell.execute_reply": "2023-01-23T15:24:22.369981Z"
    },
    "papermill": {
     "duration": 0.022736,
     "end_time": "2023-01-23T15:24:22.374174",
     "exception": false,
     "start_time": "2023-01-23T15:24:22.351438",
     "status": "completed"
    },
    "tags": []
   },
   "outputs": [
    {
     "name": "stdout",
     "output_type": "stream",
     "text": [
      "Help on built-in function isalnum:\n",
      "\n",
      "isalnum() method of builtins.str instance\n",
      "    Return True if the string is an alpha-numeric string, False otherwise.\n",
      "    \n",
      "    A string is alpha-numeric if all characters in the string are alpha-numeric and\n",
      "    there is at least one character in the string.\n",
      "\n"
     ]
    }
   ],
   "source": [
    "help(string2.isalnum)"
   ]
  },
  {
   "cell_type": "code",
   "execution_count": 27,
   "id": "ccff8175",
   "metadata": {
    "execution": {
     "iopub.execute_input": "2023-01-23T15:24:22.400610Z",
     "iopub.status.busy": "2023-01-23T15:24:22.399254Z",
     "iopub.status.idle": "2023-01-23T15:24:22.406267Z",
     "shell.execute_reply": "2023-01-23T15:24:22.404834Z"
    },
    "papermill": {
     "duration": 0.023259,
     "end_time": "2023-01-23T15:24:22.409023",
     "exception": false,
     "start_time": "2023-01-23T15:24:22.385764",
     "status": "completed"
    },
    "tags": []
   },
   "outputs": [
    {
     "name": "stdout",
     "output_type": "stream",
     "text": [
      "True\n"
     ]
    }
   ],
   "source": [
    "string3 = \"HelloWorld\"\n",
    "print(string3.isalnum())"
   ]
  },
  {
   "cell_type": "code",
   "execution_count": 28,
   "id": "72d8f058",
   "metadata": {
    "execution": {
     "iopub.execute_input": "2023-01-23T15:24:22.433400Z",
     "iopub.status.busy": "2023-01-23T15:24:22.433016Z",
     "iopub.status.idle": "2023-01-23T15:24:22.439960Z",
     "shell.execute_reply": "2023-01-23T15:24:22.438383Z"
    },
    "papermill": {
     "duration": 0.022369,
     "end_time": "2023-01-23T15:24:22.442778",
     "exception": false,
     "start_time": "2023-01-23T15:24:22.420409",
     "status": "completed"
    },
    "tags": []
   },
   "outputs": [
    {
     "name": "stdout",
     "output_type": "stream",
     "text": [
      "True\n",
      "True\n",
      "True\n"
     ]
    }
   ],
   "source": [
    "string4 = \"150\"\n",
    "print(string4.isnumeric()) # method supports Digits, Vulgar Fractions, Subscripts, Superscripts, Roman Numerals, Currency Numerators\n",
    "print(string4.isdigit()) # method supports Decimals, Subscripts, Superscripts.\n",
    "print(string4.isdecimal()) # method supports only Decimal Numbers"
   ]
  },
  {
   "cell_type": "code",
   "execution_count": 29,
   "id": "504838b5",
   "metadata": {
    "execution": {
     "iopub.execute_input": "2023-01-23T15:24:22.466969Z",
     "iopub.status.busy": "2023-01-23T15:24:22.466540Z",
     "iopub.status.idle": "2023-01-23T15:24:22.472983Z",
     "shell.execute_reply": "2023-01-23T15:24:22.471835Z"
    },
    "papermill": {
     "duration": 0.021363,
     "end_time": "2023-01-23T15:24:22.475381",
     "exception": false,
     "start_time": "2023-01-23T15:24:22.454018",
     "status": "completed"
    },
    "tags": []
   },
   "outputs": [
    {
     "name": "stdout",
     "output_type": "stream",
     "text": [
      "²\n"
     ]
    }
   ],
   "source": [
    "print('\\u00B2')"
   ]
  },
  {
   "cell_type": "code",
   "execution_count": 30,
   "id": "5b81d4cd",
   "metadata": {
    "execution": {
     "iopub.execute_input": "2023-01-23T15:24:22.500994Z",
     "iopub.status.busy": "2023-01-23T15:24:22.499373Z",
     "iopub.status.idle": "2023-01-23T15:24:22.507362Z",
     "shell.execute_reply": "2023-01-23T15:24:22.506189Z"
    },
    "papermill": {
     "duration": 0.022987,
     "end_time": "2023-01-23T15:24:22.509684",
     "exception": false,
     "start_time": "2023-01-23T15:24:22.486697",
     "status": "completed"
    },
    "tags": []
   },
   "outputs": [
    {
     "data": {
      "text/plain": [
       "False"
      ]
     },
     "execution_count": 30,
     "metadata": {},
     "output_type": "execute_result"
    }
   ],
   "source": [
    "'\\u00B2'.isdecimal()"
   ]
  },
  {
   "cell_type": "code",
   "execution_count": 31,
   "id": "0e3b5277",
   "metadata": {
    "execution": {
     "iopub.execute_input": "2023-01-23T15:24:22.534588Z",
     "iopub.status.busy": "2023-01-23T15:24:22.534206Z",
     "iopub.status.idle": "2023-01-23T15:24:22.542076Z",
     "shell.execute_reply": "2023-01-23T15:24:22.540895Z"
    },
    "papermill": {
     "duration": 0.022821,
     "end_time": "2023-01-23T15:24:22.544153",
     "exception": false,
     "start_time": "2023-01-23T15:24:22.521332",
     "status": "completed"
    },
    "tags": []
   },
   "outputs": [
    {
     "data": {
      "text/plain": [
       "True"
      ]
     },
     "execution_count": 31,
     "metadata": {},
     "output_type": "execute_result"
    }
   ],
   "source": [
    "'\\u00B2'.isdigit()"
   ]
  },
  {
   "cell_type": "code",
   "execution_count": 32,
   "id": "893c5bfd",
   "metadata": {
    "execution": {
     "iopub.execute_input": "2023-01-23T15:24:22.569374Z",
     "iopub.status.busy": "2023-01-23T15:24:22.568933Z",
     "iopub.status.idle": "2023-01-23T15:24:22.575380Z",
     "shell.execute_reply": "2023-01-23T15:24:22.573879Z"
    },
    "papermill": {
     "duration": 0.022751,
     "end_time": "2023-01-23T15:24:22.578411",
     "exception": false,
     "start_time": "2023-01-23T15:24:22.555660",
     "status": "completed"
    },
    "tags": []
   },
   "outputs": [
    {
     "name": "stdout",
     "output_type": "stream",
     "text": [
      "² False\n",
      "² True\n",
      "² True\n"
     ]
    }
   ],
   "source": [
    "print('\\u00b2','\\u00b2'.isdecimal())    # Prints False\n",
    "print('\\u00b2','\\u00b2'.isdigit())      # Prints True\n",
    "print('\\u00b2','\\u00b2'.isnumeric())    # Prints True"
   ]
  },
  {
   "cell_type": "code",
   "execution_count": 33,
   "id": "78c0ea85",
   "metadata": {
    "execution": {
     "iopub.execute_input": "2023-01-23T15:24:22.603672Z",
     "iopub.status.busy": "2023-01-23T15:24:22.603246Z",
     "iopub.status.idle": "2023-01-23T15:24:22.609969Z",
     "shell.execute_reply": "2023-01-23T15:24:22.608717Z"
    },
    "papermill": {
     "duration": 0.022968,
     "end_time": "2023-01-23T15:24:22.613073",
     "exception": false,
     "start_time": "2023-01-23T15:24:22.590105",
     "status": "completed"
    },
    "tags": []
   },
   "outputs": [
    {
     "name": "stdout",
     "output_type": "stream",
     "text": [
      "⅓ False\n",
      "⅓ False\n",
      "⅓ True\n"
     ]
    }
   ],
   "source": [
    "print('\\u2153','\\u2153'.isdecimal())    # Prints False\n",
    "print('\\u2153','\\u2153'.isdigit())      # Prints False\n",
    "print('\\u2153','\\u2153'.isnumeric())    # Prints True"
   ]
  },
  {
   "cell_type": "code",
   "execution_count": 34,
   "id": "a20472a7",
   "metadata": {
    "execution": {
     "iopub.execute_input": "2023-01-23T15:24:22.639628Z",
     "iopub.status.busy": "2023-01-23T15:24:22.639244Z",
     "iopub.status.idle": "2023-01-23T15:24:22.646125Z",
     "shell.execute_reply": "2023-01-23T15:24:22.644725Z"
    },
    "papermill": {
     "duration": 0.022993,
     "end_time": "2023-01-23T15:24:22.648998",
     "exception": false,
     "start_time": "2023-01-23T15:24:22.626005",
     "status": "completed"
    },
    "tags": []
   },
   "outputs": [
    {
     "name": "stdout",
     "output_type": "stream",
     "text": [
      "14\n",
      "14\n"
     ]
    }
   ],
   "source": [
    "round(0.1 + 0.2,1) == 0.3\n",
    "print(round(13.5))\n",
    "print(round(14.5))\n",
    "# Home work\n",
    "# The round() function can round the values up and down both depending on the situation. For <0.5, it rounds down, and for >0.5, it rounds up. For =0.5, the round() function rounds the number off to the nearest even number. So, 0.5 is rounded to zero, and so is -0.5; 33.5 and 34.5 are both rounded off to 34; -33.5 -34.5 are both rounded off to -34, and so on."
   ]
  }
 ],
 "metadata": {
  "kernelspec": {
   "display_name": "Python 3",
   "language": "python",
   "name": "python3"
  },
  "language_info": {
   "codemirror_mode": {
    "name": "ipython",
    "version": 3
   },
   "file_extension": ".py",
   "mimetype": "text/x-python",
   "name": "python",
   "nbconvert_exporter": "python",
   "pygments_lexer": "ipython3",
   "version": "3.7.12"
  },
  "papermill": {
   "default_parameters": {},
   "duration": 13.119407,
   "end_time": "2023-01-23T15:24:23.686481",
   "environment_variables": {},
   "exception": null,
   "input_path": "__notebook__.ipynb",
   "output_path": "__notebook__.ipynb",
   "parameters": {},
   "start_time": "2023-01-23T15:24:10.567074",
   "version": "2.3.4"
  }
 },
 "nbformat": 4,
 "nbformat_minor": 5
}
