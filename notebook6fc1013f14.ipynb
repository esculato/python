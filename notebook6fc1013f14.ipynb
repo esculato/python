{
 "cells": [
  {
   "cell_type": "markdown",
   "id": "539d79e5",
   "metadata": {
    "papermill": {
     "duration": 0.01223,
     "end_time": "2023-01-17T15:16:40.604909",
     "exception": false,
     "start_time": "2023-01-17T15:16:40.592679",
     "status": "completed"
    },
    "tags": []
   },
   "source": [
    "# Python Data types"
   ]
  },
  {
   "cell_type": "code",
   "execution_count": 1,
   "id": "ac44c342",
   "metadata": {
    "execution": {
     "iopub.execute_input": "2023-01-17T15:16:40.628902Z",
     "iopub.status.busy": "2023-01-17T15:16:40.627340Z",
     "iopub.status.idle": "2023-01-17T15:16:40.640249Z",
     "shell.execute_reply": "2023-01-17T15:16:40.639259Z"
    },
    "papermill": {
     "duration": 0.027501,
     "end_time": "2023-01-17T15:16:40.642964",
     "exception": false,
     "start_time": "2023-01-17T15:16:40.615463",
     "status": "completed"
    },
    "tags": []
   },
   "outputs": [],
   "source": [
    "#integers\n",
    "number1 = 10\n",
    "#float\n",
    "number2 = 25.57748\n",
    "#string\n",
    "string1 = \"Hello World!!!\"\n",
    "string2 = 'Hello World!!!'\n",
    "string3 = \"This is a message with quotation marks 'Message'.\"\n",
    "text = \"\"\"\n",
    "Lorem ipsum dolor sit amet, consectetur adipiscing elit.\n",
    "Maecenas pulvinar urna at nulla sagittis porta.\n",
    "Fusce dui enim, dictum nec orci a, consectetur consequat elit.\n",
    "In feugiat libero tortor, id bibendum ex ultricies sed.\n",
    "Cras a tristique ipsum. Sed sagittis maximus metus, ut vehicula neque tempor a.\n",
    "Vivamus scelerisque odio quis faucibus mattis.\n",
    "Morbi non arcu non nulla interdum cursus.\n",
    "Vivamus dui elit, sagittis quis porttitor quis, sollicitudin nec nibh.\n",
    "Suspendisse auctor est vel quam malesuada fermentum.\n",
    "\"\"\"\n",
    "#bool\n",
    "bool1 = True\n",
    "bool2 = False\n",
    "#bool3 = true\n",
    "#bool4 = false"
   ]
  },
  {
   "cell_type": "markdown",
   "id": "59bec784",
   "metadata": {
    "papermill": {
     "duration": 0.012148,
     "end_time": "2023-01-17T15:16:40.665311",
     "exception": false,
     "start_time": "2023-01-17T15:16:40.653163",
     "status": "completed"
    },
    "tags": []
   },
   "source": [
    "## Python print function\n",
    "### The print function is used to display elements on the screen"
   ]
  },
  {
   "cell_type": "code",
   "execution_count": 2,
   "id": "d47bec48",
   "metadata": {
    "execution": {
     "iopub.execute_input": "2023-01-17T15:16:40.688587Z",
     "iopub.status.busy": "2023-01-17T15:16:40.687140Z",
     "iopub.status.idle": "2023-01-17T15:16:40.694774Z",
     "shell.execute_reply": "2023-01-17T15:16:40.693293Z"
    },
    "papermill": {
     "duration": 0.021978,
     "end_time": "2023-01-17T15:16:40.697367",
     "exception": false,
     "start_time": "2023-01-17T15:16:40.675389",
     "status": "completed"
    },
    "tags": []
   },
   "outputs": [
    {
     "name": "stdout",
     "output_type": "stream",
     "text": [
      "Hello World!!! Hello World!!! This is a message with quotation marks 'Message'. 10 25.57748 True False\n",
      "10 25.57748\n"
     ]
    }
   ],
   "source": [
    "print(string1,string2,string3,number1,number2,bool1,bool2)\n",
    "print(number1,number2)"
   ]
  },
  {
   "cell_type": "markdown",
   "id": "9bb88fa2",
   "metadata": {
    "papermill": {
     "duration": 0.009833,
     "end_time": "2023-01-17T15:16:40.718020",
     "exception": false,
     "start_time": "2023-01-17T15:16:40.708187",
     "status": "completed"
    },
    "tags": []
   },
   "source": [
    "### print options\n",
    "#### sep = \" \" is used to indicate the separator element by default is a space\n",
    "#### end = \"\\n\" is used to indicate the endline by default is a line break \\n"
   ]
  },
  {
   "cell_type": "code",
   "execution_count": 3,
   "id": "c4d7fc05",
   "metadata": {
    "execution": {
     "iopub.execute_input": "2023-01-17T15:16:40.740932Z",
     "iopub.status.busy": "2023-01-17T15:16:40.740407Z",
     "iopub.status.idle": "2023-01-17T15:16:40.747226Z",
     "shell.execute_reply": "2023-01-17T15:16:40.745716Z"
    },
    "papermill": {
     "duration": 0.022357,
     "end_time": "2023-01-17T15:16:40.750535",
     "exception": false,
     "start_time": "2023-01-17T15:16:40.728178",
     "status": "completed"
    },
    "tags": []
   },
   "outputs": [
    {
     "name": "stdout",
     "output_type": "stream",
     "text": [
      "Hello World!!!,Hello World!!!,This is a message with quotation marks 'Message'.\n"
     ]
    }
   ],
   "source": [
    "print(string1,string2,string3,sep = \",\")"
   ]
  },
  {
   "cell_type": "code",
   "execution_count": 4,
   "id": "917bbb3c",
   "metadata": {
    "execution": {
     "iopub.execute_input": "2023-01-17T15:16:40.773842Z",
     "iopub.status.busy": "2023-01-17T15:16:40.773285Z",
     "iopub.status.idle": "2023-01-17T15:16:40.779989Z",
     "shell.execute_reply": "2023-01-17T15:16:40.778638Z"
    },
    "papermill": {
     "duration": 0.02175,
     "end_time": "2023-01-17T15:16:40.783140",
     "exception": false,
     "start_time": "2023-01-17T15:16:40.761390",
     "status": "completed"
    },
    "tags": []
   },
   "outputs": [
    {
     "name": "stdout",
     "output_type": "stream",
     "text": [
      "Hello World!!!____Hello World!!!____This is a message with quotation marks 'Message'.\n",
      "\n",
      "\n",
      "\n",
      "10 25.57748\n"
     ]
    }
   ],
   "source": [
    "print(string1,string2,string3,sep = \"____\",end = \"\\n\\n\\n\\n\")\n",
    "print(number1,number2)"
   ]
  },
  {
   "cell_type": "code",
   "execution_count": 5,
   "id": "1205e985",
   "metadata": {
    "execution": {
     "iopub.execute_input": "2023-01-17T15:16:40.806718Z",
     "iopub.status.busy": "2023-01-17T15:16:40.806186Z",
     "iopub.status.idle": "2023-01-17T15:16:40.813291Z",
     "shell.execute_reply": "2023-01-17T15:16:40.812123Z"
    },
    "papermill": {
     "duration": 0.021929,
     "end_time": "2023-01-17T15:16:40.816075",
     "exception": false,
     "start_time": "2023-01-17T15:16:40.794146",
     "status": "completed"
    },
    "tags": []
   },
   "outputs": [
    {
     "name": "stdout",
     "output_type": "stream",
     "text": [
      "<class 'int'>\n",
      "<class 'str'>\n",
      "<class 'bool'>\n"
     ]
    }
   ],
   "source": [
    "print(type(number1))\n",
    "print(type(string1))\n",
    "print(type(bool1))"
   ]
  },
  {
   "cell_type": "markdown",
   "id": "8d605e3b",
   "metadata": {
    "papermill": {
     "duration": 0.010026,
     "end_time": "2023-01-17T15:16:40.836379",
     "exception": false,
     "start_time": "2023-01-17T15:16:40.826353",
     "status": "completed"
    },
    "tags": []
   },
   "source": [
    "# Python Arithmetic  Operations"
   ]
  },
  {
   "cell_type": "code",
   "execution_count": 6,
   "id": "ca15f74d",
   "metadata": {
    "execution": {
     "iopub.execute_input": "2023-01-17T15:16:40.859017Z",
     "iopub.status.busy": "2023-01-17T15:16:40.858501Z",
     "iopub.status.idle": "2023-01-17T15:16:40.867932Z",
     "shell.execute_reply": "2023-01-17T15:16:40.866600Z"
    },
    "papermill": {
     "duration": 0.023916,
     "end_time": "2023-01-17T15:16:40.870598",
     "exception": false,
     "start_time": "2023-01-17T15:16:40.846682",
     "status": "completed"
    },
    "tags": []
   },
   "outputs": [
    {
     "name": "stdout",
     "output_type": "stream",
     "text": [
      "35.57748\n",
      "15.577480000000001\n",
      "255.77480000000003\n",
      "0.39096893048103254\n",
      "3.7798972983064925e+25 3.7798972983064925e+25\n",
      "2.0\n",
      "5.577480000000001\n"
     ]
    }
   ],
   "source": [
    "#Addition \n",
    "addition = number1 + number2\n",
    "print(addition)\n",
    "#Subtraction\n",
    "substraction = number2 - number1\n",
    "print(substraction)\n",
    "#Multiplication\n",
    "multiplication = number1 * number2\n",
    "print(multiplication)\n",
    "#division\n",
    "division = number1 / number2\n",
    "print(division)\n",
    "#Exponent\n",
    "exponent1 = number1 ** number2\n",
    "exponent2 = pow(number1, number2)\n",
    "print(exponent1, exponent2)\n",
    "#Floor Division\n",
    "fdivision = number2 // number1\n",
    "print(fdivision)\n",
    "#Modulus\n",
    "# D = d * q + r\n",
    "# Dividend =  divisor * quotient + remainder  \n",
    "#module = r\n",
    "modulus = number2 % number1\n",
    "print(modulus)"
   ]
  },
  {
   "cell_type": "code",
   "execution_count": 7,
   "id": "80763986",
   "metadata": {
    "execution": {
     "iopub.execute_input": "2023-01-17T15:16:40.893284Z",
     "iopub.status.busy": "2023-01-17T15:16:40.892782Z",
     "iopub.status.idle": "2023-01-17T15:16:40.899211Z",
     "shell.execute_reply": "2023-01-17T15:16:40.897931Z"
    },
    "papermill": {
     "duration": 0.021061,
     "end_time": "2023-01-17T15:16:40.902012",
     "exception": false,
     "start_time": "2023-01-17T15:16:40.880951",
     "status": "completed"
    },
    "tags": []
   },
   "outputs": [
    {
     "name": "stdout",
     "output_type": "stream",
     "text": [
      "0\n"
     ]
    }
   ],
   "source": [
    "number4 = 256\n",
    "print(number4 % 4)"
   ]
  },
  {
   "cell_type": "markdown",
   "id": "37d115ff",
   "metadata": {
    "papermill": {
     "duration": 0.010097,
     "end_time": "2023-01-17T15:16:40.922522",
     "exception": false,
     "start_time": "2023-01-17T15:16:40.912425",
     "status": "completed"
    },
    "tags": []
   },
   "source": [
    "# Python Assignment Operators"
   ]
  },
  {
   "cell_type": "code",
   "execution_count": 8,
   "id": "fd67a8b6",
   "metadata": {
    "execution": {
     "iopub.execute_input": "2023-01-17T15:16:40.947323Z",
     "iopub.status.busy": "2023-01-17T15:16:40.946373Z",
     "iopub.status.idle": "2023-01-17T15:16:40.954684Z",
     "shell.execute_reply": "2023-01-17T15:16:40.953529Z"
    },
    "papermill": {
     "duration": 0.023672,
     "end_time": "2023-01-17T15:16:40.957376",
     "exception": false,
     "start_time": "2023-01-17T15:16:40.933704",
     "status": "completed"
    },
    "tags": []
   },
   "outputs": [
    {
     "name": "stdout",
     "output_type": "stream",
     "text": [
      "Add:20\n",
      "Sub:33\n",
      "Mul:30\n",
      "Div:5.0\n"
     ]
    }
   ],
   "source": [
    "a = 10\n",
    "a += 10 # a = a + 10\n",
    "print(\"Add\",a,sep = \":\")\n",
    "b = 35\n",
    "b -= 2 #b = b - 2\n",
    "print(\"Sub\",b,sep = \":\")\n",
    "c = 15\n",
    "c *= 2 #c = c * 5\n",
    "print(\"Mul\",c,sep = \":\")\n",
    "d = 25\n",
    "d /= 5\n",
    "print(\"Div\",d,sep = \":\")"
   ]
  },
  {
   "cell_type": "code",
   "execution_count": 9,
   "id": "f81c9a9b",
   "metadata": {
    "execution": {
     "iopub.execute_input": "2023-01-17T15:16:40.980492Z",
     "iopub.status.busy": "2023-01-17T15:16:40.979985Z",
     "iopub.status.idle": "2023-01-17T15:16:40.986528Z",
     "shell.execute_reply": "2023-01-17T15:16:40.985282Z"
    },
    "papermill": {
     "duration": 0.020754,
     "end_time": "2023-01-17T15:16:40.988825",
     "exception": false,
     "start_time": "2023-01-17T15:16:40.968071",
     "status": "completed"
    },
    "tags": []
   },
   "outputs": [
    {
     "name": "stdout",
     "output_type": "stream",
     "text": [
      "Hello World!!!Hello World!!!Hello World!!!Hello World!!!Hello World!!!Hello World!!!Hello World!!!Hello World!!!Hello World!!!Hello World!!!\n",
      "**************************************************************************************************************\n",
      "Another process\n"
     ]
    }
   ],
   "source": [
    "string = \"Hello World!!!\"\n",
    "print(string * 10)\n",
    "print(\"*\"*110)\n",
    "print(\"Another process\")"
   ]
  },
  {
   "cell_type": "code",
   "execution_count": 10,
   "id": "4b726ced",
   "metadata": {
    "execution": {
     "iopub.execute_input": "2023-01-17T15:16:41.011993Z",
     "iopub.status.busy": "2023-01-17T15:16:41.011491Z",
     "iopub.status.idle": "2023-01-17T15:16:41.017188Z",
     "shell.execute_reply": "2023-01-17T15:16:41.015985Z"
    },
    "papermill": {
     "duration": 0.020363,
     "end_time": "2023-01-17T15:16:41.019779",
     "exception": false,
     "start_time": "2023-01-17T15:16:40.999416",
     "status": "completed"
    },
    "tags": []
   },
   "outputs": [],
   "source": [
    "string = \"Hello\"\n",
    "#print(string/10)"
   ]
  },
  {
   "cell_type": "markdown",
   "id": "90a89d9a",
   "metadata": {
    "papermill": {
     "duration": 0.010277,
     "end_time": "2023-01-17T15:16:41.041138",
     "exception": false,
     "start_time": "2023-01-17T15:16:41.030861",
     "status": "completed"
    },
    "tags": []
   },
   "source": [
    "# Python Comparison Operators\n",
    "### the output of these operations are Boolean"
   ]
  },
  {
   "cell_type": "code",
   "execution_count": 11,
   "id": "38c27797",
   "metadata": {
    "execution": {
     "iopub.execute_input": "2023-01-17T15:16:41.064741Z",
     "iopub.status.busy": "2023-01-17T15:16:41.063665Z",
     "iopub.status.idle": "2023-01-17T15:16:41.072797Z",
     "shell.execute_reply": "2023-01-17T15:16:41.071664Z"
    },
    "papermill": {
     "duration": 0.023697,
     "end_time": "2023-01-17T15:16:41.075340",
     "exception": false,
     "start_time": "2023-01-17T15:16:41.051643",
     "status": "completed"
    },
    "tags": []
   },
   "outputs": [
    {
     "name": "stdout",
     "output_type": "stream",
     "text": [
      "Equal False\n",
      "Difference True\n",
      "Great False\n",
      "Less True\n",
      "Great than False\n",
      "Less than True\n"
     ]
    }
   ],
   "source": [
    "a = 10\n",
    "b = 100\n",
    "#Equal\n",
    "o = a == b\n",
    "print(\"Equal\",o)\n",
    "#Difference\n",
    "o = a != b\n",
    "print(\"Difference\",o)\n",
    "#great\n",
    "o = a > b\n",
    "print(\"Great\",o)\n",
    "#less\n",
    "o = a < b\n",
    "print(\"Less\",o)\n",
    "#great than\n",
    "o = a >= b\n",
    "print(\"Great than\",o)\n",
    "#less than\n",
    "o = a <= b\n",
    "print(\"Less than\",o)"
   ]
  },
  {
   "cell_type": "markdown",
   "id": "310c8025",
   "metadata": {
    "papermill": {
     "duration": 0.010226,
     "end_time": "2023-01-17T15:16:41.096475",
     "exception": false,
     "start_time": "2023-01-17T15:16:41.086249",
     "status": "completed"
    },
    "tags": []
   },
   "source": [
    "# Python Logical Operators\n",
    "### Logical AND: True if both the operands are true\n",
    "### Logical OR: True if either of the operands is true\n",
    "### Logical NOT: True if operand is false"
   ]
  },
  {
   "cell_type": "code",
   "execution_count": 12,
   "id": "61ca8a2a",
   "metadata": {
    "execution": {
     "iopub.execute_input": "2023-01-17T15:16:41.120031Z",
     "iopub.status.busy": "2023-01-17T15:16:41.119487Z",
     "iopub.status.idle": "2023-01-17T15:16:41.130069Z",
     "shell.execute_reply": "2023-01-17T15:16:41.128873Z"
    },
    "papermill": {
     "duration": 0.025263,
     "end_time": "2023-01-17T15:16:41.132454",
     "exception": false,
     "start_time": "2023-01-17T15:16:41.107191",
     "status": "completed"
    },
    "tags": []
   },
   "outputs": [
    {
     "data": {
      "text/plain": [
       "False"
      ]
     },
     "execution_count": 12,
     "metadata": {},
     "output_type": "execute_result"
    }
   ],
   "source": [
    "number = 19\n",
    "number > 0 and number < 10"
   ]
  },
  {
   "cell_type": "code",
   "execution_count": 13,
   "id": "bf3e6517",
   "metadata": {
    "execution": {
     "iopub.execute_input": "2023-01-17T15:16:41.156258Z",
     "iopub.status.busy": "2023-01-17T15:16:41.155770Z",
     "iopub.status.idle": "2023-01-17T15:16:41.164037Z",
     "shell.execute_reply": "2023-01-17T15:16:41.162541Z"
    },
    "papermill": {
     "duration": 0.023245,
     "end_time": "2023-01-17T15:16:41.166474",
     "exception": false,
     "start_time": "2023-01-17T15:16:41.143229",
     "status": "completed"
    },
    "tags": []
   },
   "outputs": [
    {
     "data": {
      "text/plain": [
       "True"
      ]
     },
     "execution_count": 13,
     "metadata": {},
     "output_type": "execute_result"
    }
   ],
   "source": [
    "number = 150\n",
    "number < 0 or number > 20"
   ]
  },
  {
   "cell_type": "code",
   "execution_count": 14,
   "id": "094fee53",
   "metadata": {
    "execution": {
     "iopub.execute_input": "2023-01-17T15:16:41.191121Z",
     "iopub.status.busy": "2023-01-17T15:16:41.189772Z",
     "iopub.status.idle": "2023-01-17T15:16:41.198242Z",
     "shell.execute_reply": "2023-01-17T15:16:41.197100Z"
    },
    "papermill": {
     "duration": 0.023421,
     "end_time": "2023-01-17T15:16:41.200678",
     "exception": false,
     "start_time": "2023-01-17T15:16:41.177257",
     "status": "completed"
    },
    "tags": []
   },
   "outputs": [
    {
     "data": {
      "text/plain": [
       "False"
      ]
     },
     "execution_count": 14,
     "metadata": {},
     "output_type": "execute_result"
    }
   ],
   "source": [
    "number = 150\n",
    "not (number < 0 or number > 20)"
   ]
  },
  {
   "cell_type": "markdown",
   "id": "8c1b6520",
   "metadata": {
    "papermill": {
     "duration": 0.010494,
     "end_time": "2023-01-17T15:16:41.221990",
     "exception": false,
     "start_time": "2023-01-17T15:16:41.211496",
     "status": "completed"
    },
    "tags": []
   },
   "source": [
    "# Input values"
   ]
  },
  {
   "cell_type": "code",
   "execution_count": 15,
   "id": "13528d03",
   "metadata": {
    "execution": {
     "iopub.execute_input": "2023-01-17T15:16:41.246447Z",
     "iopub.status.busy": "2023-01-17T15:16:41.245931Z",
     "iopub.status.idle": "2023-01-17T15:16:41.252329Z",
     "shell.execute_reply": "2023-01-17T15:16:41.251112Z"
    },
    "papermill": {
     "duration": 0.022004,
     "end_time": "2023-01-17T15:16:41.255224",
     "exception": false,
     "start_time": "2023-01-17T15:16:41.233220",
     "status": "completed"
    },
    "tags": []
   },
   "outputs": [
    {
     "name": "stdout",
     "output_type": "stream",
     "text": [
      "150\n",
      "<class 'int'>\n"
     ]
    }
   ],
   "source": [
    "#number = input(\"Enter a number: \") #uncomment to run\n",
    "print(number)\n",
    "print(type(number))"
   ]
  },
  {
   "cell_type": "code",
   "execution_count": 16,
   "id": "1715e8e5",
   "metadata": {
    "execution": {
     "iopub.execute_input": "2023-01-17T15:16:41.279567Z",
     "iopub.status.busy": "2023-01-17T15:16:41.279011Z",
     "iopub.status.idle": "2023-01-17T15:16:41.284724Z",
     "shell.execute_reply": "2023-01-17T15:16:41.283392Z"
    },
    "papermill": {
     "duration": 0.0209,
     "end_time": "2023-01-17T15:16:41.287144",
     "exception": false,
     "start_time": "2023-01-17T15:16:41.266244",
     "status": "completed"
    },
    "tags": []
   },
   "outputs": [],
   "source": [
    "#number += 100 #TypeError: can only concatenate str (not \"int\") to str"
   ]
  },
  {
   "cell_type": "markdown",
   "id": "3696920d",
   "metadata": {
    "papermill": {
     "duration": 0.010657,
     "end_time": "2023-01-17T15:16:41.308844",
     "exception": false,
     "start_time": "2023-01-17T15:16:41.298187",
     "status": "completed"
    },
    "tags": []
   },
   "source": [
    "# Cast Values"
   ]
  },
  {
   "cell_type": "code",
   "execution_count": 17,
   "id": "6cb129e2",
   "metadata": {
    "execution": {
     "iopub.execute_input": "2023-01-17T15:16:41.332813Z",
     "iopub.status.busy": "2023-01-17T15:16:41.332297Z",
     "iopub.status.idle": "2023-01-17T15:16:41.338434Z",
     "shell.execute_reply": "2023-01-17T15:16:41.337284Z"
    },
    "papermill": {
     "duration": 0.021872,
     "end_time": "2023-01-17T15:16:41.341670",
     "exception": false,
     "start_time": "2023-01-17T15:16:41.319798",
     "status": "completed"
    },
    "tags": []
   },
   "outputs": [
    {
     "name": "stdout",
     "output_type": "stream",
     "text": [
      "<class 'int'>\n",
      "<class 'float'>\n"
     ]
    }
   ],
   "source": [
    "a = 10 #integer\n",
    "print(type(a))\n",
    "new_a = float(a)\n",
    "print(type(new_a))"
   ]
  },
  {
   "cell_type": "code",
   "execution_count": 18,
   "id": "5737783e",
   "metadata": {
    "execution": {
     "iopub.execute_input": "2023-01-17T15:16:41.366401Z",
     "iopub.status.busy": "2023-01-17T15:16:41.365330Z",
     "iopub.status.idle": "2023-01-17T15:16:41.373724Z",
     "shell.execute_reply": "2023-01-17T15:16:41.371901Z"
    },
    "papermill": {
     "duration": 0.023685,
     "end_time": "2023-01-17T15:16:41.376381",
     "exception": false,
     "start_time": "2023-01-17T15:16:41.352696",
     "status": "completed"
    },
    "tags": []
   },
   "outputs": [
    {
     "name": "stdout",
     "output_type": "stream",
     "text": [
      "<class 'float'>\n",
      "25\n",
      "<class 'int'>\n"
     ]
    }
   ],
   "source": [
    "b = 25.4234\n",
    "print(type(b))\n",
    "new_b = int(b)\n",
    "print(new_b)\n",
    "print(type(new_b))"
   ]
  },
  {
   "cell_type": "code",
   "execution_count": 19,
   "id": "6fa23748",
   "metadata": {
    "execution": {
     "iopub.execute_input": "2023-01-17T15:16:41.400710Z",
     "iopub.status.busy": "2023-01-17T15:16:41.400198Z",
     "iopub.status.idle": "2023-01-17T15:16:41.407337Z",
     "shell.execute_reply": "2023-01-17T15:16:41.405836Z"
    },
    "papermill": {
     "duration": 0.02242,
     "end_time": "2023-01-17T15:16:41.410002",
     "exception": false,
     "start_time": "2023-01-17T15:16:41.387582",
     "status": "completed"
    },
    "tags": []
   },
   "outputs": [
    {
     "name": "stdout",
     "output_type": "stream",
     "text": [
      "<class 'str'>\n",
      "<class 'int'>\n"
     ]
    }
   ],
   "source": [
    "a = '10'\n",
    "new_a = int(a)\n",
    "print(type(a))\n",
    "print(type(new_a))"
   ]
  },
  {
   "cell_type": "code",
   "execution_count": 20,
   "id": "9328c247",
   "metadata": {
    "execution": {
     "iopub.execute_input": "2023-01-17T15:16:41.434963Z",
     "iopub.status.busy": "2023-01-17T15:16:41.434440Z",
     "iopub.status.idle": "2023-01-17T15:16:41.441486Z",
     "shell.execute_reply": "2023-01-17T15:16:41.440101Z"
    },
    "papermill": {
     "duration": 0.022706,
     "end_time": "2023-01-17T15:16:41.443950",
     "exception": false,
     "start_time": "2023-01-17T15:16:41.421244",
     "status": "completed"
    },
    "tags": []
   },
   "outputs": [
    {
     "name": "stdout",
     "output_type": "stream",
     "text": [
      "<class 'str'>\n",
      "<class 'float'>\n"
     ]
    }
   ],
   "source": [
    "b = \"1.56\"\n",
    "new_b = float(b)\n",
    "print(type(b))\n",
    "print(type(new_b))"
   ]
  },
  {
   "cell_type": "code",
   "execution_count": 21,
   "id": "4cc67bbc",
   "metadata": {
    "execution": {
     "iopub.execute_input": "2023-01-17T15:16:41.469647Z",
     "iopub.status.busy": "2023-01-17T15:16:41.468707Z",
     "iopub.status.idle": "2023-01-17T15:16:41.474138Z",
     "shell.execute_reply": "2023-01-17T15:16:41.472949Z"
    },
    "papermill": {
     "duration": 0.020787,
     "end_time": "2023-01-17T15:16:41.476314",
     "exception": false,
     "start_time": "2023-01-17T15:16:41.455527",
     "status": "completed"
    },
    "tags": []
   },
   "outputs": [],
   "source": [
    "c = \"text\"\n",
    "#print(int(c)) #ValueError: invalid literal for int() with base 10: 'text'"
   ]
  },
  {
   "cell_type": "code",
   "execution_count": 22,
   "id": "63f4b478",
   "metadata": {
    "execution": {
     "iopub.execute_input": "2023-01-17T15:16:41.501695Z",
     "iopub.status.busy": "2023-01-17T15:16:41.500591Z",
     "iopub.status.idle": "2023-01-17T15:16:41.507880Z",
     "shell.execute_reply": "2023-01-17T15:16:41.506454Z"
    },
    "papermill": {
     "duration": 0.02324,
     "end_time": "2023-01-17T15:16:41.510832",
     "exception": false,
     "start_time": "2023-01-17T15:16:41.487592",
     "status": "completed"
    },
    "tags": []
   },
   "outputs": [
    {
     "name": "stdout",
     "output_type": "stream",
     "text": [
      "150\n",
      "<class 'int'>\n"
     ]
    }
   ],
   "source": [
    "#number = int(input(\"Enter a number: \")) #uncomment to run\n",
    "print(number)\n",
    "print(type(number))"
   ]
  },
  {
   "cell_type": "code",
   "execution_count": null,
   "id": "bb554d99",
   "metadata": {
    "papermill": {
     "duration": 0.011452,
     "end_time": "2023-01-17T15:16:41.534536",
     "exception": false,
     "start_time": "2023-01-17T15:16:41.523084",
     "status": "completed"
    },
    "tags": []
   },
   "outputs": [],
   "source": []
  },
  {
   "cell_type": "markdown",
   "id": "f46ed387",
   "metadata": {
    "papermill": {
     "duration": 0.01141,
     "end_time": "2023-01-17T15:16:41.557796",
     "exception": false,
     "start_time": "2023-01-17T15:16:41.546386",
     "status": "completed"
    },
    "tags": []
   },
   "source": [
    "# String Methods"
   ]
  },
  {
   "cell_type": "code",
   "execution_count": 23,
   "id": "9605d84e",
   "metadata": {
    "execution": {
     "iopub.execute_input": "2023-01-17T15:16:41.583646Z",
     "iopub.status.busy": "2023-01-17T15:16:41.582475Z",
     "iopub.status.idle": "2023-01-17T15:16:41.588884Z",
     "shell.execute_reply": "2023-01-17T15:16:41.588082Z"
    },
    "papermill": {
     "duration": 0.022475,
     "end_time": "2023-01-17T15:16:41.591705",
     "exception": false,
     "start_time": "2023-01-17T15:16:41.569230",
     "status": "completed"
    },
    "tags": []
   },
   "outputs": [
    {
     "name": "stdout",
     "output_type": "stream",
     "text": [
      "Capitalize Hello world\n",
      "Title Hello World\n",
      "LowerCase hello world\n",
      "UpperCase HELLO WORLD\n"
     ]
    }
   ],
   "source": [
    "string1 = \"hello world\"\n",
    "print(\"Capitalize\",string1.capitalize())\n",
    "print(\"Title\",string1.title())\n",
    "print(\"LowerCase\",string1.lower())\n",
    "print(\"UpperCase\",string1.upper())"
   ]
  },
  {
   "cell_type": "code",
   "execution_count": 24,
   "id": "6ea0eb1f",
   "metadata": {
    "execution": {
     "iopub.execute_input": "2023-01-17T15:16:41.618440Z",
     "iopub.status.busy": "2023-01-17T15:16:41.617926Z",
     "iopub.status.idle": "2023-01-17T15:16:41.623141Z",
     "shell.execute_reply": "2023-01-17T15:16:41.621859Z"
    },
    "papermill": {
     "duration": 0.021091,
     "end_time": "2023-01-17T15:16:41.625519",
     "exception": false,
     "start_time": "2023-01-17T15:16:41.604428",
     "status": "completed"
    },
    "tags": []
   },
   "outputs": [],
   "source": [
    "string2 = '10'"
   ]
  },
  {
   "cell_type": "code",
   "execution_count": 25,
   "id": "500614db",
   "metadata": {
    "execution": {
     "iopub.execute_input": "2023-01-17T15:16:41.650770Z",
     "iopub.status.busy": "2023-01-17T15:16:41.650257Z",
     "iopub.status.idle": "2023-01-17T15:16:41.658941Z",
     "shell.execute_reply": "2023-01-17T15:16:41.657692Z"
    },
    "papermill": {
     "duration": 0.024339,
     "end_time": "2023-01-17T15:16:41.661366",
     "exception": false,
     "start_time": "2023-01-17T15:16:41.637027",
     "status": "completed"
    },
    "tags": []
   },
   "outputs": [
    {
     "data": {
      "text/plain": [
       "['__add__',\n",
       " '__class__',\n",
       " '__contains__',\n",
       " '__delattr__',\n",
       " '__dir__',\n",
       " '__doc__',\n",
       " '__eq__',\n",
       " '__format__',\n",
       " '__ge__',\n",
       " '__getattribute__',\n",
       " '__getitem__',\n",
       " '__getnewargs__',\n",
       " '__gt__',\n",
       " '__hash__',\n",
       " '__init__',\n",
       " '__init_subclass__',\n",
       " '__iter__',\n",
       " '__le__',\n",
       " '__len__',\n",
       " '__lt__',\n",
       " '__mod__',\n",
       " '__mul__',\n",
       " '__ne__',\n",
       " '__new__',\n",
       " '__reduce__',\n",
       " '__reduce_ex__',\n",
       " '__repr__',\n",
       " '__rmod__',\n",
       " '__rmul__',\n",
       " '__setattr__',\n",
       " '__sizeof__',\n",
       " '__str__',\n",
       " '__subclasshook__',\n",
       " 'capitalize',\n",
       " 'casefold',\n",
       " 'center',\n",
       " 'count',\n",
       " 'encode',\n",
       " 'endswith',\n",
       " 'expandtabs',\n",
       " 'find',\n",
       " 'format',\n",
       " 'format_map',\n",
       " 'index',\n",
       " 'isalnum',\n",
       " 'isalpha',\n",
       " 'isascii',\n",
       " 'isdecimal',\n",
       " 'isdigit',\n",
       " 'isidentifier',\n",
       " 'islower',\n",
       " 'isnumeric',\n",
       " 'isprintable',\n",
       " 'isspace',\n",
       " 'istitle',\n",
       " 'isupper',\n",
       " 'join',\n",
       " 'ljust',\n",
       " 'lower',\n",
       " 'lstrip',\n",
       " 'maketrans',\n",
       " 'partition',\n",
       " 'replace',\n",
       " 'rfind',\n",
       " 'rindex',\n",
       " 'rjust',\n",
       " 'rpartition',\n",
       " 'rsplit',\n",
       " 'rstrip',\n",
       " 'split',\n",
       " 'splitlines',\n",
       " 'startswith',\n",
       " 'strip',\n",
       " 'swapcase',\n",
       " 'title',\n",
       " 'translate',\n",
       " 'upper',\n",
       " 'zfill']"
      ]
     },
     "execution_count": 25,
     "metadata": {},
     "output_type": "execute_result"
    }
   ],
   "source": [
    "dir(string2)"
   ]
  },
  {
   "cell_type": "code",
   "execution_count": 26,
   "id": "7403a505",
   "metadata": {
    "execution": {
     "iopub.execute_input": "2023-01-17T15:16:41.686955Z",
     "iopub.status.busy": "2023-01-17T15:16:41.686446Z",
     "iopub.status.idle": "2023-01-17T15:16:41.693222Z",
     "shell.execute_reply": "2023-01-17T15:16:41.692153Z"
    },
    "papermill": {
     "duration": 0.023319,
     "end_time": "2023-01-17T15:16:41.696314",
     "exception": false,
     "start_time": "2023-01-17T15:16:41.672995",
     "status": "completed"
    },
    "tags": []
   },
   "outputs": [
    {
     "name": "stdout",
     "output_type": "stream",
     "text": [
      "Help on built-in function isalnum:\n",
      "\n",
      "isalnum() method of builtins.str instance\n",
      "    Return True if the string is an alpha-numeric string, False otherwise.\n",
      "    \n",
      "    A string is alpha-numeric if all characters in the string are alpha-numeric and\n",
      "    there is at least one character in the string.\n",
      "\n"
     ]
    }
   ],
   "source": [
    "help(string2.isalnum)"
   ]
  },
  {
   "cell_type": "code",
   "execution_count": 27,
   "id": "556113f1",
   "metadata": {
    "execution": {
     "iopub.execute_input": "2023-01-17T15:16:41.721964Z",
     "iopub.status.busy": "2023-01-17T15:16:41.721464Z",
     "iopub.status.idle": "2023-01-17T15:16:41.727046Z",
     "shell.execute_reply": "2023-01-17T15:16:41.726256Z"
    },
    "papermill": {
     "duration": 0.021468,
     "end_time": "2023-01-17T15:16:41.729558",
     "exception": false,
     "start_time": "2023-01-17T15:16:41.708090",
     "status": "completed"
    },
    "tags": []
   },
   "outputs": [
    {
     "name": "stdout",
     "output_type": "stream",
     "text": [
      "True\n"
     ]
    }
   ],
   "source": [
    "string3 = \"HelloWorld\"\n",
    "print(string3.isalnum())"
   ]
  },
  {
   "cell_type": "code",
   "execution_count": 28,
   "id": "18393bda",
   "metadata": {
    "execution": {
     "iopub.execute_input": "2023-01-17T15:16:41.755375Z",
     "iopub.status.busy": "2023-01-17T15:16:41.754897Z",
     "iopub.status.idle": "2023-01-17T15:16:41.761820Z",
     "shell.execute_reply": "2023-01-17T15:16:41.760564Z"
    },
    "papermill": {
     "duration": 0.023624,
     "end_time": "2023-01-17T15:16:41.765158",
     "exception": false,
     "start_time": "2023-01-17T15:16:41.741534",
     "status": "completed"
    },
    "tags": []
   },
   "outputs": [
    {
     "name": "stdout",
     "output_type": "stream",
     "text": [
      "True\n",
      "True\n",
      "True\n"
     ]
    }
   ],
   "source": [
    "string4 = \"150\"\n",
    "print(string4.isnumeric()) # method supports Digits, Vulgar Fractions, Subscripts, Superscripts, Roman Numerals, Currency Numerators\n",
    "print(string4.isdigit()) # method supports Decimals, Subscripts, Superscripts.\n",
    "print(string4.isdecimal()) # method supports only Decimal Numbers"
   ]
  },
  {
   "cell_type": "code",
   "execution_count": 29,
   "id": "3a57b0f6",
   "metadata": {
    "execution": {
     "iopub.execute_input": "2023-01-17T15:16:41.791986Z",
     "iopub.status.busy": "2023-01-17T15:16:41.791058Z",
     "iopub.status.idle": "2023-01-17T15:16:41.797354Z",
     "shell.execute_reply": "2023-01-17T15:16:41.796082Z"
    },
    "papermill": {
     "duration": 0.022418,
     "end_time": "2023-01-17T15:16:41.800441",
     "exception": false,
     "start_time": "2023-01-17T15:16:41.778023",
     "status": "completed"
    },
    "tags": []
   },
   "outputs": [
    {
     "name": "stdout",
     "output_type": "stream",
     "text": [
      "²\n"
     ]
    }
   ],
   "source": [
    "print('\\u00B2')"
   ]
  },
  {
   "cell_type": "code",
   "execution_count": 30,
   "id": "3ed3f05b",
   "metadata": {
    "execution": {
     "iopub.execute_input": "2023-01-17T15:16:41.828462Z",
     "iopub.status.busy": "2023-01-17T15:16:41.826910Z",
     "iopub.status.idle": "2023-01-17T15:16:41.834273Z",
     "shell.execute_reply": "2023-01-17T15:16:41.833411Z"
    },
    "papermill": {
     "duration": 0.022842,
     "end_time": "2023-01-17T15:16:41.836267",
     "exception": false,
     "start_time": "2023-01-17T15:16:41.813425",
     "status": "completed"
    },
    "tags": []
   },
   "outputs": [
    {
     "data": {
      "text/plain": [
       "False"
      ]
     },
     "execution_count": 30,
     "metadata": {},
     "output_type": "execute_result"
    }
   ],
   "source": [
    "'\\u00B2'.isdecimal()"
   ]
  },
  {
   "cell_type": "code",
   "execution_count": 31,
   "id": "c78a422e",
   "metadata": {
    "execution": {
     "iopub.execute_input": "2023-01-17T15:16:41.862336Z",
     "iopub.status.busy": "2023-01-17T15:16:41.861821Z",
     "iopub.status.idle": "2023-01-17T15:16:41.869298Z",
     "shell.execute_reply": "2023-01-17T15:16:41.868260Z"
    },
    "papermill": {
     "duration": 0.023673,
     "end_time": "2023-01-17T15:16:41.871905",
     "exception": false,
     "start_time": "2023-01-17T15:16:41.848232",
     "status": "completed"
    },
    "tags": []
   },
   "outputs": [
    {
     "data": {
      "text/plain": [
       "True"
      ]
     },
     "execution_count": 31,
     "metadata": {},
     "output_type": "execute_result"
    }
   ],
   "source": [
    "'\\u00B2'.isdigit()"
   ]
  },
  {
   "cell_type": "code",
   "execution_count": 32,
   "id": "0986b812",
   "metadata": {
    "execution": {
     "iopub.execute_input": "2023-01-17T15:16:41.898826Z",
     "iopub.status.busy": "2023-01-17T15:16:41.898294Z",
     "iopub.status.idle": "2023-01-17T15:16:41.905279Z",
     "shell.execute_reply": "2023-01-17T15:16:41.904084Z"
    },
    "papermill": {
     "duration": 0.024193,
     "end_time": "2023-01-17T15:16:41.908551",
     "exception": false,
     "start_time": "2023-01-17T15:16:41.884358",
     "status": "completed"
    },
    "tags": []
   },
   "outputs": [
    {
     "name": "stdout",
     "output_type": "stream",
     "text": [
      "² False\n",
      "² True\n",
      "² True\n"
     ]
    }
   ],
   "source": [
    "print('\\u00b2','\\u00b2'.isdecimal())    # Prints False\n",
    "print('\\u00b2','\\u00b2'.isdigit())      # Prints True\n",
    "print('\\u00b2','\\u00b2'.isnumeric())    # Prints True"
   ]
  },
  {
   "cell_type": "code",
   "execution_count": 33,
   "id": "1f616d70",
   "metadata": {
    "execution": {
     "iopub.execute_input": "2023-01-17T15:16:41.936510Z",
     "iopub.status.busy": "2023-01-17T15:16:41.935220Z",
     "iopub.status.idle": "2023-01-17T15:16:41.942675Z",
     "shell.execute_reply": "2023-01-17T15:16:41.941548Z"
    },
    "papermill": {
     "duration": 0.024435,
     "end_time": "2023-01-17T15:16:41.945321",
     "exception": false,
     "start_time": "2023-01-17T15:16:41.920886",
     "status": "completed"
    },
    "tags": []
   },
   "outputs": [
    {
     "name": "stdout",
     "output_type": "stream",
     "text": [
      "⅓ False\n",
      "⅓ False\n",
      "⅓ True\n"
     ]
    }
   ],
   "source": [
    "print('\\u2153','\\u2153'.isdecimal())    # Prints False\n",
    "print('\\u2153','\\u2153'.isdigit())      # Prints False\n",
    "print('\\u2153','\\u2153'.isnumeric())    # Prints True"
   ]
  },
  {
   "cell_type": "code",
   "execution_count": 34,
   "id": "019b4374",
   "metadata": {
    "execution": {
     "iopub.execute_input": "2023-01-17T15:16:41.972323Z",
     "iopub.status.busy": "2023-01-17T15:16:41.971843Z",
     "iopub.status.idle": "2023-01-17T15:16:41.978435Z",
     "shell.execute_reply": "2023-01-17T15:16:41.977202Z"
    },
    "papermill": {
     "duration": 0.023502,
     "end_time": "2023-01-17T15:16:41.981055",
     "exception": false,
     "start_time": "2023-01-17T15:16:41.957553",
     "status": "completed"
    },
    "tags": []
   },
   "outputs": [
    {
     "name": "stdout",
     "output_type": "stream",
     "text": [
      "14\n",
      "14\n"
     ]
    }
   ],
   "source": [
    "round(0.1 + 0.2,1) == 0.3\n",
    "print(round(13.5))\n",
    "print(round(14.5))\n",
    "# Home work\n",
    "# The round() function can round the values up and down both depending on the situation. For <0.5, it rounds down, and for >0.5, it rounds up. For =0.5, the round() function rounds the number off to the nearest even number. So, 0.5 is rounded to zero, and so is -0.5; 33.5 and 34.5 are both rounded off to 34; -33.5 -34.5 are both rounded off to -34, and so on."
   ]
  }
 ],
 "metadata": {
  "kernelspec": {
   "display_name": "Python 3",
   "language": "python",
   "name": "python3"
  },
  "language_info": {
   "codemirror_mode": {
    "name": "ipython",
    "version": 3
   },
   "file_extension": ".py",
   "mimetype": "text/x-python",
   "name": "python",
   "nbconvert_exporter": "python",
   "pygments_lexer": "ipython3",
   "version": "3.7.12"
  },
  "papermill": {
   "default_parameters": {},
   "duration": 12.89733,
   "end_time": "2023-01-17T15:16:43.017974",
   "environment_variables": {},
   "exception": null,
   "input_path": "__notebook__.ipynb",
   "output_path": "__notebook__.ipynb",
   "parameters": {},
   "start_time": "2023-01-17T15:16:30.120644",
   "version": "2.3.4"
  }
 },
 "nbformat": 4,
 "nbformat_minor": 5
}
