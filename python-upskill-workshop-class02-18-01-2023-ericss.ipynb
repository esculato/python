{
 "cells": [
  {
   "cell_type": "markdown",
   "id": "70ecbed2",
   "metadata": {
    "papermill": {
     "duration": 0.010567,
     "end_time": "2023-01-23T15:23:42.817855",
     "exception": false,
     "start_time": "2023-01-23T15:23:42.807288",
     "status": "completed"
    },
    "tags": []
   },
   "source": [
    "# Data Collections"
   ]
  },
  {
   "cell_type": "code",
   "execution_count": 1,
   "id": "b54f6109",
   "metadata": {
    "execution": {
     "iopub.execute_input": "2023-01-23T15:23:42.839673Z",
     "iopub.status.busy": "2023-01-23T15:23:42.838648Z",
     "iopub.status.idle": "2023-01-23T15:23:42.846042Z",
     "shell.execute_reply": "2023-01-23T15:23:42.844787Z"
    },
    "papermill": {
     "duration": 0.021676,
     "end_time": "2023-01-23T15:23:42.849311",
     "exception": false,
     "start_time": "2023-01-23T15:23:42.827635",
     "status": "completed"
    },
    "tags": []
   },
   "outputs": [],
   "source": [
    "#List, tuples, dictionaries, sets"
   ]
  },
  {
   "cell_type": "code",
   "execution_count": 2,
   "id": "0780946b",
   "metadata": {
    "execution": {
     "iopub.execute_input": "2023-01-23T15:23:42.869872Z",
     "iopub.status.busy": "2023-01-23T15:23:42.869409Z",
     "iopub.status.idle": "2023-01-23T15:23:42.879961Z",
     "shell.execute_reply": "2023-01-23T15:23:42.878705Z"
    },
    "papermill": {
     "duration": 0.024466,
     "end_time": "2023-01-23T15:23:42.883235",
     "exception": false,
     "start_time": "2023-01-23T15:23:42.858769",
     "status": "completed"
    },
    "tags": []
   },
   "outputs": [
    {
     "name": "stdout",
     "output_type": "stream",
     "text": [
      "[1, 2.5, 'Hello World!', True, [1, 2, 3]]\n"
     ]
    }
   ],
   "source": [
    "#List\n",
    "#Mutable\n",
    "list1 = [1,2.5,\"Hello World!\",True,[1,2,3]]\n",
    "print(list1)"
   ]
  },
  {
   "cell_type": "markdown",
   "id": "7804a49d",
   "metadata": {
    "papermill": {
     "duration": 0.008969,
     "end_time": "2023-01-23T15:23:42.901641",
     "exception": false,
     "start_time": "2023-01-23T15:23:42.892672",
     "status": "completed"
    },
    "tags": []
   },
   "source": []
  },
  {
   "cell_type": "code",
   "execution_count": 3,
   "id": "ed6d5cf4",
   "metadata": {
    "execution": {
     "iopub.execute_input": "2023-01-23T15:23:42.923534Z",
     "iopub.status.busy": "2023-01-23T15:23:42.923097Z",
     "iopub.status.idle": "2023-01-23T15:23:42.928121Z",
     "shell.execute_reply": "2023-01-23T15:23:42.926979Z"
    },
    "papermill": {
     "duration": 0.017866,
     "end_time": "2023-01-23T15:23:42.930551",
     "exception": false,
     "start_time": "2023-01-23T15:23:42.912685",
     "status": "completed"
    },
    "tags": []
   },
   "outputs": [],
   "source": [
    "list1.append(\"Hello!\")"
   ]
  },
  {
   "cell_type": "code",
   "execution_count": 4,
   "id": "d02e5d74",
   "metadata": {
    "execution": {
     "iopub.execute_input": "2023-01-23T15:23:42.951064Z",
     "iopub.status.busy": "2023-01-23T15:23:42.950330Z",
     "iopub.status.idle": "2023-01-23T15:23:42.955550Z",
     "shell.execute_reply": "2023-01-23T15:23:42.954466Z"
    },
    "papermill": {
     "duration": 0.018054,
     "end_time": "2023-01-23T15:23:42.958029",
     "exception": false,
     "start_time": "2023-01-23T15:23:42.939975",
     "status": "completed"
    },
    "tags": []
   },
   "outputs": [
    {
     "name": "stdout",
     "output_type": "stream",
     "text": [
      "[1, 2.5, 'Hello World!', True, [1, 2, 3], 'Hello!']\n"
     ]
    }
   ],
   "source": [
    "print(list1)"
   ]
  },
  {
   "cell_type": "code",
   "execution_count": 5,
   "id": "fa901904",
   "metadata": {
    "execution": {
     "iopub.execute_input": "2023-01-23T15:23:42.978388Z",
     "iopub.status.busy": "2023-01-23T15:23:42.977999Z",
     "iopub.status.idle": "2023-01-23T15:23:42.983699Z",
     "shell.execute_reply": "2023-01-23T15:23:42.982617Z"
    },
    "papermill": {
     "duration": 0.018951,
     "end_time": "2023-01-23T15:23:42.986397",
     "exception": false,
     "start_time": "2023-01-23T15:23:42.967446",
     "status": "completed"
    },
    "tags": []
   },
   "outputs": [
    {
     "name": "stdout",
     "output_type": "stream",
     "text": [
      "True\n",
      "1\n",
      "Hello World!\n"
     ]
    }
   ],
   "source": [
    "print(list1[3])\n",
    "print(list1[0])\n",
    "print(list1[2])"
   ]
  },
  {
   "cell_type": "code",
   "execution_count": 6,
   "id": "572ebf84",
   "metadata": {
    "execution": {
     "iopub.execute_input": "2023-01-23T15:23:43.006964Z",
     "iopub.status.busy": "2023-01-23T15:23:43.006563Z",
     "iopub.status.idle": "2023-01-23T15:23:43.012568Z",
     "shell.execute_reply": "2023-01-23T15:23:43.011401Z"
    },
    "papermill": {
     "duration": 0.019253,
     "end_time": "2023-01-23T15:23:43.015109",
     "exception": false,
     "start_time": "2023-01-23T15:23:42.995856",
     "status": "completed"
    },
    "tags": []
   },
   "outputs": [
    {
     "name": "stdout",
     "output_type": "stream",
     "text": [
      "Hello!\n",
      "Hello World!\n",
      "2.5\n"
     ]
    }
   ],
   "source": [
    "print(list1[-1])\n",
    "print(list1[-4])\n",
    "print(list1[-5])"
   ]
  },
  {
   "cell_type": "code",
   "execution_count": 7,
   "id": "8bafe9a4",
   "metadata": {
    "execution": {
     "iopub.execute_input": "2023-01-23T15:23:43.036096Z",
     "iopub.status.busy": "2023-01-23T15:23:43.035704Z",
     "iopub.status.idle": "2023-01-23T15:23:43.042699Z",
     "shell.execute_reply": "2023-01-23T15:23:43.041363Z"
    },
    "papermill": {
     "duration": 0.020342,
     "end_time": "2023-01-23T15:23:43.045125",
     "exception": false,
     "start_time": "2023-01-23T15:23:43.024783",
     "status": "completed"
    },
    "tags": []
   },
   "outputs": [
    {
     "name": "stdout",
     "output_type": "stream",
     "text": [
      "[1, 2, 3]\n",
      "[3, 4, 5, 6]\n",
      "[8, 9, 10]\n",
      "[1, 2, 3, 4, 5]\n",
      "[6, 7, 8, 9, 10]\n",
      "[4, 5, 6, 7, 8, 9, 10]\n"
     ]
    }
   ],
   "source": [
    "#slicing\n",
    "list2 = [1,2,3,4,5,6,7,8,9,10]\n",
    "print(list2[0:3])\n",
    "print(list2[2:6])\n",
    "print(list2[7:10])\n",
    "print(list2[:5])\n",
    "print(list2[5:])\n",
    "print(list2[3:])"
   ]
  },
  {
   "cell_type": "code",
   "execution_count": 8,
   "id": "8d240fb0",
   "metadata": {
    "execution": {
     "iopub.execute_input": "2023-01-23T15:23:43.066118Z",
     "iopub.status.busy": "2023-01-23T15:23:43.065354Z",
     "iopub.status.idle": "2023-01-23T15:23:43.071588Z",
     "shell.execute_reply": "2023-01-23T15:23:43.070539Z"
    },
    "papermill": {
     "duration": 0.019564,
     "end_time": "2023-01-23T15:23:43.074231",
     "exception": false,
     "start_time": "2023-01-23T15:23:43.054667",
     "status": "completed"
    },
    "tags": []
   },
   "outputs": [
    {
     "name": "stdout",
     "output_type": "stream",
     "text": [
      "[8, 9, 10]\n",
      "[3, 4, 5, 6]\n"
     ]
    }
   ],
   "source": [
    "list2 = [1,2,3,4,5,6,7,8,9,10]\n",
    "print(list2[-3:])\n",
    "print(list2[-8:-4])"
   ]
  },
  {
   "cell_type": "code",
   "execution_count": 9,
   "id": "a494bcaf",
   "metadata": {
    "execution": {
     "iopub.execute_input": "2023-01-23T15:23:43.095197Z",
     "iopub.status.busy": "2023-01-23T15:23:43.094794Z",
     "iopub.status.idle": "2023-01-23T15:23:43.100126Z",
     "shell.execute_reply": "2023-01-23T15:23:43.099328Z"
    },
    "papermill": {
     "duration": 0.018369,
     "end_time": "2023-01-23T15:23:43.102300",
     "exception": false,
     "start_time": "2023-01-23T15:23:43.083931",
     "status": "completed"
    },
    "tags": []
   },
   "outputs": [
    {
     "name": "stdout",
     "output_type": "stream",
     "text": [
      "[1, 2, 3, 4, 5]\n",
      "[4, 5, 6, 7, 8, 9, 10]\n"
     ]
    }
   ],
   "source": [
    "print(list2[:5])\n",
    "print(list2[3:])"
   ]
  },
  {
   "cell_type": "code",
   "execution_count": 10,
   "id": "f0d1c37d",
   "metadata": {
    "execution": {
     "iopub.execute_input": "2023-01-23T15:23:43.123341Z",
     "iopub.status.busy": "2023-01-23T15:23:43.122954Z",
     "iopub.status.idle": "2023-01-23T15:23:43.127795Z",
     "shell.execute_reply": "2023-01-23T15:23:43.126928Z"
    },
    "papermill": {
     "duration": 0.018433,
     "end_time": "2023-01-23T15:23:43.130297",
     "exception": false,
     "start_time": "2023-01-23T15:23:43.111864",
     "status": "completed"
    },
    "tags": []
   },
   "outputs": [
    {
     "name": "stdout",
     "output_type": "stream",
     "text": [
      "[1, 2, 3, 4, 5, 6, 7, 8]\n",
      "[1, 2, 3, 4, 5, 6, 7, 8, 9, 10]\n"
     ]
    }
   ],
   "source": [
    "print(list2[:-2])\n",
    "print(list2[:])"
   ]
  },
  {
   "cell_type": "code",
   "execution_count": 11,
   "id": "1f30d428",
   "metadata": {
    "execution": {
     "iopub.execute_input": "2023-01-23T15:23:43.151831Z",
     "iopub.status.busy": "2023-01-23T15:23:43.151393Z",
     "iopub.status.idle": "2023-01-23T15:23:43.161182Z",
     "shell.execute_reply": "2023-01-23T15:23:43.160064Z"
    },
    "papermill": {
     "duration": 0.023321,
     "end_time": "2023-01-23T15:23:43.163615",
     "exception": false,
     "start_time": "2023-01-23T15:23:43.140294",
     "status": "completed"
    },
    "tags": []
   },
   "outputs": [
    {
     "data": {
      "text/plain": [
       "['__add__',\n",
       " '__class__',\n",
       " '__contains__',\n",
       " '__delattr__',\n",
       " '__delitem__',\n",
       " '__dir__',\n",
       " '__doc__',\n",
       " '__eq__',\n",
       " '__format__',\n",
       " '__ge__',\n",
       " '__getattribute__',\n",
       " '__getitem__',\n",
       " '__gt__',\n",
       " '__hash__',\n",
       " '__iadd__',\n",
       " '__imul__',\n",
       " '__init__',\n",
       " '__init_subclass__',\n",
       " '__iter__',\n",
       " '__le__',\n",
       " '__len__',\n",
       " '__lt__',\n",
       " '__mul__',\n",
       " '__ne__',\n",
       " '__new__',\n",
       " '__reduce__',\n",
       " '__reduce_ex__',\n",
       " '__repr__',\n",
       " '__reversed__',\n",
       " '__rmul__',\n",
       " '__setattr__',\n",
       " '__setitem__',\n",
       " '__sizeof__',\n",
       " '__str__',\n",
       " '__subclasshook__',\n",
       " 'append',\n",
       " 'clear',\n",
       " 'copy',\n",
       " 'count',\n",
       " 'extend',\n",
       " 'index',\n",
       " 'insert',\n",
       " 'pop',\n",
       " 'remove',\n",
       " 'reverse',\n",
       " 'sort']"
      ]
     },
     "execution_count": 11,
     "metadata": {},
     "output_type": "execute_result"
    }
   ],
   "source": [
    "dir(list2)\n"
   ]
  },
  {
   "cell_type": "code",
   "execution_count": 12,
   "id": "62917bf6",
   "metadata": {
    "execution": {
     "iopub.execute_input": "2023-01-23T15:23:43.185607Z",
     "iopub.status.busy": "2023-01-23T15:23:43.185169Z",
     "iopub.status.idle": "2023-01-23T15:23:43.191978Z",
     "shell.execute_reply": "2023-01-23T15:23:43.190848Z"
    },
    "papermill": {
     "duration": 0.020504,
     "end_time": "2023-01-23T15:23:43.194119",
     "exception": false,
     "start_time": "2023-01-23T15:23:43.173615",
     "status": "completed"
    },
    "tags": []
   },
   "outputs": [
    {
     "name": "stdout",
     "output_type": "stream",
     "text": [
      "Help on built-in function copy:\n",
      "\n",
      "copy() method of builtins.list instance\n",
      "    Return a shallow copy of the list.\n",
      "\n"
     ]
    }
   ],
   "source": [
    "help(list2.copy)"
   ]
  },
  {
   "cell_type": "code",
   "execution_count": 13,
   "id": "f4843c0e",
   "metadata": {
    "execution": {
     "iopub.execute_input": "2023-01-23T15:23:43.215782Z",
     "iopub.status.busy": "2023-01-23T15:23:43.215333Z",
     "iopub.status.idle": "2023-01-23T15:23:43.223787Z",
     "shell.execute_reply": "2023-01-23T15:23:43.221443Z"
    },
    "papermill": {
     "duration": 0.023147,
     "end_time": "2023-01-23T15:23:43.227290",
     "exception": false,
     "start_time": "2023-01-23T15:23:43.204143",
     "status": "completed"
    },
    "tags": []
   },
   "outputs": [
    {
     "name": "stdout",
     "output_type": "stream",
     "text": [
      "[1, 2, 3, 4, 5] [1, 2, 3, 4, 5]\n",
      "[1, 2, 3, 4, 5, 'Some element'] [1, 2, 3, 4, 5, 'Some element']\n",
      "[1, 2, 3, 4, 5, 'Some element'] [1, 2, 3, 4, 5, 'Some element', 'Extra element']\n"
     ]
    }
   ],
   "source": [
    "list3 = [1,2,3,4,5]\n",
    "list4 = list3\n",
    "print(list3, list4)\n",
    "list4.append(\"Some element\")\n",
    "print(list3, list4)\n",
    "list4 = list3.copy()\n",
    "list4.append(\"Extra element\")\n",
    "print(list3, list4)"
   ]
  },
  {
   "cell_type": "code",
   "execution_count": 14,
   "id": "7f041b5c",
   "metadata": {
    "execution": {
     "iopub.execute_input": "2023-01-23T15:23:43.249474Z",
     "iopub.status.busy": "2023-01-23T15:23:43.248749Z",
     "iopub.status.idle": "2023-01-23T15:23:43.252933Z",
     "shell.execute_reply": "2023-01-23T15:23:43.252185Z"
    },
    "papermill": {
     "duration": 0.01762,
     "end_time": "2023-01-23T15:23:43.254878",
     "exception": false,
     "start_time": "2023-01-23T15:23:43.237258",
     "status": "completed"
    },
    "tags": []
   },
   "outputs": [],
   "source": [
    "list4[-1] = 10"
   ]
  },
  {
   "cell_type": "code",
   "execution_count": 15,
   "id": "a293ef9f",
   "metadata": {
    "execution": {
     "iopub.execute_input": "2023-01-23T15:23:43.277009Z",
     "iopub.status.busy": "2023-01-23T15:23:43.276036Z",
     "iopub.status.idle": "2023-01-23T15:23:43.281915Z",
     "shell.execute_reply": "2023-01-23T15:23:43.280697Z"
    },
    "papermill": {
     "duration": 0.019815,
     "end_time": "2023-01-23T15:23:43.284664",
     "exception": false,
     "start_time": "2023-01-23T15:23:43.264849",
     "status": "completed"
    },
    "tags": []
   },
   "outputs": [
    {
     "name": "stdout",
     "output_type": "stream",
     "text": [
      "[1, 2, 3, 4, 5, 'Some element', 10]\n"
     ]
    }
   ],
   "source": [
    "print(list4)"
   ]
  },
  {
   "cell_type": "code",
   "execution_count": 16,
   "id": "9cfe5fcd",
   "metadata": {
    "execution": {
     "iopub.execute_input": "2023-01-23T15:23:43.306777Z",
     "iopub.status.busy": "2023-01-23T15:23:43.306329Z",
     "iopub.status.idle": "2023-01-23T15:23:43.312196Z",
     "shell.execute_reply": "2023-01-23T15:23:43.310994Z"
    },
    "papermill": {
     "duration": 0.020367,
     "end_time": "2023-01-23T15:23:43.315175",
     "exception": false,
     "start_time": "2023-01-23T15:23:43.294808",
     "status": "completed"
    },
    "tags": []
   },
   "outputs": [
    {
     "name": "stdout",
     "output_type": "stream",
     "text": [
      "[1, 2, 3, 4, 5, 'Some element']\n"
     ]
    }
   ],
   "source": [
    "print(list3)"
   ]
  },
  {
   "cell_type": "code",
   "execution_count": 17,
   "id": "7ef180e5",
   "metadata": {
    "execution": {
     "iopub.execute_input": "2023-01-23T15:23:43.339036Z",
     "iopub.status.busy": "2023-01-23T15:23:43.338611Z",
     "iopub.status.idle": "2023-01-23T15:23:43.344754Z",
     "shell.execute_reply": "2023-01-23T15:23:43.343647Z"
    },
    "papermill": {
     "duration": 0.021217,
     "end_time": "2023-01-23T15:23:43.348086",
     "exception": false,
     "start_time": "2023-01-23T15:23:43.326869",
     "status": "completed"
    },
    "tags": []
   },
   "outputs": [
    {
     "name": "stdout",
     "output_type": "stream",
     "text": [
      "[0, 5, 7, 8, 4, 3, 2]\n",
      "[0, 2, 3, 4, 5, 7, 8]\n"
     ]
    }
   ],
   "source": [
    "list5 = [0,5,7,8,4,3,2]\n",
    "print(list5)\n",
    "list5.sort()\n",
    "print(list5)"
   ]
  },
  {
   "cell_type": "code",
   "execution_count": 18,
   "id": "ccddd984",
   "metadata": {
    "execution": {
     "iopub.execute_input": "2023-01-23T15:23:43.370171Z",
     "iopub.status.busy": "2023-01-23T15:23:43.369781Z",
     "iopub.status.idle": "2023-01-23T15:23:43.375715Z",
     "shell.execute_reply": "2023-01-23T15:23:43.374567Z"
    },
    "papermill": {
     "duration": 0.019974,
     "end_time": "2023-01-23T15:23:43.378261",
     "exception": false,
     "start_time": "2023-01-23T15:23:43.358287",
     "status": "completed"
    },
    "tags": []
   },
   "outputs": [
    {
     "name": "stdout",
     "output_type": "stream",
     "text": [
      "(1, 2, 3, 4, 'String1', 'String2', [1, 2, 3, 4])\n"
     ]
    }
   ],
   "source": [
    "#tuples\n",
    "tuple1 = (1,2,3,4,\"String1\",\"String2\",[1,2,3,4])\n",
    "print(tuple1)"
   ]
  },
  {
   "cell_type": "code",
   "execution_count": 19,
   "id": "487512e5",
   "metadata": {
    "execution": {
     "iopub.execute_input": "2023-01-23T15:23:43.400579Z",
     "iopub.status.busy": "2023-01-23T15:23:43.400174Z",
     "iopub.status.idle": "2023-01-23T15:23:43.406227Z",
     "shell.execute_reply": "2023-01-23T15:23:43.405050Z"
    },
    "papermill": {
     "duration": 0.020219,
     "end_time": "2023-01-23T15:23:43.408698",
     "exception": false,
     "start_time": "2023-01-23T15:23:43.388479",
     "status": "completed"
    },
    "tags": []
   },
   "outputs": [
    {
     "name": "stdout",
     "output_type": "stream",
     "text": [
      "String1\n",
      "String1\n"
     ]
    }
   ],
   "source": [
    "print(tuple1[4])\n",
    "print(tuple1[-3])"
   ]
  },
  {
   "cell_type": "code",
   "execution_count": 20,
   "id": "bb8bc92c",
   "metadata": {
    "execution": {
     "iopub.execute_input": "2023-01-23T15:23:43.431108Z",
     "iopub.status.busy": "2023-01-23T15:23:43.430671Z",
     "iopub.status.idle": "2023-01-23T15:23:43.436545Z",
     "shell.execute_reply": "2023-01-23T15:23:43.435442Z"
    },
    "papermill": {
     "duration": 0.020226,
     "end_time": "2023-01-23T15:23:43.439155",
     "exception": false,
     "start_time": "2023-01-23T15:23:43.418929",
     "status": "completed"
    },
    "tags": []
   },
   "outputs": [
    {
     "name": "stdout",
     "output_type": "stream",
     "text": [
      "value\n"
     ]
    }
   ],
   "source": [
    "#dictionaries\n",
    "# hashmap ()\n",
    "dict1 = {\"key\" : \"value\"}\n",
    "print(dict1[\"key\"])"
   ]
  },
  {
   "cell_type": "code",
   "execution_count": 21,
   "id": "86c29717",
   "metadata": {
    "execution": {
     "iopub.execute_input": "2023-01-23T15:23:43.461982Z",
     "iopub.status.busy": "2023-01-23T15:23:43.461539Z",
     "iopub.status.idle": "2023-01-23T15:23:43.468154Z",
     "shell.execute_reply": "2023-01-23T15:23:43.466861Z"
    },
    "papermill": {
     "duration": 0.020983,
     "end_time": "2023-01-23T15:23:43.470725",
     "exception": false,
     "start_time": "2023-01-23T15:23:43.449742",
     "status": "completed"
    },
    "tags": []
   },
   "outputs": [
    {
     "name": "stdout",
     "output_type": "stream",
     "text": [
      "Peter\n"
     ]
    }
   ],
   "source": [
    "dict2 = {\"name\" : \"Peter\"}\n",
    "print(dict2[\"name\"])"
   ]
  },
  {
   "cell_type": "code",
   "execution_count": 22,
   "id": "4129eda1",
   "metadata": {
    "execution": {
     "iopub.execute_input": "2023-01-23T15:23:43.493389Z",
     "iopub.status.busy": "2023-01-23T15:23:43.492989Z",
     "iopub.status.idle": "2023-01-23T15:23:43.499313Z",
     "shell.execute_reply": "2023-01-23T15:23:43.498237Z"
    },
    "papermill": {
     "duration": 0.020272,
     "end_time": "2023-01-23T15:23:43.501469",
     "exception": false,
     "start_time": "2023-01-23T15:23:43.481197",
     "status": "completed"
    },
    "tags": []
   },
   "outputs": [
    {
     "name": "stdout",
     "output_type": "stream",
     "text": [
      "Peter\n",
      "Optimization\n"
     ]
    }
   ],
   "source": [
    "dict3 = {\n",
    "    \"name\" : \"Peter\",\n",
    "    \"age\" : 30,\n",
    "    \"area\" : \"Optimization\"\n",
    "}\n",
    "print(dict3[\"name\"])\n",
    "print(dict3[\"area\"])"
   ]
  },
  {
   "cell_type": "code",
   "execution_count": 23,
   "id": "56874080",
   "metadata": {
    "execution": {
     "iopub.execute_input": "2023-01-23T15:23:43.524001Z",
     "iopub.status.busy": "2023-01-23T15:23:43.523584Z",
     "iopub.status.idle": "2023-01-23T15:23:43.530599Z",
     "shell.execute_reply": "2023-01-23T15:23:43.529792Z"
    },
    "papermill": {
     "duration": 0.020795,
     "end_time": "2023-01-23T15:23:43.532589",
     "exception": false,
     "start_time": "2023-01-23T15:23:43.511794",
     "status": "completed"
    },
    "tags": []
   },
   "outputs": [
    {
     "name": "stdout",
     "output_type": "stream",
     "text": [
      "[1, 2, 3, 4, 5]\n",
      "{'info': 'Data'}\n",
      "Data\n"
     ]
    }
   ],
   "source": [
    "dict4 = {\n",
    "    \"name\" : \"Peter\",\n",
    "    \"age\" : 30,\n",
    "    \"area\" : \"Optimization\",\n",
    "    \"other\" : [1,2,3,4,5],\n",
    "    \"more\" : {\n",
    "        \"info\" : \"Data\"\n",
    "    }\n",
    "}\n",
    "print(dict4[\"other\"])\n",
    "print(dict4[\"more\"])\n",
    "print(dict4[\"more\"][\"info\"])"
   ]
  },
  {
   "cell_type": "code",
   "execution_count": 24,
   "id": "10e98b6b",
   "metadata": {
    "execution": {
     "iopub.execute_input": "2023-01-23T15:23:43.555533Z",
     "iopub.status.busy": "2023-01-23T15:23:43.555085Z",
     "iopub.status.idle": "2023-01-23T15:23:43.561465Z",
     "shell.execute_reply": "2023-01-23T15:23:43.560684Z"
    },
    "papermill": {
     "duration": 0.020088,
     "end_time": "2023-01-23T15:23:43.563550",
     "exception": false,
     "start_time": "2023-01-23T15:23:43.543462",
     "status": "completed"
    },
    "tags": []
   },
   "outputs": [
    {
     "data": {
      "text/plain": [
       "dict_items([('name', 'Peter'), ('age', 30), ('area', 'Optimization'), ('other', [1, 2, 3, 4, 5]), ('more', {'info': 'Data'})])"
      ]
     },
     "execution_count": 24,
     "metadata": {},
     "output_type": "execute_result"
    }
   ],
   "source": [
    "dict4.items()"
   ]
  },
  {
   "cell_type": "code",
   "execution_count": 25,
   "id": "53e00151",
   "metadata": {
    "execution": {
     "iopub.execute_input": "2023-01-23T15:23:43.586373Z",
     "iopub.status.busy": "2023-01-23T15:23:43.585939Z",
     "iopub.status.idle": "2023-01-23T15:23:43.592806Z",
     "shell.execute_reply": "2023-01-23T15:23:43.591779Z"
    },
    "papermill": {
     "duration": 0.02079,
     "end_time": "2023-01-23T15:23:43.594880",
     "exception": false,
     "start_time": "2023-01-23T15:23:43.574090",
     "status": "completed"
    },
    "tags": []
   },
   "outputs": [
    {
     "data": {
      "text/plain": [
       "dict_values(['Peter', 30, 'Optimization', [1, 2, 3, 4, 5], {'info': 'Data'}])"
      ]
     },
     "execution_count": 25,
     "metadata": {},
     "output_type": "execute_result"
    }
   ],
   "source": [
    "dict4.values()"
   ]
  },
  {
   "cell_type": "code",
   "execution_count": 26,
   "id": "00aa4cd6",
   "metadata": {
    "execution": {
     "iopub.execute_input": "2023-01-23T15:23:43.618005Z",
     "iopub.status.busy": "2023-01-23T15:23:43.617587Z",
     "iopub.status.idle": "2023-01-23T15:23:43.625046Z",
     "shell.execute_reply": "2023-01-23T15:23:43.624016Z"
    },
    "papermill": {
     "duration": 0.021428,
     "end_time": "2023-01-23T15:23:43.627276",
     "exception": false,
     "start_time": "2023-01-23T15:23:43.605848",
     "status": "completed"
    },
    "tags": []
   },
   "outputs": [
    {
     "data": {
      "text/plain": [
       "['__class__',\n",
       " '__contains__',\n",
       " '__delattr__',\n",
       " '__delitem__',\n",
       " '__dir__',\n",
       " '__doc__',\n",
       " '__eq__',\n",
       " '__format__',\n",
       " '__ge__',\n",
       " '__getattribute__',\n",
       " '__getitem__',\n",
       " '__gt__',\n",
       " '__hash__',\n",
       " '__init__',\n",
       " '__init_subclass__',\n",
       " '__iter__',\n",
       " '__le__',\n",
       " '__len__',\n",
       " '__lt__',\n",
       " '__ne__',\n",
       " '__new__',\n",
       " '__reduce__',\n",
       " '__reduce_ex__',\n",
       " '__repr__',\n",
       " '__setattr__',\n",
       " '__setitem__',\n",
       " '__sizeof__',\n",
       " '__str__',\n",
       " '__subclasshook__',\n",
       " 'clear',\n",
       " 'copy',\n",
       " 'fromkeys',\n",
       " 'get',\n",
       " 'items',\n",
       " 'keys',\n",
       " 'pop',\n",
       " 'popitem',\n",
       " 'setdefault',\n",
       " 'update',\n",
       " 'values']"
      ]
     },
     "execution_count": 26,
     "metadata": {},
     "output_type": "execute_result"
    }
   ],
   "source": [
    "dir(dict)"
   ]
  },
  {
   "cell_type": "code",
   "execution_count": 27,
   "id": "d461cfc3",
   "metadata": {
    "execution": {
     "iopub.execute_input": "2023-01-23T15:23:43.650777Z",
     "iopub.status.busy": "2023-01-23T15:23:43.650357Z",
     "iopub.status.idle": "2023-01-23T15:23:43.656511Z",
     "shell.execute_reply": "2023-01-23T15:23:43.655239Z"
    },
    "papermill": {
     "duration": 0.020608,
     "end_time": "2023-01-23T15:23:43.658862",
     "exception": false,
     "start_time": "2023-01-23T15:23:43.638254",
     "status": "completed"
    },
    "tags": []
   },
   "outputs": [
    {
     "name": "stdout",
     "output_type": "stream",
     "text": [
      "Help on method_descriptor:\n",
      "\n",
      "values(...)\n",
      "    D.values() -> an object providing a view on D's values\n",
      "\n"
     ]
    }
   ],
   "source": [
    "help(dict.values)"
   ]
  },
  {
   "cell_type": "code",
   "execution_count": 28,
   "id": "319430dc",
   "metadata": {
    "execution": {
     "iopub.execute_input": "2023-01-23T15:23:43.682277Z",
     "iopub.status.busy": "2023-01-23T15:23:43.681888Z",
     "iopub.status.idle": "2023-01-23T15:23:43.688311Z",
     "shell.execute_reply": "2023-01-23T15:23:43.687286Z"
    },
    "papermill": {
     "duration": 0.020943,
     "end_time": "2023-01-23T15:23:43.690921",
     "exception": false,
     "start_time": "2023-01-23T15:23:43.669978",
     "status": "completed"
    },
    "tags": []
   },
   "outputs": [
    {
     "name": "stdout",
     "output_type": "stream",
     "text": [
      "{1, 2, 3, 4}\n",
      "{2, 4}\n"
     ]
    }
   ],
   "source": [
    "#sets\n",
    "set1 = {1,2,3,4,4,4,4,4,4,4}\n",
    "print(set1)\n",
    "set2 = {2,4,8,10}\n",
    "print(set1.intersection(set2))"
   ]
  },
  {
   "cell_type": "code",
   "execution_count": 29,
   "id": "cc329b84",
   "metadata": {
    "execution": {
     "iopub.execute_input": "2023-01-23T15:23:43.715115Z",
     "iopub.status.busy": "2023-01-23T15:23:43.714305Z",
     "iopub.status.idle": "2023-01-23T15:23:43.720051Z",
     "shell.execute_reply": "2023-01-23T15:23:43.718899Z"
    },
    "papermill": {
     "duration": 0.020047,
     "end_time": "2023-01-23T15:23:43.722126",
     "exception": false,
     "start_time": "2023-01-23T15:23:43.702079",
     "status": "completed"
    },
    "tags": []
   },
   "outputs": [
    {
     "name": "stdout",
     "output_type": "stream",
     "text": [
      "{1, 3}\n"
     ]
    }
   ],
   "source": [
    "print(set1 - set2)"
   ]
  },
  {
   "cell_type": "markdown",
   "id": "fbab1b9e",
   "metadata": {
    "papermill": {
     "duration": 0.010753,
     "end_time": "2023-01-23T15:23:43.743786",
     "exception": false,
     "start_time": "2023-01-23T15:23:43.733033",
     "status": "completed"
    },
    "tags": []
   },
   "source": [
    "# Python Conditions\n",
    "\n",
    "if (expresion):\n",
    "    run_code"
   ]
  },
  {
   "cell_type": "code",
   "execution_count": 30,
   "id": "ee396c86",
   "metadata": {
    "execution": {
     "iopub.execute_input": "2023-01-23T15:23:43.767582Z",
     "iopub.status.busy": "2023-01-23T15:23:43.767074Z",
     "iopub.status.idle": "2023-01-23T15:23:43.772868Z",
     "shell.execute_reply": "2023-01-23T15:23:43.772005Z"
    },
    "papermill": {
     "duration": 0.020307,
     "end_time": "2023-01-23T15:23:43.775065",
     "exception": false,
     "start_time": "2023-01-23T15:23:43.754758",
     "status": "completed"
    },
    "tags": []
   },
   "outputs": [
    {
     "name": "stdout",
     "output_type": "stream",
     "text": [
      "Is great than 5\n"
     ]
    }
   ],
   "source": [
    "number = 20\n",
    "if (number > 5):\n",
    "    print(\"Is great than 5\")\n",
    "else:\n",
    "    print(\"Is less than 5\")"
   ]
  },
  {
   "cell_type": "code",
   "execution_count": 31,
   "id": "e7d4dd36",
   "metadata": {
    "execution": {
     "iopub.execute_input": "2023-01-23T15:23:43.799262Z",
     "iopub.status.busy": "2023-01-23T15:23:43.798833Z",
     "iopub.status.idle": "2023-01-23T15:23:43.804758Z",
     "shell.execute_reply": "2023-01-23T15:23:43.803586Z"
    },
    "papermill": {
     "duration": 0.021019,
     "end_time": "2023-01-23T15:23:43.807417",
     "exception": false,
     "start_time": "2023-01-23T15:23:43.786398",
     "status": "completed"
    },
    "tags": []
   },
   "outputs": [
    {
     "name": "stdout",
     "output_type": "stream",
     "text": [
      "bongo\n"
     ]
    }
   ],
   "source": [
    "blaat = 3\n",
    "if (blaat <2):\n",
    "    print(\"lalala\")\n",
    "else:\n",
    "    print(\"bongo\")"
   ]
  },
  {
   "cell_type": "code",
   "execution_count": 32,
   "id": "31ecda79",
   "metadata": {
    "execution": {
     "iopub.execute_input": "2023-01-23T15:23:43.831602Z",
     "iopub.status.busy": "2023-01-23T15:23:43.831184Z",
     "iopub.status.idle": "2023-01-23T15:23:43.837346Z",
     "shell.execute_reply": "2023-01-23T15:23:43.836585Z"
    },
    "papermill": {
     "duration": 0.020896,
     "end_time": "2023-01-23T15:23:43.839545",
     "exception": false,
     "start_time": "2023-01-23T15:23:43.818649",
     "status": "completed"
    },
    "tags": []
   },
   "outputs": [
    {
     "name": "stdout",
     "output_type": "stream",
     "text": [
      "Condition4\n"
     ]
    }
   ],
   "source": [
    "age = 100\n",
    "if (age > 18 and age <= 30):\n",
    "    print(\"Condition1\")\n",
    "elif(age > 30 and age <= 50):\n",
    "    print(\"Condition2\")\n",
    "elif (age > 50 and age <= 60):\n",
    "    print(\"Condition3\")\n",
    "else:\n",
    "    print(\"Condition4\")"
   ]
  },
  {
   "cell_type": "code",
   "execution_count": 33,
   "id": "1a53ed86",
   "metadata": {
    "execution": {
     "iopub.execute_input": "2023-01-23T15:23:43.863257Z",
     "iopub.status.busy": "2023-01-23T15:23:43.862837Z",
     "iopub.status.idle": "2023-01-23T15:23:43.868899Z",
     "shell.execute_reply": "2023-01-23T15:23:43.867793Z"
    },
    "papermill": {
     "duration": 0.020375,
     "end_time": "2023-01-23T15:23:43.870952",
     "exception": false,
     "start_time": "2023-01-23T15:23:43.850577",
     "status": "completed"
    },
    "tags": []
   },
   "outputs": [
    {
     "name": "stdout",
     "output_type": "stream",
     "text": [
      "Is in\n"
     ]
    }
   ],
   "source": [
    "list1 = [\"Juan\",\"Peter\",\"Aldo\"]\n",
    "if (\"Juan\" in list1):\n",
    "    print(\"Is in\")\n",
    "else:\n",
    "    print(\"Is not in\")"
   ]
  },
  {
   "cell_type": "code",
   "execution_count": 34,
   "id": "17ea9052",
   "metadata": {
    "execution": {
     "iopub.execute_input": "2023-01-23T15:23:43.895308Z",
     "iopub.status.busy": "2023-01-23T15:23:43.894942Z",
     "iopub.status.idle": "2023-01-23T15:23:43.901756Z",
     "shell.execute_reply": "2023-01-23T15:23:43.900720Z"
    },
    "papermill": {
     "duration": 0.021593,
     "end_time": "2023-01-23T15:23:43.903919",
     "exception": false,
     "start_time": "2023-01-23T15:23:43.882326",
     "status": "completed"
    },
    "tags": []
   },
   "outputs": [
    {
     "data": {
      "text/plain": [
       "[1, 2, 3, 4, 5, 6]"
      ]
     },
     "execution_count": 34,
     "metadata": {},
     "output_type": "execute_result"
    }
   ],
   "source": [
    "list1 = [1,2,3,4,5,6,7,6,8,9]\n",
    "list1[:6]"
   ]
  },
  {
   "cell_type": "code",
   "execution_count": 35,
   "id": "c2081f1d",
   "metadata": {
    "execution": {
     "iopub.execute_input": "2023-01-23T15:23:43.929187Z",
     "iopub.status.busy": "2023-01-23T15:23:43.928307Z",
     "iopub.status.idle": "2023-01-23T15:23:43.935311Z",
     "shell.execute_reply": "2023-01-23T15:23:43.934220Z"
    },
    "papermill": {
     "duration": 0.022102,
     "end_time": "2023-01-23T15:23:43.937479",
     "exception": false,
     "start_time": "2023-01-23T15:23:43.915377",
     "status": "completed"
    },
    "tags": []
   },
   "outputs": [
    {
     "name": "stdout",
     "output_type": "stream",
     "text": [
      "Help on built-in function remove:\n",
      "\n",
      "remove(value, /) method of builtins.list instance\n",
      "    Remove first occurrence of value.\n",
      "    \n",
      "    Raises ValueError if the value is not present.\n",
      "\n"
     ]
    }
   ],
   "source": [
    "help(list1.remove)"
   ]
  },
  {
   "cell_type": "code",
   "execution_count": 36,
   "id": "3a1493bb",
   "metadata": {
    "execution": {
     "iopub.execute_input": "2023-01-23T15:23:43.962736Z",
     "iopub.status.busy": "2023-01-23T15:23:43.962289Z",
     "iopub.status.idle": "2023-01-23T15:23:43.967616Z",
     "shell.execute_reply": "2023-01-23T15:23:43.966245Z"
    },
    "papermill": {
     "duration": 0.020776,
     "end_time": "2023-01-23T15:23:43.969973",
     "exception": false,
     "start_time": "2023-01-23T15:23:43.949197",
     "status": "completed"
    },
    "tags": []
   },
   "outputs": [],
   "source": [
    "list1.remove(6)"
   ]
  },
  {
   "cell_type": "code",
   "execution_count": 37,
   "id": "715676c4",
   "metadata": {
    "execution": {
     "iopub.execute_input": "2023-01-23T15:23:43.995085Z",
     "iopub.status.busy": "2023-01-23T15:23:43.994686Z",
     "iopub.status.idle": "2023-01-23T15:23:44.001673Z",
     "shell.execute_reply": "2023-01-23T15:23:44.000499Z"
    },
    "papermill": {
     "duration": 0.022289,
     "end_time": "2023-01-23T15:23:44.003965",
     "exception": false,
     "start_time": "2023-01-23T15:23:43.981676",
     "status": "completed"
    },
    "tags": []
   },
   "outputs": [
    {
     "data": {
      "text/plain": [
       "[1, 2, 3, 4, 5, 7, 6, 8, 9]"
      ]
     },
     "execution_count": 37,
     "metadata": {},
     "output_type": "execute_result"
    }
   ],
   "source": [
    "list1"
   ]
  }
 ],
 "metadata": {
  "kernelspec": {
   "display_name": "Python 3",
   "language": "python",
   "name": "python3"
  },
  "language_info": {
   "codemirror_mode": {
    "name": "ipython",
    "version": 3
   },
   "file_extension": ".py",
   "mimetype": "text/x-python",
   "name": "python",
   "nbconvert_exporter": "python",
   "pygments_lexer": "ipython3",
   "version": "3.7.12"
  },
  "papermill": {
   "default_parameters": {},
   "duration": 10.198353,
   "end_time": "2023-01-23T15:23:44.636853",
   "environment_variables": {},
   "exception": null,
   "input_path": "__notebook__.ipynb",
   "output_path": "__notebook__.ipynb",
   "parameters": {},
   "start_time": "2023-01-23T15:23:34.438500",
   "version": "2.3.4"
  }
 },
 "nbformat": 4,
 "nbformat_minor": 5
}
