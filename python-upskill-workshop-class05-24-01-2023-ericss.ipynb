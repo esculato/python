{
 "cells": [
  {
   "cell_type": "markdown",
   "id": "b1049283",
   "metadata": {
    "papermill": {
     "duration": 0.006126,
     "end_time": "2023-01-24T14:58:30.219564",
     "exception": false,
     "start_time": "2023-01-24T14:58:30.213438",
     "status": "completed"
    },
    "tags": []
   },
   "source": [
    "# Exception Handling"
   ]
  },
  {
   "cell_type": "markdown",
   "id": "429728d0",
   "metadata": {
    "papermill": {
     "duration": 0.004456,
     "end_time": "2023-01-24T14:58:30.229252",
     "exception": false,
     "start_time": "2023-01-24T14:58:30.224796",
     "status": "completed"
    },
    "tags": []
   },
   "source": [
    "## Try-Except"
   ]
  },
  {
   "cell_type": "code",
   "execution_count": 1,
   "id": "38f61610",
   "metadata": {
    "execution": {
     "iopub.execute_input": "2023-01-24T14:58:30.241004Z",
     "iopub.status.busy": "2023-01-24T14:58:30.240504Z",
     "iopub.status.idle": "2023-01-24T14:58:30.255777Z",
     "shell.execute_reply": "2023-01-24T14:58:30.254662Z"
    },
    "papermill": {
     "duration": 0.024496,
     "end_time": "2023-01-24T14:58:30.258517",
     "exception": false,
     "start_time": "2023-01-24T14:58:30.234021",
     "status": "completed"
    },
    "tags": []
   },
   "outputs": [],
   "source": [
    "#we are trying to open a file but as you can see the name of my file is wrong this will throw an error \n",
    "#the correct name of the file is my_file.txt\n",
    "file = open(\"../input/class5/my_file.txt\")\n",
    "#you will see that we recevied an error message with a lot of details "
   ]
  },
  {
   "cell_type": "code",
   "execution_count": 2,
   "id": "ad7a21cb",
   "metadata": {
    "execution": {
     "iopub.execute_input": "2023-01-24T14:58:30.269998Z",
     "iopub.status.busy": "2023-01-24T14:58:30.269606Z",
     "iopub.status.idle": "2023-01-24T14:58:30.281460Z",
     "shell.execute_reply": "2023-01-24T14:58:30.280502Z"
    },
    "papermill": {
     "duration": 0.020424,
     "end_time": "2023-01-24T14:58:30.283848",
     "exception": false,
     "start_time": "2023-01-24T14:58:30.263424",
     "status": "completed"
    },
    "tags": []
   },
   "outputs": [],
   "source": [
    "#what we are going to do now is moving the section that throwed the error in to the try except block\n",
    "try: \n",
    "    file = open(\"../input/class5/my_file.txt\")\n",
    "except Exception:\n",
    "    print(\"Error, file not found\")\n",
    "\n",
    "    \n",
    "#now we are showing a more friendly message to the user"
   ]
  },
  {
   "cell_type": "code",
   "execution_count": 3,
   "id": "e56ff354",
   "metadata": {
    "execution": {
     "iopub.execute_input": "2023-01-24T14:58:30.296722Z",
     "iopub.status.busy": "2023-01-24T14:58:30.295674Z",
     "iopub.status.idle": "2023-01-24T14:58:30.301071Z",
     "shell.execute_reply": "2023-01-24T14:58:30.299756Z"
    },
    "papermill": {
     "duration": 0.015031,
     "end_time": "2023-01-24T14:58:30.303481",
     "exception": false,
     "start_time": "2023-01-24T14:58:30.288450",
     "status": "completed"
    },
    "tags": []
   },
   "outputs": [],
   "source": [
    "#Arithmetic error\n",
    "#occurs when an error is encountered during numeric calculations in Python. \n",
    "#This includes Zerodivision Error and Floating point error. \n",
    "#In addition, zero division error is raised when you divide a numeric value by zero.\n",
    "####number  = 6\n",
    "####ZeroErro = 6 / 0"
   ]
  },
  {
   "cell_type": "code",
   "execution_count": 4,
   "id": "32e36294",
   "metadata": {
    "execution": {
     "iopub.execute_input": "2023-01-24T14:58:30.315020Z",
     "iopub.status.busy": "2023-01-24T14:58:30.313992Z",
     "iopub.status.idle": "2023-01-24T14:58:30.320980Z",
     "shell.execute_reply": "2023-01-24T14:58:30.319815Z"
    },
    "papermill": {
     "duration": 0.015432,
     "end_time": "2023-01-24T14:58:30.323494",
     "exception": false,
     "start_time": "2023-01-24T14:58:30.308062",
     "status": "completed"
    },
    "tags": []
   },
   "outputs": [
    {
     "name": "stdout",
     "output_type": "stream",
     "text": [
      "Error in division\n"
     ]
    }
   ],
   "source": [
    "#ZeroDivisionError: division by zero\n",
    "try: \n",
    "    number  = 6\n",
    "    ZeroErro = 6 / 0\n",
    "except Exception: \n",
    "    print(\"Error in division\")"
   ]
  },
  {
   "cell_type": "code",
   "execution_count": 5,
   "id": "686f6162",
   "metadata": {
    "execution": {
     "iopub.execute_input": "2023-01-24T14:58:30.334596Z",
     "iopub.status.busy": "2023-01-24T14:58:30.333875Z",
     "iopub.status.idle": "2023-01-24T14:58:30.340888Z",
     "shell.execute_reply": "2023-01-24T14:58:30.339290Z"
    },
    "papermill": {
     "duration": 0.015264,
     "end_time": "2023-01-24T14:58:30.343259",
     "exception": false,
     "start_time": "2023-01-24T14:58:30.327995",
     "status": "completed"
    },
    "tags": []
   },
   "outputs": [
    {
     "name": "stdout",
     "output_type": "stream",
     "text": [
      "division by zero\n"
     ]
    }
   ],
   "source": [
    "#using Exception as the identifier for our excpetion is kind of vague\n",
    "#above you can see that the error we got was ZeroDivisionError\n",
    "#we can be more specific \n",
    "\n",
    "try: \n",
    "    number  = 6\n",
    "    ZeroErro = 6 / 0   \n",
    "except ZeroDivisionError as e:\n",
    "    print(e)\n",
    "# you can see that now ware are capturing the error in a more precise manner \n",
    "#also we are capturing the exceptin in the variable e and printing the error message"
   ]
  },
  {
   "cell_type": "code",
   "execution_count": 6,
   "id": "65ed78c5",
   "metadata": {
    "execution": {
     "iopub.execute_input": "2023-01-24T14:58:30.355468Z",
     "iopub.status.busy": "2023-01-24T14:58:30.354189Z",
     "iopub.status.idle": "2023-01-24T14:58:30.361926Z",
     "shell.execute_reply": "2023-01-24T14:58:30.360413Z"
    },
    "papermill": {
     "duration": 0.016116,
     "end_time": "2023-01-24T14:58:30.364410",
     "exception": false,
     "start_time": "2023-01-24T14:58:30.348294",
     "status": "completed"
    },
    "tags": []
   },
   "outputs": [
    {
     "name": "stdout",
     "output_type": "stream",
     "text": [
      "file not found\n"
     ]
    }
   ],
   "source": [
    "# we want to be specific when we are capturing our errors\n",
    "# because try and except is mean to catch the erros we expect\n",
    "\n",
    "#for instance here we have two erros the first one is the file name\n",
    "#the second is the name of the book is not a string this will cause an exception\n",
    "try: \n",
    "    file = open(\"../input/normalfile/myfile.txt\")\n",
    "    book = Silmarillion\n",
    "except Exception:\n",
    "    print(\"file not found\")\n",
    "#as you see we capture the first error the file name"
   ]
  },
  {
   "cell_type": "code",
   "execution_count": 7,
   "id": "95e32dd3",
   "metadata": {
    "execution": {
     "iopub.execute_input": "2023-01-24T14:58:30.375181Z",
     "iopub.status.busy": "2023-01-24T14:58:30.374818Z",
     "iopub.status.idle": "2023-01-24T14:58:30.380316Z",
     "shell.execute_reply": "2023-01-24T14:58:30.379024Z"
    },
    "papermill": {
     "duration": 0.014249,
     "end_time": "2023-01-24T14:58:30.383179",
     "exception": false,
     "start_time": "2023-01-24T14:58:30.368930",
     "status": "completed"
    },
    "tags": []
   },
   "outputs": [
    {
     "name": "stdout",
     "output_type": "stream",
     "text": [
      "file not found\n"
     ]
    }
   ],
   "source": [
    "#now lest fix the first error\n",
    "try: \n",
    "    file = open(\"../input/normalfile/my_file.txt\")\n",
    "    book = Silmarillion\n",
    "except Exception:\n",
    "    print(\"file not found\")\n",
    "\n",
    "#now we capture the second error but the error message is the same lets change that"
   ]
  },
  {
   "cell_type": "code",
   "execution_count": 8,
   "id": "d474475f",
   "metadata": {
    "execution": {
     "iopub.execute_input": "2023-01-24T14:58:30.395146Z",
     "iopub.status.busy": "2023-01-24T14:58:30.394764Z",
     "iopub.status.idle": "2023-01-24T14:58:30.401283Z",
     "shell.execute_reply": "2023-01-24T14:58:30.400041Z"
    },
    "papermill": {
     "duration": 0.015546,
     "end_time": "2023-01-24T14:58:30.403917",
     "exception": false,
     "start_time": "2023-01-24T14:58:30.388371",
     "status": "completed"
    },
    "tags": []
   },
   "outputs": [
    {
     "name": "stdout",
     "output_type": "stream",
     "text": [
      "[Errno 2] No such file or directory: '../input/normalfile/my_file.txt'\n"
     ]
    }
   ],
   "source": [
    "try: \n",
    "    file = open(\"../input/normalfile/my_file.txt\")\n",
    "    book = Silmarillion\n",
    "except FileNotFoundError as e: # first lest add the correct excpetion for File not found\n",
    "    print(e) #we print the error message\n",
    "except Exception:\n",
    "    print(\"An error was found\") #and we create another except to handle any other erros in the cose\n",
    "    \n",
    "# in this case we can see that since the first error is fixed we skip that and capture the next exception with\n",
    "#the general Exception .\n",
    "#NOTE: when you handle multiple excpetion be sure that your are putting the more specifict at the top\n",
    "#and the more genral at the bottom. \n",
    "\n",
    "#  if we always use EXCEPTION at the top it will alwasy hit that one first since is the more general"
   ]
  },
  {
   "cell_type": "markdown",
   "id": "f6961ec4",
   "metadata": {
    "papermill": {
     "duration": 0.004773,
     "end_time": "2023-01-24T14:58:30.413698",
     "exception": false,
     "start_time": "2023-01-24T14:58:30.408925",
     "status": "completed"
    },
    "tags": []
   },
   "source": [
    "# Else / Finally Statement"
   ]
  },
  {
   "cell_type": "code",
   "execution_count": 9,
   "id": "5b1e13c1",
   "metadata": {
    "execution": {
     "iopub.execute_input": "2023-01-24T14:58:30.425511Z",
     "iopub.status.busy": "2023-01-24T14:58:30.425064Z",
     "iopub.status.idle": "2023-01-24T14:58:30.433314Z",
     "shell.execute_reply": "2023-01-24T14:58:30.431992Z"
    },
    "papermill": {
     "duration": 0.016995,
     "end_time": "2023-01-24T14:58:30.435551",
     "exception": false,
     "start_time": "2023-01-24T14:58:30.418556",
     "status": "completed"
    },
    "tags": []
   },
   "outputs": [
    {
     "name": "stdout",
     "output_type": "stream",
     "text": [
      "this is the content of our test file!\n"
     ]
    }
   ],
   "source": [
    "#else example\n",
    "try: \n",
    "    file = open(\"../input/class5/my_file.txt\")\n",
    "except FileNotFoundError as e:\n",
    "    print(e) \n",
    "except Exception:\n",
    "    print(\"An error was found\") \n",
    "else: \n",
    "    print(file.read()) # you can see that this code doesnt have an error so Else will run\n",
    "    file.close() # because no exception was found\n",
    "\n",
    "    # in this case it will read the file and print the content \n",
    "    #and close the file afterwards"
   ]
  },
  {
   "cell_type": "code",
   "execution_count": 10,
   "id": "b7d123d0",
   "metadata": {
    "execution": {
     "iopub.execute_input": "2023-01-24T14:58:30.447528Z",
     "iopub.status.busy": "2023-01-24T14:58:30.446932Z",
     "iopub.status.idle": "2023-01-24T14:58:30.459311Z",
     "shell.execute_reply": "2023-01-24T14:58:30.458154Z"
    },
    "papermill": {
     "duration": 0.021525,
     "end_time": "2023-01-24T14:58:30.462153",
     "exception": false,
     "start_time": "2023-01-24T14:58:30.440628",
     "status": "completed"
    },
    "tags": []
   },
   "outputs": [
    {
     "name": "stdout",
     "output_type": "stream",
     "text": [
      "Variable a is more than 30\n",
      "This is the finally block\n"
     ]
    }
   ],
   "source": [
    "#finally example\n",
    "\n",
    "try: \n",
    "    file = open(\"../input/class5/my_corrupted_file.txt\")# we are opening a corrupted file ( not really is only the name)\n",
    "    if file.name == \"my_corrupted_file.txt\": #we validate if the file name is my_corrupted_file.txt and if it is\n",
    "        raise Exception #we raise an exception\n",
    "    a=43\n",
    "    if (a>30):\n",
    "        raise FileNotFoundError(\"Variable a is more than 30\")\n",
    "except FileNotFoundError as e:\n",
    "    print(e)\n",
    "except Exception as e: \n",
    "    print(e)\n",
    "    #print(\"Error Message\")\n",
    "finally:\n",
    "    print(\"This is the finally block\")\n",
    "    \n",
    "#you can see that even if this is not a python error we are still raising our own exception"
   ]
  },
  {
   "cell_type": "markdown",
   "id": "f28c5275",
   "metadata": {
    "papermill": {
     "duration": 0.005138,
     "end_time": "2023-01-24T14:58:30.472558",
     "exception": false,
     "start_time": "2023-01-24T14:58:30.467420",
     "status": "completed"
    },
    "tags": []
   },
   "source": [
    "# **LAB 2**"
   ]
  },
  {
   "cell_type": "code",
   "execution_count": 11,
   "id": "6e8bdd1d",
   "metadata": {
    "execution": {
     "iopub.execute_input": "2023-01-24T14:58:30.484980Z",
     "iopub.status.busy": "2023-01-24T14:58:30.484580Z",
     "iopub.status.idle": "2023-01-24T14:58:30.496399Z",
     "shell.execute_reply": "2023-01-24T14:58:30.494994Z"
    },
    "papermill": {
     "duration": 0.021172,
     "end_time": "2023-01-24T14:58:30.498910",
     "exception": false,
     "start_time": "2023-01-24T14:58:30.477738",
     "status": "completed"
    },
    "tags": []
   },
   "outputs": [
    {
     "name": "stdout",
     "output_type": "stream",
     "text": [
      "<_io.TextIOWrapper name='../input/secret/secret_database.txt' mode='r' encoding='UTF-8'>\n"
     ]
    }
   ],
   "source": [
    "# list to store data\n",
    "data_from_file= []\n",
    "\n",
    "\n",
    "#create a try /except for the open file procedure and handle the exception FileNotFoundError\n",
    "data_from_file = [\"0,4,3\",\"12,34,54\",\"12,32,65\"]\n",
    "                  \n",
    "try:\n",
    "    with open(r\"../input/secret/secret_database.txt\",\"r\") as f:\n",
    "    #return a list with all lines \n",
    "        data_from_file = f.readlines()\n",
    "        print(f)\n",
    "except FileNotFoundError as e:\n",
    "    print(e)    \n",
    "except Exception as e:\n",
    "    print(e)\n",
    "    \n",
    "#except:\n",
    "#    pass\n",
    "    \n",
    "#dictionary to store file lines to use as database\n",
    "database = {}\n",
    "\n",
    "#for loop to iterate and construct the dictionary\n",
    "for line in data_from_file:\n",
    "    current_line = line.split(\",\")\n",
    "    database.update({current_line[0]: [current_line[1],current_line[2]] })\n",
    "\n",
    "# if session false the program exits\n",
    "session = True\n"
   ]
  },
  {
   "cell_type": "code",
   "execution_count": 12,
   "id": "b567186f",
   "metadata": {
    "execution": {
     "iopub.execute_input": "2023-01-24T14:58:30.511612Z",
     "iopub.status.busy": "2023-01-24T14:58:30.510556Z",
     "iopub.status.idle": "2023-01-24T14:58:30.519013Z",
     "shell.execute_reply": "2023-01-24T14:58:30.517823Z"
    },
    "papermill": {
     "duration": 0.017555,
     "end_time": "2023-01-24T14:58:30.521556",
     "exception": false,
     "start_time": "2023-01-24T14:58:30.504001",
     "status": "completed"
    },
    "tags": []
   },
   "outputs": [],
   "source": [
    "#create a function that will be used to request user and password \n",
    "#this function needs to have one parameters  \"task\" and will return a variable with \n",
    "#the input of the user\n",
    "\n",
    "def login_process(task):\n",
    "    if task == \"user\":\n",
    "        user = input(\"Enter your username:   \")\n",
    "        user = user.upper()\n",
    "        return user\n",
    "    elif task == \"pass\":\n",
    "        user = input(\"Enter your password:   \")\n",
    "        print(\"verifying...\")\n",
    "        return password\n",
    "        \n",
    "#also create a function to validate the username and password  \n",
    "#take two arguments one to define the task that will be performed \n",
    "# and the second one to take the input text from the client \n",
    "\n",
    "####def login_valitation(task, input_text):\n",
    "####d    if task == \"user\":\n",
    "####d        ??????????\n",
    "####d    elif task == \"pass\":\n",
    "####d        ???????????\n",
    "####d        secret = f\"Passowrd correct for user: {user},  your secret CODE is: ==  {database.get(user)[1]} ==\"\n",
    "####d        return print(secret)\n",
    "\n",
    "####dwhile session == True:\n",
    "####d    username = login_process(task='user')\n",
    "    #user = input(\"Enter your username:   \")\n",
    "    #user = user.upper()\n",
    "####d    login_valitation(\"user\", username)  \n",
    "    #if user not in database.keys():\n",
    "        #print(\"Invalid username.. please try again\")\n",
    "\n",
    "        #if the user is not in the list lets continue with the next cycle \n",
    "        #continue\n",
    "    #else:\n",
    "        #if the user is in the list then lets continue the current cycle\n",
    "        #print(\"thank you!... this is a valid user \")\n",
    "        #print( \"*\" * 20)\n",
    "    \n",
    "    #ask the user to input its password\n",
    "####d    password = login_process(task='pass')\n",
    "    #password = input(\"Enter your password:   \")\n",
    "    #print(\"verifying ... \")\n",
    "    \n",
    "    #lets valudate the password using the get() method in your database dictinoary \n",
    "####d    login_valitation(\"pass\", password)\n",
    "    #if password == database.get(user)[0]:\n",
    "        #print(f\"Password correct for user: {user},  your secret CODE is: ==  {database.get(user)[1]} ==\") \n",
    "        #print(\"thank you for using  our system\")\n",
    "        #Lets make sure to change the session to FALSE to stop the while loop\n",
    "        #session = False\n",
    "    #else:\n",
    "        #if the password is invalid lets restart the session again\n",
    "        #print(\"invalid password please try again \")\n",
    "        #print( \"*\" * 20)\n",
    "        #continue\n"
   ]
  }
 ],
 "metadata": {
  "kernelspec": {
   "display_name": "Python 3",
   "language": "python",
   "name": "python3"
  },
  "language_info": {
   "codemirror_mode": {
    "name": "ipython",
    "version": 3
   },
   "file_extension": ".py",
   "mimetype": "text/x-python",
   "name": "python",
   "nbconvert_exporter": "python",
   "pygments_lexer": "ipython3",
   "version": "3.7.12"
  },
  "papermill": {
   "default_parameters": {},
   "duration": 9.942237,
   "end_time": "2023-01-24T14:58:31.148280",
   "environment_variables": {},
   "exception": null,
   "input_path": "__notebook__.ipynb",
   "output_path": "__notebook__.ipynb",
   "parameters": {},
   "start_time": "2023-01-24T14:58:21.206043",
   "version": "2.3.4"
  }
 },
 "nbformat": 4,
 "nbformat_minor": 5
}
