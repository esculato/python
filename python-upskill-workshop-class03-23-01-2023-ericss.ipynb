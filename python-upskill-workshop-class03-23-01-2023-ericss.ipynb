{
 "cells": [
  {
   "cell_type": "markdown",
   "id": "c564fb4e",
   "metadata": {
    "papermill": {
     "duration": 0.008009,
     "end_time": "2023-01-23T15:20:32.454870",
     "exception": false,
     "start_time": "2023-01-23T15:20:32.446861",
     "status": "completed"
    },
    "tags": []
   },
   "source": [
    "# Python Loops\n",
    "## While Loop\n",
    "## For Loop"
   ]
  },
  {
   "cell_type": "markdown",
   "id": "f0edea22",
   "metadata": {
    "papermill": {
     "duration": 0.006479,
     "end_time": "2023-01-23T15:20:32.469095",
     "exception": false,
     "start_time": "2023-01-23T15:20:32.462616",
     "status": "completed"
    },
    "tags": []
   },
   "source": [
    "#### while condition:\n",
    "    code block to run\n",
    "#### else:\n",
    "    else clause code block"
   ]
  },
  {
   "cell_type": "code",
   "execution_count": 1,
   "id": "e4c324e4",
   "metadata": {
    "execution": {
     "iopub.execute_input": "2023-01-23T15:20:32.485127Z",
     "iopub.status.busy": "2023-01-23T15:20:32.484285Z",
     "iopub.status.idle": "2023-01-23T15:20:32.497620Z",
     "shell.execute_reply": "2023-01-23T15:20:32.496289Z"
    },
    "papermill": {
     "duration": 0.025495,
     "end_time": "2023-01-23T15:20:32.501324",
     "exception": false,
     "start_time": "2023-01-23T15:20:32.475829",
     "status": "completed"
    },
    "tags": []
   },
   "outputs": [
    {
     "name": "stdout",
     "output_type": "stream",
     "text": [
      "0\n",
      "2\n",
      "4\n",
      "6\n",
      "8\n",
      "10\n"
     ]
    }
   ],
   "source": [
    "#while Loop\n",
    "#python evualte the condition number <= 10\n",
    "#if is true execute the statements\n",
    "#python finish the loop when \n",
    "#the condition is false\n",
    "number = 0\n",
    "while (number <= 10):\n",
    "    print(number)\n",
    "    number += 2"
   ]
  },
  {
   "cell_type": "markdown",
   "id": "e277ac7f",
   "metadata": {
    "papermill": {
     "duration": 0.006557,
     "end_time": "2023-01-23T15:20:32.515358",
     "exception": false,
     "start_time": "2023-01-23T15:20:32.508801",
     "status": "completed"
    },
    "tags": []
   },
   "source": [
    "### Continue statment"
   ]
  },
  {
   "cell_type": "code",
   "execution_count": 2,
   "id": "75b0c4bb",
   "metadata": {
    "execution": {
     "iopub.execute_input": "2023-01-23T15:20:32.530787Z",
     "iopub.status.busy": "2023-01-23T15:20:32.530305Z",
     "iopub.status.idle": "2023-01-23T15:20:32.537063Z",
     "shell.execute_reply": "2023-01-23T15:20:32.536040Z"
    },
    "papermill": {
     "duration": 0.017846,
     "end_time": "2023-01-23T15:20:32.539921",
     "exception": false,
     "start_time": "2023-01-23T15:20:32.522075",
     "status": "completed"
    },
    "tags": []
   },
   "outputs": [
    {
     "name": "stdout",
     "output_type": "stream",
     "text": [
      "Running code at the  0 :00 \n",
      "Running code at the  1 :00 \n",
      "Running code at the  2 :00 \n",
      "Running code at the  3 :00 \n",
      "Running code at the  4 :00 \n",
      "Running code at the  5 :00 \n",
      "Running code at the  6 :00 \n",
      "Running code at the  7 :00 \n",
      "Running code at the  8 :00 \n",
      "Running code at the  9 :00 \n",
      "Running code at the  10 :00 \n",
      "Running code at the  11 :00 \n",
      "Running code at the  12 :00 \n",
      "Running code at the  13 :00 \n",
      "Running code at the  14 :00 \n",
      "Running code at the  15 :00 \n",
      "Running code at the  16 :00 \n",
      "Running code at the  17 :00 \n",
      "Running code at the  18 :00 \n",
      "Running code at the  19 :00 \n",
      "Running code at the  20 :00 \n",
      "Running code at the  21 :00 \n",
      "Running code at the  22 :00 \n",
      "Running code at the  23 :00 \n"
     ]
    }
   ],
   "source": [
    "hour = 0\n",
    "while (hour <= 23):\n",
    "    print(\"Running code at the \",hour,\":00 \")\n",
    "    hour += 1\n",
    "    # Sleep for one hour"
   ]
  },
  {
   "cell_type": "code",
   "execution_count": 3,
   "id": "95af5210",
   "metadata": {
    "execution": {
     "iopub.execute_input": "2023-01-23T15:20:32.556854Z",
     "iopub.status.busy": "2023-01-23T15:20:32.555976Z",
     "iopub.status.idle": "2023-01-23T15:20:32.564946Z",
     "shell.execute_reply": "2023-01-23T15:20:32.563924Z"
    },
    "papermill": {
     "duration": 0.020588,
     "end_time": "2023-01-23T15:20:32.567627",
     "exception": false,
     "start_time": "2023-01-23T15:20:32.547039",
     "status": "completed"
    },
    "tags": []
   },
   "outputs": [
    {
     "name": "stdout",
     "output_type": "stream",
     "text": [
      "Runing code at the  0 :00\n",
      "Runing code at the  1 :00\n",
      "Runing code at the  2 :00\n",
      "Runing code at the  3 :00\n",
      "Runing code at the  4 :00\n",
      "Runing code at the  5 :00\n",
      "Runing code at the  6 :00\n",
      "Runing code at the  7 :00\n",
      "Runing code at the  8 :00\n",
      "Runing code at the  9 :00\n",
      "Runing code at the  10 :00\n",
      "Runing code at the  11 :00\n",
      "Time to lunch\n",
      "Runing code at the  13 :00\n",
      "Runing code at the  14 :00\n",
      "Runing code at the  15 :00\n",
      "Runing code at the  16 :00\n",
      "Runing code at the  17 :00\n",
      "Runing code at the  18 :00\n",
      "Runing code at the  19 :00\n",
      "Runing code at the  20 :00\n",
      "Runing code at the  21 :00\n",
      "Runing code at the  22 :00\n",
      "Runing code at the  23 :00\n"
     ]
    }
   ],
   "source": [
    "#Continue statement\n",
    "hour = 0\n",
    "while (hour <= 23):\n",
    "    hour += 1\n",
    "    if (hour == 13):\n",
    "        print(\"Time to lunch\")\n",
    "        continue\n",
    "    print(\"Runing code at the \",hour - 1,\":00\")\n",
    "    "
   ]
  },
  {
   "cell_type": "markdown",
   "id": "2281edf4",
   "metadata": {
    "papermill": {
     "duration": 0.006825,
     "end_time": "2023-01-23T15:20:32.581925",
     "exception": false,
     "start_time": "2023-01-23T15:20:32.575100",
     "status": "completed"
    },
    "tags": []
   },
   "source": [
    "## Break statement"
   ]
  },
  {
   "cell_type": "code",
   "execution_count": 4,
   "id": "83ae37c5",
   "metadata": {
    "execution": {
     "iopub.execute_input": "2023-01-23T15:20:32.600902Z",
     "iopub.status.busy": "2023-01-23T15:20:32.600440Z",
     "iopub.status.idle": "2023-01-23T15:20:32.608467Z",
     "shell.execute_reply": "2023-01-23T15:20:32.607149Z"
    },
    "papermill": {
     "duration": 0.021667,
     "end_time": "2023-01-23T15:20:32.610808",
     "exception": false,
     "start_time": "2023-01-23T15:20:32.589141",
     "status": "completed"
    },
    "tags": []
   },
   "outputs": [],
   "source": [
    "names = ['Adel','Adonis','Ajaz','Akos','Aldo','Amets','Amaro','Aquiles','Algimantas',\n",
    " 'Alpidio','Amrane','Anish','Arián','Ayun','Azariel','Bagrat','Bencomo','Bertino',\n",
    " 'Candi','Cesc','Cirino','Crisólogo','Cruz','Danilo','Dareck','Dariel','Darin','Delmiro',\n",
    " 'Damen','Dilan','Dipa','Doménico','Drago','Edivaldo','Elvis','Elyan','Emeric','Engracio',\n",
    " 'Ensa','Eñaut','Eleazar','Eros','Eufemio','Feiyang','Fiorenzo','Foudil','Galo', 'Gastón',\n",
    " 'Giulio','Gautam','Gentil','Gianni','Gianluca','Giorgio','Gourav']\n",
    "\n",
    "index = 0\n",
    "while (index < len(names)):\n",
    "    name = names[index]\n",
    "    index += 1"
   ]
  },
  {
   "cell_type": "code",
   "execution_count": 5,
   "id": "e1f1fb49",
   "metadata": {
    "execution": {
     "iopub.execute_input": "2023-01-23T15:20:32.627205Z",
     "iopub.status.busy": "2023-01-23T15:20:32.626737Z",
     "iopub.status.idle": "2023-01-23T15:20:32.634790Z",
     "shell.execute_reply": "2023-01-23T15:20:32.633393Z"
    },
    "papermill": {
     "duration": 0.019534,
     "end_time": "2023-01-23T15:20:32.637621",
     "exception": false,
     "start_time": "2023-01-23T15:20:32.618087",
     "status": "completed"
    },
    "tags": []
   },
   "outputs": [
    {
     "name": "stdout",
     "output_type": "stream",
     "text": [
      "Adel\n",
      "Adonis\n",
      "Ajaz\n",
      "Akos\n",
      "Aldo\n",
      "Amets\n",
      "Amaro\n",
      "Aquiles\n",
      "Algimantas\n",
      "Alpidio\n",
      "Amrane\n",
      "Anish\n",
      "Arián\n",
      "Ayun\n",
      "Azariel\n",
      "Bagrat\n",
      "Bencomo\n",
      "Bertino\n",
      "Candi\n",
      "Cesc\n",
      "Cirino\n",
      "Crisólogo\n",
      "Cruz\n",
      "Danilo\n",
      "Dareck\n",
      "Dariel\n",
      "Darin\n",
      "Delmiro\n",
      "Damen\n",
      "Dilan\n",
      "Dipa\n",
      "Doménico\n",
      "Drago\n",
      "Edivaldo\n",
      "Elvis\n",
      "Elyan\n",
      "Emeric\n",
      "Engracio\n",
      "Ensa\n",
      "Eñaut\n",
      "Eleazar\n",
      "Eros\n",
      "Eufemio\n",
      "Feiyang\n",
      "Fiorenzo\n",
      "Foudil\n",
      "Galo\n",
      "Gastón\n",
      "Giulio\n",
      "Gautam\n",
      "Gentil\n",
      "Gianni\n",
      "Gianni I found you!!!\n"
     ]
    }
   ],
   "source": [
    "#Break statement\n",
    "index = 0\n",
    "while (index < len(names)):\n",
    "    name = names[index]\n",
    "    print(name)\n",
    "    if (name == \"Gianni\"):\n",
    "        print(name,\"I found you!!!\")\n",
    "        break\n",
    "    index += 1"
   ]
  },
  {
   "cell_type": "markdown",
   "id": "038ab2dd",
   "metadata": {
    "papermill": {
     "duration": 0.00671,
     "end_time": "2023-01-23T15:20:32.651622",
     "exception": false,
     "start_time": "2023-01-23T15:20:32.644912",
     "status": "completed"
    },
    "tags": []
   },
   "source": [
    "### While-else statment"
   ]
  },
  {
   "cell_type": "markdown",
   "id": "44c26a2b",
   "metadata": {
    "execution": {
     "iopub.execute_input": "2023-01-23T14:44:36.257788Z",
     "iopub.status.busy": "2023-01-23T14:44:36.257366Z",
     "iopub.status.idle": "2023-01-23T14:44:38.129570Z",
     "shell.execute_reply": "2023-01-23T14:44:38.127919Z",
     "shell.execute_reply.started": "2023-01-23T14:44:36.257753Z"
    },
    "papermill": {
     "duration": 0.006652,
     "end_time": "2023-01-23T15:20:32.665559",
     "exception": false,
     "start_time": "2023-01-23T15:20:32.658907",
     "status": "completed"
    },
    "tags": []
   },
   "source": [
    "## basket = [\n",
    "    {'fruit': 'apple', 'qty': 20},\n",
    "    {'fruit': 'banana', 'qty': 30},\n",
    "    {'fruit': 'orange', 'qty': 10}\n",
    "]\n",
    "\n",
    "fruit = input('Enter a fruit: ')\n",
    "\n",
    "index = 0\n",
    "found_it = False\n",
    "\n",
    "while index < len(basket):\n",
    "    item = basket[index]\n",
    "    # check the fruit name\n",
    "    if item['fruit'] == fruit:\n",
    "        found_it = True\n",
    "        print(f\"The basket has {item['qty']} {item['fruit']}(s)\")\n",
    "        break\n",
    "\n",
    "    index += 1\n",
    "\n",
    "if not found_it:\n",
    "    qty = int(input(f'Enter the qty for {fruit}:'))\n",
    "    basket.append({'fruit': fruit, 'qty': qty})\n",
    "    print(basket)"
   ]
  },
  {
   "cell_type": "code",
   "execution_count": 6,
   "id": "8d2c3ee6",
   "metadata": {
    "execution": {
     "iopub.execute_input": "2023-01-23T15:20:32.681759Z",
     "iopub.status.busy": "2023-01-23T15:20:32.680995Z",
     "iopub.status.idle": "2023-01-23T15:20:32.686822Z",
     "shell.execute_reply": "2023-01-23T15:20:32.685637Z"
    },
    "papermill": {
     "duration": 0.016742,
     "end_time": "2023-01-23T15:20:32.689343",
     "exception": false,
     "start_time": "2023-01-23T15:20:32.672601",
     "status": "completed"
    },
    "tags": []
   },
   "outputs": [],
   "source": [
    "####basket = [\n",
    "####    {'fruit': 'apple', 'qty': 20},\n",
    "####    {'fruit': 'banana', 'qty': 30},\n",
    "####    {'fruit': 'orange', 'qty': 10}\n",
    "####]\n",
    "\n",
    "#####fruit = input('Enter a fruit:')\n",
    "\n",
    "###index = 0\n",
    "\n",
    "######while index < len(basket):\n",
    "####    item = basket[index]\n",
    "####    # check the fruit name\n",
    "####    if item['fruit'] == fruit:\n",
    "####        print(f\"The basket has {item['qty']} {item['fruit']}(s)\")\n",
    "####        found_it = True\n",
    "####        break\n",
    "\n",
    "####    index += 1\n",
    "####else:\n",
    "####    qty = int(input(f'Enter the qty for {fruit}:'))\n",
    "####    basket.append({'fruit': fruit, 'qty': qty})\n",
    "####    print(basket)"
   ]
  },
  {
   "cell_type": "markdown",
   "id": "77817a12",
   "metadata": {
    "papermill": {
     "duration": 0.006853,
     "end_time": "2023-01-23T15:20:32.703332",
     "exception": false,
     "start_time": "2023-01-23T15:20:32.696479",
     "status": "completed"
    },
    "tags": []
   },
   "source": [
    "## For loop"
   ]
  },
  {
   "cell_type": "code",
   "execution_count": 7,
   "id": "bdceb506",
   "metadata": {
    "execution": {
     "iopub.execute_input": "2023-01-23T15:20:32.719643Z",
     "iopub.status.busy": "2023-01-23T15:20:32.719201Z",
     "iopub.status.idle": "2023-01-23T15:20:32.729516Z",
     "shell.execute_reply": "2023-01-23T15:20:32.727115Z"
    },
    "papermill": {
     "duration": 0.022082,
     "end_time": "2023-01-23T15:20:32.732564",
     "exception": false,
     "start_time": "2023-01-23T15:20:32.710482",
     "status": "completed"
    },
    "tags": []
   },
   "outputs": [
    {
     "name": "stdout",
     "output_type": "stream",
     "text": [
      "Adel\n",
      "Adonis\n",
      "Ajaz\n",
      "Akos\n",
      "Aldo\n",
      "Amets\n",
      "Amaro\n",
      "Aquiles\n",
      "Algimantas\n",
      "Alpidio\n",
      "Amrane\n",
      "Anish\n",
      "Arián\n",
      "Ayun\n",
      "Azariel\n",
      "Bagrat\n",
      "Bencomo\n",
      "Bertino\n",
      "Candi\n",
      "Cesc\n",
      "Cirino\n",
      "Crisólogo\n",
      "Cruz\n",
      "Danilo\n",
      "Dareck\n",
      "Dariel\n",
      "Darin\n",
      "Delmiro\n",
      "Damen\n",
      "Dilan\n",
      "Dipa\n",
      "Doménico\n",
      "Drago\n",
      "Edivaldo\n",
      "Elvis\n",
      "Elyan\n",
      "Emeric\n",
      "Engracio\n",
      "Ensa\n",
      "Eñaut\n",
      "Eleazar\n",
      "Eros\n",
      "Eufemio\n",
      "Feiyang\n",
      "Fiorenzo\n",
      "Foudil\n",
      "Galo\n",
      "Gastón\n",
      "Giulio\n",
      "Gautam\n",
      "Gentil\n",
      "Gianni\n",
      "Gianluca\n",
      "Giorgio\n",
      "Gourav\n"
     ]
    }
   ],
   "source": [
    "names = ['Adel','Adonis','Ajaz','Akos','Aldo','Amets','Amaro','Aquiles','Algimantas',\n",
    " 'Alpidio','Amrane','Anish','Arián','Ayun','Azariel','Bagrat','Bencomo','Bertino',\n",
    " 'Candi','Cesc','Cirino','Crisólogo','Cruz','Danilo','Dareck','Dariel','Darin','Delmiro',\n",
    " 'Damen','Dilan','Dipa','Doménico','Drago','Edivaldo','Elvis','Elyan','Emeric','Engracio',\n",
    " 'Ensa','Eñaut','Eleazar','Eros','Eufemio','Feiyang','Fiorenzo','Foudil','Galo', 'Gastón',\n",
    " 'Giulio','Gautam','Gentil','Gianni','Gianluca','Giorgio','Gourav']\n",
    "#for-loops are mostly used to iterate arrays.\n",
    "#at each iteration the temporary\n",
    "#variable 'name' takes each value of the array\n",
    "for name in names:\n",
    "    print(name)"
   ]
  },
  {
   "cell_type": "code",
   "execution_count": 8,
   "id": "828ec8eb",
   "metadata": {
    "execution": {
     "iopub.execute_input": "2023-01-23T15:20:32.750348Z",
     "iopub.status.busy": "2023-01-23T15:20:32.748959Z",
     "iopub.status.idle": "2023-01-23T15:20:32.755532Z",
     "shell.execute_reply": "2023-01-23T15:20:32.754181Z"
    },
    "papermill": {
     "duration": 0.017985,
     "end_time": "2023-01-23T15:20:32.758247",
     "exception": false,
     "start_time": "2023-01-23T15:20:32.740262",
     "status": "completed"
    },
    "tags": []
   },
   "outputs": [],
   "source": [
    "ids = []\n",
    "for name in names:\n",
    "    ids.append(hash(name))"
   ]
  },
  {
   "cell_type": "code",
   "execution_count": 9,
   "id": "48fbbd16",
   "metadata": {
    "execution": {
     "iopub.execute_input": "2023-01-23T15:20:32.775029Z",
     "iopub.status.busy": "2023-01-23T15:20:32.774579Z",
     "iopub.status.idle": "2023-01-23T15:20:32.780583Z",
     "shell.execute_reply": "2023-01-23T15:20:32.779439Z"
    },
    "papermill": {
     "duration": 0.017771,
     "end_time": "2023-01-23T15:20:32.783513",
     "exception": false,
     "start_time": "2023-01-23T15:20:32.765742",
     "status": "completed"
    },
    "tags": []
   },
   "outputs": [
    {
     "name": "stdout",
     "output_type": "stream",
     "text": [
      "[-5204313523178956395, -5713468601796982972, -4837491911730174245, 5398972639914523785, 6405420435837023056, -6009092015515480580, -3862781192900560981, 809189014726387149, 55974316346500853, 7089114128353040014, -6955089235422157511, 7173928193509251809, 8255814540874844535, -7017710885648750872, 5178630242401325002, 4151826136811136228, -7394296060670621796, -3730197641248141053, 3430884086580964136, -2118231769239375452, 2559854866484061890, -7469618693824961190, 4630860586229412056, 2872869093011430967, 3910773724251408925, -4281141975278602062, 3884659506727250224, 4802466042073098563, -4855362633372630604, 1022118783693764241, 6334851940154781776, -4759113874209536898, -952393193006171220, 2804746985674014772, -8672807106182553140, 6545453987696579616, 6869890234190458755, -1379441550222432815, -394997792591763602, -3991906399027326146, -7694248288277905642, 7116033101824330932, 9130086346796756563, 4428465785528376057, -1548292387114574783, 144309607571129850, -2609010778843847925, 7099051557663505261, -4727789882872398320, 1334698199162945684, 6915266605171713272, -7226296999510747615, -5023519112117138761, 3599950265495792420, 4836592060494578811]\n"
     ]
    }
   ],
   "source": [
    "print(ids)"
   ]
  },
  {
   "cell_type": "markdown",
   "id": "e16ccae4",
   "metadata": {
    "papermill": {
     "duration": 0.006865,
     "end_time": "2023-01-23T15:20:32.798383",
     "exception": false,
     "start_time": "2023-01-23T15:20:32.791518",
     "status": "completed"
    },
    "tags": []
   },
   "source": [
    "### range statment"
   ]
  },
  {
   "cell_type": "code",
   "execution_count": 10,
   "id": "ed55bba7",
   "metadata": {
    "execution": {
     "iopub.execute_input": "2023-01-23T15:20:32.814919Z",
     "iopub.status.busy": "2023-01-23T15:20:32.814494Z",
     "iopub.status.idle": "2023-01-23T15:20:32.820427Z",
     "shell.execute_reply": "2023-01-23T15:20:32.819138Z"
    },
    "papermill": {
     "duration": 0.018561,
     "end_time": "2023-01-23T15:20:32.824253",
     "exception": false,
     "start_time": "2023-01-23T15:20:32.805692",
     "status": "completed"
    },
    "tags": []
   },
   "outputs": [
    {
     "name": "stdout",
     "output_type": "stream",
     "text": [
      "1\n",
      "2\n",
      "3\n",
      "4\n",
      "5\n",
      "6\n"
     ]
    }
   ],
   "source": [
    "\n",
    "#range(start,end + 1)\n",
    "#array = [1,2,3,4,5,6]\n",
    "for index in range(1,7):\n",
    "    print(index)"
   ]
  },
  {
   "cell_type": "code",
   "execution_count": 11,
   "id": "9cfdcb4d",
   "metadata": {
    "execution": {
     "iopub.execute_input": "2023-01-23T15:20:32.842152Z",
     "iopub.status.busy": "2023-01-23T15:20:32.841720Z",
     "iopub.status.idle": "2023-01-23T15:20:32.851933Z",
     "shell.execute_reply": "2023-01-23T15:20:32.850318Z"
    },
    "papermill": {
     "duration": 0.022245,
     "end_time": "2023-01-23T15:20:32.854772",
     "exception": false,
     "start_time": "2023-01-23T15:20:32.832527",
     "status": "completed"
    },
    "tags": []
   },
   "outputs": [
    {
     "data": {
      "text/plain": [
       "range(1, 7)"
      ]
     },
     "execution_count": 11,
     "metadata": {},
     "output_type": "execute_result"
    }
   ],
   "source": [
    "range(1,7)"
   ]
  },
  {
   "cell_type": "code",
   "execution_count": 12,
   "id": "fc41c835",
   "metadata": {
    "execution": {
     "iopub.execute_input": "2023-01-23T15:20:32.871791Z",
     "iopub.status.busy": "2023-01-23T15:20:32.871362Z",
     "iopub.status.idle": "2023-01-23T15:20:32.877935Z",
     "shell.execute_reply": "2023-01-23T15:20:32.876559Z"
    },
    "papermill": {
     "duration": 0.018358,
     "end_time": "2023-01-23T15:20:32.880666",
     "exception": false,
     "start_time": "2023-01-23T15:20:32.862308",
     "status": "completed"
    },
    "tags": []
   },
   "outputs": [
    {
     "name": "stdout",
     "output_type": "stream",
     "text": [
      "5\n",
      "4\n",
      "3\n"
     ]
    }
   ],
   "source": [
    "for index in range(5,2,-1):\n",
    "    print(index)"
   ]
  },
  {
   "cell_type": "code",
   "execution_count": 13,
   "id": "668fb0a3",
   "metadata": {
    "execution": {
     "iopub.execute_input": "2023-01-23T15:20:32.898130Z",
     "iopub.status.busy": "2023-01-23T15:20:32.897498Z",
     "iopub.status.idle": "2023-01-23T15:20:32.903853Z",
     "shell.execute_reply": "2023-01-23T15:20:32.902540Z"
    },
    "papermill": {
     "duration": 0.018752,
     "end_time": "2023-01-23T15:20:32.907018",
     "exception": false,
     "start_time": "2023-01-23T15:20:32.888266",
     "status": "completed"
    },
    "tags": []
   },
   "outputs": [
    {
     "name": "stdout",
     "output_type": "stream",
     "text": [
      "0\n",
      "1\n",
      "2\n",
      "3\n",
      "4\n"
     ]
    }
   ],
   "source": [
    "for index in range(5):\n",
    "    print(index)"
   ]
  },
  {
   "cell_type": "code",
   "execution_count": 14,
   "id": "9b3ed804",
   "metadata": {
    "execution": {
     "iopub.execute_input": "2023-01-23T15:20:32.924408Z",
     "iopub.status.busy": "2023-01-23T15:20:32.923961Z",
     "iopub.status.idle": "2023-01-23T15:20:32.930543Z",
     "shell.execute_reply": "2023-01-23T15:20:32.929312Z"
    },
    "papermill": {
     "duration": 0.019349,
     "end_time": "2023-01-23T15:20:32.934110",
     "exception": false,
     "start_time": "2023-01-23T15:20:32.914761",
     "status": "completed"
    },
    "tags": []
   },
   "outputs": [
    {
     "name": "stdout",
     "output_type": "stream",
     "text": [
      "Adel -5204313523178956395\n",
      "Adonis -5713468601796982972\n",
      "Ajaz -4837491911730174245\n",
      "Akos 5398972639914523785\n",
      "Aldo 6405420435837023056\n",
      "Amets -6009092015515480580\n",
      "Amaro -3862781192900560981\n",
      "Aquiles 809189014726387149\n",
      "Algimantas 55974316346500853\n",
      "Alpidio 7089114128353040014\n",
      "Amrane -6955089235422157511\n",
      "Anish 7173928193509251809\n",
      "Arián 8255814540874844535\n",
      "Ayun -7017710885648750872\n",
      "Azariel 5178630242401325002\n",
      "Bagrat 4151826136811136228\n",
      "Bencomo -7394296060670621796\n",
      "Bertino -3730197641248141053\n",
      "Candi 3430884086580964136\n",
      "Cesc -2118231769239375452\n",
      "Cirino 2559854866484061890\n",
      "Crisólogo -7469618693824961190\n",
      "Cruz 4630860586229412056\n",
      "Danilo 2872869093011430967\n",
      "Dareck 3910773724251408925\n",
      "Dariel -4281141975278602062\n",
      "Darin 3884659506727250224\n",
      "Delmiro 4802466042073098563\n",
      "Damen -4855362633372630604\n",
      "Dilan 1022118783693764241\n",
      "Dipa 6334851940154781776\n",
      "Doménico -4759113874209536898\n",
      "Drago -952393193006171220\n",
      "Edivaldo 2804746985674014772\n",
      "Elvis -8672807106182553140\n",
      "Elyan 6545453987696579616\n",
      "Emeric 6869890234190458755\n",
      "Engracio -1379441550222432815\n",
      "Ensa -394997792591763602\n",
      "Eñaut -3991906399027326146\n",
      "Eleazar -7694248288277905642\n",
      "Eros 7116033101824330932\n",
      "Eufemio 9130086346796756563\n",
      "Feiyang 4428465785528376057\n",
      "Fiorenzo -1548292387114574783\n",
      "Foudil 144309607571129850\n",
      "Galo -2609010778843847925\n",
      "Gastón 7099051557663505261\n",
      "Giulio -4727789882872398320\n",
      "Gautam 1334698199162945684\n",
      "Gentil 6915266605171713272\n",
      "Gianni -7226296999510747615\n",
      "Gianluca -5023519112117138761\n",
      "Giorgio 3599950265495792420\n",
      "Gourav 4836592060494578811\n"
     ]
    }
   ],
   "source": [
    "for i in range(len(names)):\n",
    "    print(names[i],ids[i])"
   ]
  },
  {
   "cell_type": "code",
   "execution_count": 15,
   "id": "90c46527",
   "metadata": {
    "execution": {
     "iopub.execute_input": "2023-01-23T15:20:32.952507Z",
     "iopub.status.busy": "2023-01-23T15:20:32.951069Z",
     "iopub.status.idle": "2023-01-23T15:20:32.960204Z",
     "shell.execute_reply": "2023-01-23T15:20:32.958514Z"
    },
    "papermill": {
     "duration": 0.021814,
     "end_time": "2023-01-23T15:20:32.963607",
     "exception": false,
     "start_time": "2023-01-23T15:20:32.941793",
     "status": "completed"
    },
    "tags": []
   },
   "outputs": [
    {
     "name": "stdout",
     "output_type": "stream",
     "text": [
      "iteration # 1\n",
      "the number is:1\n",
      "the letter is:a\n",
      "\n",
      "iteration # 2\n",
      "the number is:2\n",
      "the letter is:b\n",
      "\n",
      "iteration # 3\n",
      "the number is:3\n",
      "the letter is:c\n",
      "\n"
     ]
    }
   ],
   "source": [
    "#zip\n",
    "list1= [1,2,3]\n",
    "list2 =[\"a\",\"b\",\"c\"]\n",
    "for n, l in zip(list1,list2):\n",
    "    print(\"iteration #\",list1.index(n)+1)\n",
    "    print(f\"the number is:{n}\")\n",
    "    print(f\"the letter is:{l}\\n\")"
   ]
  },
  {
   "cell_type": "markdown",
   "id": "7c5df8e1",
   "metadata": {
    "papermill": {
     "duration": 0.007551,
     "end_time": "2023-01-23T15:20:32.979542",
     "exception": false,
     "start_time": "2023-01-23T15:20:32.971991",
     "status": "completed"
    },
    "tags": []
   },
   "source": [
    "# **LAB 1 : LOGIN SYSTEM**"
   ]
  },
  {
   "cell_type": "markdown",
   "id": "6da15e88",
   "metadata": {
    "papermill": {
     "duration": 0.007774,
     "end_time": "2023-01-23T15:20:32.995056",
     "exception": false,
     "start_time": "2023-01-23T15:20:32.987282",
     "status": "completed"
    },
    "tags": []
   },
   "source": [
    "you have 20 minutes to follow the instructions, to complete the lab, \n",
    "if you have any questions  let us know in Teams chat.\n",
    "**Good luck**"
   ]
  },
  {
   "cell_type": "code",
   "execution_count": 16,
   "id": "61f22564",
   "metadata": {
    "execution": {
     "iopub.execute_input": "2023-01-23T15:20:33.012646Z",
     "iopub.status.busy": "2023-01-23T15:20:33.012190Z",
     "iopub.status.idle": "2023-01-23T15:20:33.019558Z",
     "shell.execute_reply": "2023-01-23T15:20:33.017942Z"
    },
    "papermill": {
     "duration": 0.020045,
     "end_time": "2023-01-23T15:20:33.023124",
     "exception": false,
     "start_time": "2023-01-23T15:20:33.003079",
     "status": "completed"
    },
    "tags": []
   },
   "outputs": [
    {
     "name": "stdout",
     "output_type": "stream",
     "text": [
      "No data detected in your list check your code\n"
     ]
    }
   ],
   "source": [
    "#how to upload your  secret_database.txt file?\n",
    "\n",
    "#use the following empty list to stare your data\n",
    "data_from_file= []\n",
    "# open a txt file that has a secret database with the username, password and secret \n",
    "# Use the method read \n",
    "######with open(r\"__\",\"__\") as f:\n",
    "    #return a list with all lines \n",
    "   ##### data_from_file = f.___() # what method do you need to use in order to read all lines?\n",
    "\n",
    "#-------------------------------------------------------------------------------------------------------\n",
    "#test dont change this code:\n",
    "print(\"nice you have data\") if len(data_from_file)>0 else  print(\"No data detected in your list check your code\")"
   ]
  },
  {
   "cell_type": "code",
   "execution_count": 17,
   "id": "ab32e31d",
   "metadata": {
    "execution": {
     "iopub.execute_input": "2023-01-23T15:20:33.041860Z",
     "iopub.status.busy": "2023-01-23T15:20:33.041440Z",
     "iopub.status.idle": "2023-01-23T15:20:33.048249Z",
     "shell.execute_reply": "2023-01-23T15:20:33.046898Z"
    },
    "papermill": {
     "duration": 0.018837,
     "end_time": "2023-01-23T15:20:33.050880",
     "exception": false,
     "start_time": "2023-01-23T15:20:33.032043",
     "status": "completed"
    },
    "tags": []
   },
   "outputs": [],
   "source": [
    "#create an empty dictionary  called \"databse\" that will hold our data extracted from the txt file \n",
    "######database =  #what braces do I need to use to create an empty dictionary? \n",
    "\n",
    "# using a for loop iterate through the data lines from our file\n",
    "for line in data_from_file:\n",
    "    \n",
    "    #since the information in the txt file is separated by a comma, \n",
    "    #use the split method to split the strings in to a list of elements\n",
    "    current_line = line____(\",\")\n",
    "    \n",
    "    #add the items to the dictionary by using current_line list indexs(0,1,2) to select each element \n",
    "    #use the \"username\" as your KEY for the dictionary elements.\n",
    "    #password should be 1st value and the secret code the 2nd value\n",
    "   ####### database.update({current_line[]: [current_line[],current_line[]] })\n",
    "\n",
    "#-------------------------------------------------------------------------------------------------------\n",
    "#test don't change this code:\n",
    "test= {'CARLOS': ['1234', '5D43fxwy\\n'], 'NIKI': ['3334', 'yxNMQUCp\\n'], 'LUKE': ['1337', 'NLjFCVf\\n']}\n",
    "#######print(\"Import is correct\") if database == test  else  print(\"check if your data is in the correct order\")"
   ]
  },
  {
   "cell_type": "code",
   "execution_count": 18,
   "id": "cde3888d",
   "metadata": {
    "execution": {
     "iopub.execute_input": "2023-01-23T15:20:33.069058Z",
     "iopub.status.busy": "2023-01-23T15:20:33.068647Z",
     "iopub.status.idle": "2023-01-23T15:20:33.075603Z",
     "shell.execute_reply": "2023-01-23T15:20:33.074085Z"
    },
    "papermill": {
     "duration": 0.019214,
     "end_time": "2023-01-23T15:20:33.078241",
     "exception": false,
     "start_time": "2023-01-23T15:20:33.059027",
     "status": "completed"
    },
    "tags": []
   },
   "outputs": [],
   "source": [
    "#create a variable called session and asign a boolean value =  True \n",
    "#we will use this variable to stop our while loop once the user is validated\n",
    "\n",
    "#####session = ??\n",
    "\n",
    "#usign a while loop ask the user to input  the username and password\n",
    "#####while session == True:\n",
    "  #####  user = ????(\"Enter your username:   \")\n",
    "#####    user = user.????()#in case the user forgets to turn on the caps for the username we conver the username to upper case\n",
    "    \n",
    "    #using  an if  statement, validate if the user is not  in the list of your  database dictionary keys \n",
    "  ##### if user not in database.????():\n",
    "#####        print(\"Invalid username.. please try again\")\n",
    "        \n",
    "        #if the user is not in the list lets continue with the next cycle \n",
    "####        ????????????\n",
    " ####   else:\n",
    "        #if the user is in the list then lets continue the current cycle\n",
    " ####       print(\"thank you!... this is a valid user \")\n",
    "        #print 20 * \n",
    "####        print(????)\n",
    "    \n",
    "    #ask the user to input its password\n",
    "####    password = ????(\"Enter your password:   \")\n",
    " ####   print(\"verifying ... \")\n",
    "\n",
    "    #lets validate the password using the get() method in your database dictinoary \n",
    "    #remember that the username is your key in this dictionary and the password is your first element\n",
    "    #TIP: remember that  index start from 0 \n",
    " ####   if password == database.get(????)[????]:\n",
    "        #if the user is valid use the 2nd index to print the secret CODE\n",
    "####        print(f\"Passowrd correct for user: {????},  your secret CODE is: ==  {database.get(????)[????]} ==\") \n",
    "####        print(\"thank you for using  our system\")\n",
    "        #Lets make sure to change the session to FALSE to stop the while loop\n",
    " #####       session = ????\n",
    "#####    else:\n",
    "        #if the password is invalid lets restart the cycle \n",
    "####        print(\"invalid password please try again \")\n",
    "####        print( \"*\" * 20)\n",
    "####        ????????\n"
   ]
  }
 ],
 "metadata": {
  "kernelspec": {
   "display_name": "Python 3",
   "language": "python",
   "name": "python3"
  },
  "language_info": {
   "codemirror_mode": {
    "name": "ipython",
    "version": 3
   },
   "file_extension": ".py",
   "mimetype": "text/x-python",
   "name": "python",
   "nbconvert_exporter": "python",
   "pygments_lexer": "ipython3",
   "version": "3.7.12"
  },
  "papermill": {
   "default_parameters": {},
   "duration": 11.101877,
   "end_time": "2023-01-23T15:20:33.810481",
   "environment_variables": {},
   "exception": null,
   "input_path": "__notebook__.ipynb",
   "output_path": "__notebook__.ipynb",
   "parameters": {},
   "start_time": "2023-01-23T15:20:22.708604",
   "version": "2.3.4"
  }
 },
 "nbformat": 4,
 "nbformat_minor": 5
}
