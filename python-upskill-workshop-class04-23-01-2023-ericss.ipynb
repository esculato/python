{
 "cells": [
  {
   "cell_type": "raw",
   "id": "dfa1dead",
   "metadata": {
    "papermill": {
     "duration": 0.006623,
     "end_time": "2023-01-23T15:06:39.420058",
     "exception": false,
     "start_time": "2023-01-23T15:06:39.413435",
     "status": "completed"
    },
    "tags": []
   },
   "source": [
    "# Functions"
   ]
  },
  {
   "cell_type": "code",
   "execution_count": 1,
   "id": "ba6c00fe",
   "metadata": {
    "execution": {
     "iopub.execute_input": "2023-01-23T15:06:39.436558Z",
     "iopub.status.busy": "2023-01-23T15:06:39.436071Z",
     "iopub.status.idle": "2023-01-23T15:06:39.453209Z",
     "shell.execute_reply": "2023-01-23T15:06:39.451408Z"
    },
    "papermill": {
     "duration": 0.030458,
     "end_time": "2023-01-23T15:06:39.457484",
     "exception": false,
     "start_time": "2023-01-23T15:06:39.427026",
     "status": "completed"
    },
    "tags": []
   },
   "outputs": [],
   "source": [
    "def my_function():\n",
    "    print(\"Hello my function!!!\")\n",
    "    print(\"This is a second line\")\n"
   ]
  },
  {
   "cell_type": "code",
   "execution_count": 2,
   "id": "f0ba0447",
   "metadata": {
    "execution": {
     "iopub.execute_input": "2023-01-23T15:06:39.475807Z",
     "iopub.status.busy": "2023-01-23T15:06:39.474760Z",
     "iopub.status.idle": "2023-01-23T15:06:39.483784Z",
     "shell.execute_reply": "2023-01-23T15:06:39.480044Z"
    },
    "papermill": {
     "duration": 0.020841,
     "end_time": "2023-01-23T15:06:39.487844",
     "exception": false,
     "start_time": "2023-01-23T15:06:39.467003",
     "status": "completed"
    },
    "tags": []
   },
   "outputs": [
    {
     "name": "stdout",
     "output_type": "stream",
     "text": [
      "Hello my function!!!\n",
      "This is a second line\n",
      "This is my code\n",
      "Hello my function!!!\n",
      "This is a second line\n",
      "This is second part of my code\n",
      "Hello my function!!!\n",
      "This is a second line\n"
     ]
    }
   ],
   "source": [
    "#no-argument call\n",
    "my_function()\n",
    "print(\"This is my code\")\n",
    "my_function()\n",
    "print(\"This is second part of my code\")\n",
    "my_function()"
   ]
  },
  {
   "cell_type": "code",
   "execution_count": 3,
   "id": "cd72f61d",
   "metadata": {
    "execution": {
     "iopub.execute_input": "2023-01-23T15:06:39.506782Z",
     "iopub.status.busy": "2023-01-23T15:06:39.505999Z",
     "iopub.status.idle": "2023-01-23T15:06:39.513010Z",
     "shell.execute_reply": "2023-01-23T15:06:39.511410Z"
    },
    "papermill": {
     "duration": 0.020153,
     "end_time": "2023-01-23T15:06:39.515472",
     "exception": false,
     "start_time": "2023-01-23T15:06:39.495319",
     "status": "completed"
    },
    "tags": []
   },
   "outputs": [
    {
     "name": "stdout",
     "output_type": "stream",
     "text": [
      "a = 10 b = 20\n",
      "-10\n"
     ]
    }
   ],
   "source": [
    "#positional arguments\n",
    "def subtraction(a, b, c=0):\n",
    "    print(\"a =\",a,\"b =\",b)\n",
    "    print(a - b)\n",
    "subtraction(10,20)"
   ]
  },
  {
   "cell_type": "code",
   "execution_count": 4,
   "id": "1de26124",
   "metadata": {
    "execution": {
     "iopub.execute_input": "2023-01-23T15:06:39.529028Z",
     "iopub.status.busy": "2023-01-23T15:06:39.528049Z",
     "iopub.status.idle": "2023-01-23T15:06:39.535594Z",
     "shell.execute_reply": "2023-01-23T15:06:39.533947Z"
    },
    "papermill": {
     "duration": 0.018378,
     "end_time": "2023-01-23T15:06:39.539451",
     "exception": false,
     "start_time": "2023-01-23T15:06:39.521073",
     "status": "completed"
    },
    "tags": []
   },
   "outputs": [
    {
     "name": "stdout",
     "output_type": "stream",
     "text": [
      "a = 20 b = 10\n",
      "10\n"
     ]
    }
   ],
   "source": [
    "#arguments by name\n",
    "subtraction(b = 10,a = 20)"
   ]
  },
  {
   "cell_type": "code",
   "execution_count": 5,
   "id": "0c46d760",
   "metadata": {
    "execution": {
     "iopub.execute_input": "2023-01-23T15:06:39.554224Z",
     "iopub.status.busy": "2023-01-23T15:06:39.552888Z",
     "iopub.status.idle": "2023-01-23T15:06:39.561894Z",
     "shell.execute_reply": "2023-01-23T15:06:39.560315Z"
    },
    "papermill": {
     "duration": 0.020092,
     "end_time": "2023-01-23T15:06:39.565811",
     "exception": false,
     "start_time": "2023-01-23T15:06:39.545719",
     "status": "completed"
    },
    "tags": []
   },
   "outputs": [
    {
     "name": "stdout",
     "output_type": "stream",
     "text": [
      "a = 10 b = 50\n",
      "-40\n",
      "Error!!!!\n",
      "Error!!!\n"
     ]
    }
   ],
   "source": [
    "#default parameters\n",
    "def subtraction(a = None,b = None):\n",
    "    if (a == None and b == None):\n",
    "        print(\"Error!!!!\")\n",
    "    elif type(a)==str or type(b)==str:\n",
    "        print(\"Error!!!\")\n",
    "    else:\n",
    "        print(\"a =\",a,\"b =\",b)\n",
    "        print(a - b)\n",
    "subtraction(a = 10,b = 50)\n",
    "subtraction()\n",
    "subtraction(\"10\",20)"
   ]
  },
  {
   "cell_type": "code",
   "execution_count": 6,
   "id": "81cb7ed5",
   "metadata": {
    "execution": {
     "iopub.execute_input": "2023-01-23T15:06:39.579984Z",
     "iopub.status.busy": "2023-01-23T15:06:39.579442Z",
     "iopub.status.idle": "2023-01-23T15:06:39.585027Z",
     "shell.execute_reply": "2023-01-23T15:06:39.583522Z"
    },
    "papermill": {
     "duration": 0.015432,
     "end_time": "2023-01-23T15:06:39.587529",
     "exception": false,
     "start_time": "2023-01-23T15:06:39.572097",
     "status": "completed"
    },
    "tags": []
   },
   "outputs": [],
   "source": [
    "#it is important to respect the way python accepts the use of the functions\n",
    "#this way is not allowed\n",
    "#subtraction(b = 10,20)"
   ]
  },
  {
   "cell_type": "markdown",
   "id": "59e9e1e3",
   "metadata": {
    "papermill": {
     "duration": 0.005729,
     "end_time": "2023-01-23T15:06:39.599056",
     "exception": false,
     "start_time": "2023-01-23T15:06:39.593327",
     "status": "completed"
    },
    "tags": []
   },
   "source": [
    "### if you start using the arguments by name you must continue in this manner\n",
    "### but you can start by using arguments by position and then by name"
   ]
  },
  {
   "cell_type": "code",
   "execution_count": 7,
   "id": "1bf102ed",
   "metadata": {
    "execution": {
     "iopub.execute_input": "2023-01-23T15:06:39.614528Z",
     "iopub.status.busy": "2023-01-23T15:06:39.614028Z",
     "iopub.status.idle": "2023-01-23T15:06:39.621109Z",
     "shell.execute_reply": "2023-01-23T15:06:39.619210Z"
    },
    "papermill": {
     "duration": 0.016995,
     "end_time": "2023-01-23T15:06:39.623698",
     "exception": false,
     "start_time": "2023-01-23T15:06:39.606703",
     "status": "completed"
    },
    "tags": []
   },
   "outputs": [
    {
     "name": "stdout",
     "output_type": "stream",
     "text": [
      "a = 10 b = 20\n",
      "-10\n"
     ]
    }
   ],
   "source": [
    "subtraction(10,b = 20)"
   ]
  },
  {
   "cell_type": "code",
   "execution_count": 8,
   "id": "8a022a98",
   "metadata": {
    "execution": {
     "iopub.execute_input": "2023-01-23T15:06:39.637021Z",
     "iopub.status.busy": "2023-01-23T15:06:39.636581Z",
     "iopub.status.idle": "2023-01-23T15:06:39.644172Z",
     "shell.execute_reply": "2023-01-23T15:06:39.642798Z"
    },
    "papermill": {
     "duration": 0.017955,
     "end_time": "2023-01-23T15:06:39.647284",
     "exception": false,
     "start_time": "2023-01-23T15:06:39.629329",
     "status": "completed"
    },
    "tags": []
   },
   "outputs": [
    {
     "name": "stdout",
     "output_type": "stream",
     "text": [
      "-40\n"
     ]
    }
   ],
   "source": [
    "#return of values\n",
    "def subtraction(a = None,b = None):\n",
    "    if (a == None):\n",
    "        return 0\n",
    "    if (b == None):\n",
    "        return 0\n",
    "    sub = a - b\n",
    "    return sub\n",
    "sub = subtraction(a = 10,b = 50)\n",
    "print(sub)"
   ]
  },
  {
   "cell_type": "code",
   "execution_count": 9,
   "id": "c768ae50",
   "metadata": {
    "execution": {
     "iopub.execute_input": "2023-01-23T15:06:39.662395Z",
     "iopub.status.busy": "2023-01-23T15:06:39.661951Z",
     "iopub.status.idle": "2023-01-23T15:06:39.669007Z",
     "shell.execute_reply": "2023-01-23T15:06:39.667493Z"
    },
    "papermill": {
     "duration": 0.017162,
     "end_time": "2023-01-23T15:06:39.671425",
     "exception": false,
     "start_time": "2023-01-23T15:06:39.654263",
     "status": "completed"
    },
    "tags": []
   },
   "outputs": [],
   "source": [
    "#return of multiple values\n",
    "def operations(a = None,b = None):\n",
    "    if (a == None):\n",
    "        return 0\n",
    "    if (b == None):\n",
    "        return 0\n",
    "    add = a + b\n",
    "    sub = a - b\n",
    "    exp = a ** b\n",
    "    return add,sub,exp\n",
    "\n",
    "add,sub,exp = operations(5,6)\n",
    "oper = operations(5,6)"
   ]
  },
  {
   "cell_type": "code",
   "execution_count": 10,
   "id": "e6ba204c",
   "metadata": {
    "execution": {
     "iopub.execute_input": "2023-01-23T15:06:39.685037Z",
     "iopub.status.busy": "2023-01-23T15:06:39.684611Z",
     "iopub.status.idle": "2023-01-23T15:06:39.691041Z",
     "shell.execute_reply": "2023-01-23T15:06:39.689776Z"
    },
    "papermill": {
     "duration": 0.016827,
     "end_time": "2023-01-23T15:06:39.694155",
     "exception": false,
     "start_time": "2023-01-23T15:06:39.677328",
     "status": "completed"
    },
    "tags": []
   },
   "outputs": [
    {
     "name": "stdout",
     "output_type": "stream",
     "text": [
      "11 -1 15625\n",
      "(11, -1, 15625)\n",
      "-1\n"
     ]
    }
   ],
   "source": [
    "print(add,sub,exp)\n",
    "print(oper)\n",
    "print(oper[1])\n",
    "sub = oper[1]\n"
   ]
  },
  {
   "cell_type": "markdown",
   "id": "0afb01d6",
   "metadata": {
    "papermill": {
     "duration": 0.00552,
     "end_time": "2023-01-23T15:06:39.706593",
     "exception": false,
     "start_time": "2023-01-23T15:06:39.701073",
     "status": "completed"
    },
    "tags": []
   },
   "source": [
    "# FUnctions with infinite parameters"
   ]
  },
  {
   "cell_type": "code",
   "execution_count": 11,
   "id": "f8b8e630",
   "metadata": {
    "execution": {
     "iopub.execute_input": "2023-01-23T15:06:39.719883Z",
     "iopub.status.busy": "2023-01-23T15:06:39.719502Z",
     "iopub.status.idle": "2023-01-23T15:06:39.729334Z",
     "shell.execute_reply": "2023-01-23T15:06:39.727812Z"
    },
    "papermill": {
     "duration": 0.019648,
     "end_time": "2023-01-23T15:06:39.732074",
     "exception": false,
     "start_time": "2023-01-23T15:06:39.712426",
     "status": "completed"
    },
    "tags": []
   },
   "outputs": [
    {
     "name": "stdout",
     "output_type": "stream",
     "text": [
      "('Adel', 'Adonis', 'Ajaz', 'Akos', 'Aldo', 'Amets', 'Amaro', 'Aquiles', 'Algimantas', 'Alpidio', 'Amrane', 'Anish', 'Arián', 'Ayun', 'Azariel', 'Bagrat', 'Bencomo', 'Bertino', 'Candi', 'Cesc', 'Cirino', 'Crisólogo', 'Cruz', 'Danilo', 'Dareck', 'Dariel', 'Darin', 'Delmiro', 'Damen', 'Dilan', 'Dipa', 'Doménico', 'Drago', 'Edivaldo', 'Elvis', 'Elyan', 'Emeric', 'Engracio', 'Ensa', 'Eñaut', 'Eleazar', 'Eros', 'Eufemio', 'Feiyang', 'Fiorenzo', 'Foudil', 'Galo', 'Gastón', 'Giulio', 'Gautam', 'Gentil', 'Gianni', 'Gianluca', 'Giorgio', 'Gourav')\n",
      "Names with an A\n",
      "Adel\n",
      "Names with an A\n",
      "Adonis\n",
      "Names with an A\n",
      "Ajaz\n",
      "Names with an A\n",
      "Akos\n",
      "Names with an A\n",
      "Aldo\n",
      "Names with an A\n",
      "Amets\n",
      "Names with an A\n",
      "Amaro\n",
      "Names with an A\n",
      "Aquiles\n",
      "Names with an A\n",
      "Algimantas\n",
      "Names with an A\n",
      "Alpidio\n",
      "Names with an A\n",
      "Amrane\n",
      "Names with an A\n",
      "Anish\n",
      "Names with an A\n",
      "Arián\n",
      "Names with an A\n",
      "Ayun\n",
      "Names with an A\n",
      "Azariel\n",
      "Bagrat\n",
      "Bencomo\n",
      "Bertino\n",
      "Candi\n",
      "Cesc\n",
      "Cirino\n",
      "Crisólogo\n",
      "Cruz\n",
      "Danilo\n",
      "Dareck\n",
      "Dariel\n",
      "Darin\n",
      "Delmiro\n",
      "Damen\n",
      "Dilan\n",
      "Dipa\n",
      "Doménico\n",
      "Drago\n",
      "Edivaldo\n",
      "Elvis\n",
      "Elyan\n",
      "Emeric\n",
      "Engracio\n",
      "Ensa\n",
      "Eñaut\n",
      "Eleazar\n",
      "Eros\n",
      "Eufemio\n",
      "Feiyang\n",
      "Fiorenzo\n",
      "Foudil\n",
      "Galo\n",
      "Gastón\n",
      "Giulio\n",
      "Gautam\n",
      "Gentil\n",
      "Gianni\n",
      "Gianluca\n",
      "Giorgio\n",
      "Gourav\n"
     ]
    }
   ],
   "source": [
    "#positional\n",
    "def my_new_function(*args):\n",
    "    print(args)\n",
    "    for arg in args:\n",
    "        if \"A\" in arg:\n",
    "            print(\"Names with an A\")\n",
    "        print(arg)\n",
    "\n",
    "my_new_function('Adel','Adonis','Ajaz','Akos','Aldo','Amets','Amaro','Aquiles','Algimantas',\n",
    " 'Alpidio','Amrane','Anish','Arián','Ayun','Azariel','Bagrat','Bencomo','Bertino',\n",
    " 'Candi','Cesc','Cirino','Crisólogo','Cruz','Danilo','Dareck','Dariel','Darin','Delmiro',\n",
    " 'Damen','Dilan','Dipa','Doménico','Drago','Edivaldo','Elvis','Elyan','Emeric','Engracio',\n",
    " 'Ensa','Eñaut','Eleazar','Eros','Eufemio','Feiyang','Fiorenzo','Foudil','Galo', 'Gastón',\n",
    " 'Giulio','Gautam','Gentil','Gianni','Gianluca','Giorgio','Gourav')"
   ]
  },
  {
   "cell_type": "code",
   "execution_count": 12,
   "id": "d56f923d",
   "metadata": {
    "execution": {
     "iopub.execute_input": "2023-01-23T15:06:39.746066Z",
     "iopub.status.busy": "2023-01-23T15:06:39.745655Z",
     "iopub.status.idle": "2023-01-23T15:06:39.751586Z",
     "shell.execute_reply": "2023-01-23T15:06:39.750285Z"
    },
    "papermill": {
     "duration": 0.016017,
     "end_time": "2023-01-23T15:06:39.754347",
     "exception": false,
     "start_time": "2023-01-23T15:06:39.738330",
     "status": "completed"
    },
    "tags": []
   },
   "outputs": [],
   "source": [
    "#\n",
    "def my_new_function(**kwargs):\n",
    "    print(\"Name: \",kwargs[\"var1\"])\n",
    "    print(kwargs)"
   ]
  },
  {
   "cell_type": "code",
   "execution_count": 13,
   "id": "73a7229b",
   "metadata": {
    "execution": {
     "iopub.execute_input": "2023-01-23T15:06:39.770145Z",
     "iopub.status.busy": "2023-01-23T15:06:39.769685Z",
     "iopub.status.idle": "2023-01-23T15:06:39.775427Z",
     "shell.execute_reply": "2023-01-23T15:06:39.774389Z"
    },
    "papermill": {
     "duration": 0.016101,
     "end_time": "2023-01-23T15:06:39.777742",
     "exception": false,
     "start_time": "2023-01-23T15:06:39.761641",
     "status": "completed"
    },
    "tags": []
   },
   "outputs": [
    {
     "name": "stdout",
     "output_type": "stream",
     "text": [
      "Name:  Hello World\n",
      "{'var1': 'Hello World', 'var2': 100, 'var3': [1, 2, 3, 4]}\n"
     ]
    }
   ],
   "source": [
    "my_new_function(var1 = \"Hello World\",var2 = 100, var3 = [1,2,3,4])"
   ]
  },
  {
   "cell_type": "code",
   "execution_count": 14,
   "id": "7259d67d",
   "metadata": {
    "execution": {
     "iopub.execute_input": "2023-01-23T15:06:39.792350Z",
     "iopub.status.busy": "2023-01-23T15:06:39.791900Z",
     "iopub.status.idle": "2023-01-23T15:06:39.798767Z",
     "shell.execute_reply": "2023-01-23T15:06:39.797611Z"
    },
    "papermill": {
     "duration": 0.017571,
     "end_time": "2023-01-23T15:06:39.801430",
     "exception": false,
     "start_time": "2023-01-23T15:06:39.783859",
     "status": "completed"
    },
    "tags": []
   },
   "outputs": [
    {
     "name": "stdout",
     "output_type": "stream",
     "text": [
      "var1 Hello World\n",
      "var2 100\n",
      "var3 [1, 2, 3, 4]\n"
     ]
    }
   ],
   "source": [
    "def my_new_function(**kwargs):\n",
    "    for kwarg in kwargs:\n",
    "        print(kwarg,kwargs[kwarg])\n",
    "my_new_function(var1 = \"Hello World\",var2 = 100, var3 = [1,2,3,4])"
   ]
  },
  {
   "cell_type": "markdown",
   "id": "000a69cb",
   "metadata": {
    "papermill": {
     "duration": 0.005852,
     "end_time": "2023-01-23T15:06:39.813396",
     "exception": false,
     "start_time": "2023-01-23T15:06:39.807544",
     "status": "completed"
    },
    "tags": []
   },
   "source": [
    "# Excercises\n",
    "\n",
    "### write a function, thath will get an integer array as parameter and will process every number from this array. Return a new array with processing every number of the input-array like this: If the number has an integer square root, take this, otherwhise square the number\n",
    "[4,3,9,7,2,1] -> [2,9,3,49,4,1]"
   ]
  },
  {
   "cell_type": "code",
   "execution_count": 15,
   "id": "d59b7f91",
   "metadata": {
    "execution": {
     "iopub.execute_input": "2023-01-23T15:06:39.827574Z",
     "iopub.status.busy": "2023-01-23T15:06:39.827176Z",
     "iopub.status.idle": "2023-01-23T15:06:39.835038Z",
     "shell.execute_reply": "2023-01-23T15:06:39.833605Z"
    },
    "papermill": {
     "duration": 0.019014,
     "end_time": "2023-01-23T15:06:39.838618",
     "exception": false,
     "start_time": "2023-01-23T15:06:39.819604",
     "status": "completed"
    },
    "tags": []
   },
   "outputs": [
    {
     "name": "stdout",
     "output_type": "stream",
     "text": [
      "2.0 9 81 49 4 1\n"
     ]
    }
   ],
   "source": [
    "def squares(a,b,c,d,e,f):\n",
    "    a = a-(a/2)\n",
    "    b = b*b\n",
    "    c = c*c\n",
    "    d = d*d\n",
    "    e = e*e\n",
    "    f = f*f\n",
    "    print(a,b,c,d,e,f)\n",
    "\n",
    "squares(4,3,9,7,2,1)\n",
    "\n",
    "def squares(my_list):\n",
    "    pass\n",
    "\n",
    "my_list=[5,3,2,45,6]\n",
    "output=[25,2,6,3,6]"
   ]
  },
  {
   "cell_type": "code",
   "execution_count": 16,
   "id": "f0f3a0db",
   "metadata": {
    "execution": {
     "iopub.execute_input": "2023-01-23T15:06:39.854693Z",
     "iopub.status.busy": "2023-01-23T15:06:39.853636Z",
     "iopub.status.idle": "2023-01-23T15:06:39.859415Z",
     "shell.execute_reply": "2023-01-23T15:06:39.858171Z"
    },
    "papermill": {
     "duration": 0.016621,
     "end_time": "2023-01-23T15:06:39.862260",
     "exception": false,
     "start_time": "2023-01-23T15:06:39.845639",
     "status": "completed"
    },
    "tags": []
   },
   "outputs": [],
   "source": [
    "def square_or_square_root(arr):\n",
    "    pass"
   ]
  },
  {
   "cell_type": "markdown",
   "id": "aaab0258",
   "metadata": {
    "papermill": {
     "duration": 0.005972,
     "end_time": "2023-01-23T15:06:39.874704",
     "exception": false,
     "start_time": "2023-01-23T15:06:39.868732",
     "status": "completed"
    },
    "tags": []
   },
   "source": [
    "### An isogram is a word that has no repeating letters, consecutive or non-consecutive. Implement a function that determines whether a string that contains only letters is an isogram. Assume the empty string is an isogram. Ignore letter case.\n",
    "\n",
    "### \"Dermatoglyphics\" -> true\n",
    "### \"aba\" -> false\n",
    "### \"moOse\" -> false (ignore letter case)"
   ]
  },
  {
   "cell_type": "code",
   "execution_count": 17,
   "id": "8eddf723",
   "metadata": {
    "execution": {
     "iopub.execute_input": "2023-01-23T15:06:39.889495Z",
     "iopub.status.busy": "2023-01-23T15:06:39.889028Z",
     "iopub.status.idle": "2023-01-23T15:06:39.893969Z",
     "shell.execute_reply": "2023-01-23T15:06:39.892843Z"
    },
    "papermill": {
     "duration": 0.01546,
     "end_time": "2023-01-23T15:06:39.896326",
     "exception": false,
     "start_time": "2023-01-23T15:06:39.880866",
     "status": "completed"
    },
    "tags": []
   },
   "outputs": [],
   "source": [
    "def is_isogram(string):\n",
    "    pass"
   ]
  }
 ],
 "metadata": {
  "kernelspec": {
   "display_name": "Python 3",
   "language": "python",
   "name": "python3"
  },
  "language_info": {
   "codemirror_mode": {
    "name": "ipython",
    "version": 3
   },
   "file_extension": ".py",
   "mimetype": "text/x-python",
   "name": "python",
   "nbconvert_exporter": "python",
   "pygments_lexer": "ipython3",
   "version": "3.7.12"
  },
  "papermill": {
   "default_parameters": {},
   "duration": 10.175163,
   "end_time": "2023-01-23T15:06:40.625082",
   "environment_variables": {},
   "exception": null,
   "input_path": "__notebook__.ipynb",
   "output_path": "__notebook__.ipynb",
   "parameters": {},
   "start_time": "2023-01-23T15:06:30.449919",
   "version": "2.3.4"
  }
 },
 "nbformat": 4,
 "nbformat_minor": 5
}
