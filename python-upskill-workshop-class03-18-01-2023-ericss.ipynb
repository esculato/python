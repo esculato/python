{
 "cells": [
  {
   "cell_type": "markdown",
   "id": "859c60fb",
   "metadata": {
    "papermill": {
     "duration": 0.012307,
     "end_time": "2023-01-18T15:00:21.636420",
     "exception": false,
     "start_time": "2023-01-18T15:00:21.624113",
     "status": "completed"
    },
    "tags": []
   },
   "source": [
    "# Data Collections"
   ]
  },
  {
   "cell_type": "code",
   "execution_count": 1,
   "id": "3b6ba29a",
   "metadata": {
    "execution": {
     "iopub.execute_input": "2023-01-18T15:00:21.658305Z",
     "iopub.status.busy": "2023-01-18T15:00:21.657820Z",
     "iopub.status.idle": "2023-01-18T15:00:21.663580Z",
     "shell.execute_reply": "2023-01-18T15:00:21.662438Z"
    },
    "papermill": {
     "duration": 0.020737,
     "end_time": "2023-01-18T15:00:21.666781",
     "exception": false,
     "start_time": "2023-01-18T15:00:21.646044",
     "status": "completed"
    },
    "tags": []
   },
   "outputs": [],
   "source": [
    "#List, tuples, dictionaries, sets"
   ]
  },
  {
   "cell_type": "code",
   "execution_count": 2,
   "id": "2b497e9d",
   "metadata": {
    "execution": {
     "iopub.execute_input": "2023-01-18T15:00:21.688520Z",
     "iopub.status.busy": "2023-01-18T15:00:21.688024Z",
     "iopub.status.idle": "2023-01-18T15:00:21.700831Z",
     "shell.execute_reply": "2023-01-18T15:00:21.698932Z"
    },
    "papermill": {
     "duration": 0.028691,
     "end_time": "2023-01-18T15:00:21.705509",
     "exception": false,
     "start_time": "2023-01-18T15:00:21.676818",
     "status": "completed"
    },
    "tags": []
   },
   "outputs": [
    {
     "name": "stdout",
     "output_type": "stream",
     "text": [
      "[1, 2.5, 'Hello World!', True, [1, 2, 3]]\n"
     ]
    }
   ],
   "source": [
    "#List\n",
    "#Mutable\n",
    "list1 = [1,2.5,\"Hello World!\",True,[1,2,3]]\n",
    "print(list1)"
   ]
  },
  {
   "cell_type": "markdown",
   "id": "542070aa",
   "metadata": {
    "papermill": {
     "duration": 0.009442,
     "end_time": "2023-01-18T15:00:21.724947",
     "exception": false,
     "start_time": "2023-01-18T15:00:21.715505",
     "status": "completed"
    },
    "tags": []
   },
   "source": []
  },
  {
   "cell_type": "code",
   "execution_count": 3,
   "id": "6e382833",
   "metadata": {
    "execution": {
     "iopub.execute_input": "2023-01-18T15:00:21.748698Z",
     "iopub.status.busy": "2023-01-18T15:00:21.748271Z",
     "iopub.status.idle": "2023-01-18T15:00:21.754694Z",
     "shell.execute_reply": "2023-01-18T15:00:21.753184Z"
    },
    "papermill": {
     "duration": 0.020758,
     "end_time": "2023-01-18T15:00:21.757553",
     "exception": false,
     "start_time": "2023-01-18T15:00:21.736795",
     "status": "completed"
    },
    "tags": []
   },
   "outputs": [],
   "source": [
    "list1.append(\"Hello!\")"
   ]
  },
  {
   "cell_type": "code",
   "execution_count": 4,
   "id": "ccc9c5b1",
   "metadata": {
    "execution": {
     "iopub.execute_input": "2023-01-18T15:00:21.778875Z",
     "iopub.status.busy": "2023-01-18T15:00:21.778444Z",
     "iopub.status.idle": "2023-01-18T15:00:21.785097Z",
     "shell.execute_reply": "2023-01-18T15:00:21.783460Z"
    },
    "papermill": {
     "duration": 0.021134,
     "end_time": "2023-01-18T15:00:21.788211",
     "exception": false,
     "start_time": "2023-01-18T15:00:21.767077",
     "status": "completed"
    },
    "tags": []
   },
   "outputs": [
    {
     "name": "stdout",
     "output_type": "stream",
     "text": [
      "[1, 2.5, 'Hello World!', True, [1, 2, 3], 'Hello!']\n"
     ]
    }
   ],
   "source": [
    "print(list1)"
   ]
  },
  {
   "cell_type": "code",
   "execution_count": 5,
   "id": "7ef51043",
   "metadata": {
    "execution": {
     "iopub.execute_input": "2023-01-18T15:00:21.809181Z",
     "iopub.status.busy": "2023-01-18T15:00:21.808772Z",
     "iopub.status.idle": "2023-01-18T15:00:21.815979Z",
     "shell.execute_reply": "2023-01-18T15:00:21.813917Z"
    },
    "papermill": {
     "duration": 0.022596,
     "end_time": "2023-01-18T15:00:21.820399",
     "exception": false,
     "start_time": "2023-01-18T15:00:21.797803",
     "status": "completed"
    },
    "tags": []
   },
   "outputs": [
    {
     "name": "stdout",
     "output_type": "stream",
     "text": [
      "True\n",
      "1\n",
      "Hello World!\n"
     ]
    }
   ],
   "source": [
    "print(list1[3])\n",
    "print(list1[0])\n",
    "print(list1[2])"
   ]
  },
  {
   "cell_type": "code",
   "execution_count": 6,
   "id": "fdc64e34",
   "metadata": {
    "execution": {
     "iopub.execute_input": "2023-01-18T15:00:21.843386Z",
     "iopub.status.busy": "2023-01-18T15:00:21.842911Z",
     "iopub.status.idle": "2023-01-18T15:00:21.851371Z",
     "shell.execute_reply": "2023-01-18T15:00:21.849887Z"
    },
    "papermill": {
     "duration": 0.022896,
     "end_time": "2023-01-18T15:00:21.854094",
     "exception": false,
     "start_time": "2023-01-18T15:00:21.831198",
     "status": "completed"
    },
    "tags": []
   },
   "outputs": [
    {
     "name": "stdout",
     "output_type": "stream",
     "text": [
      "Hello!\n",
      "Hello World!\n",
      "2.5\n"
     ]
    }
   ],
   "source": [
    "print(list1[-1])\n",
    "print(list1[-4])\n",
    "print(list1[-5])"
   ]
  },
  {
   "cell_type": "code",
   "execution_count": 7,
   "id": "1b87b386",
   "metadata": {
    "execution": {
     "iopub.execute_input": "2023-01-18T15:00:21.876281Z",
     "iopub.status.busy": "2023-01-18T15:00:21.875251Z",
     "iopub.status.idle": "2023-01-18T15:00:21.883690Z",
     "shell.execute_reply": "2023-01-18T15:00:21.881653Z"
    },
    "papermill": {
     "duration": 0.023162,
     "end_time": "2023-01-18T15:00:21.887011",
     "exception": false,
     "start_time": "2023-01-18T15:00:21.863849",
     "status": "completed"
    },
    "tags": []
   },
   "outputs": [
    {
     "name": "stdout",
     "output_type": "stream",
     "text": [
      "[1, 2, 3]\n",
      "[3, 4, 5, 6]\n",
      "[8, 9, 10]\n",
      "[1, 2, 3, 4, 5]\n",
      "[6, 7, 8, 9, 10]\n",
      "[4, 5, 6, 7, 8, 9, 10]\n"
     ]
    }
   ],
   "source": [
    "#slicing\n",
    "list2 = [1,2,3,4,5,6,7,8,9,10]\n",
    "print(list2[0:3])\n",
    "print(list2[2:6])\n",
    "print(list2[7:10])\n",
    "print(list2[:5])\n",
    "print(list2[5:])\n",
    "print(list2[3:])"
   ]
  },
  {
   "cell_type": "code",
   "execution_count": 8,
   "id": "9a03e085",
   "metadata": {
    "execution": {
     "iopub.execute_input": "2023-01-18T15:00:21.909002Z",
     "iopub.status.busy": "2023-01-18T15:00:21.908552Z",
     "iopub.status.idle": "2023-01-18T15:00:21.915780Z",
     "shell.execute_reply": "2023-01-18T15:00:21.914419Z"
    },
    "papermill": {
     "duration": 0.022242,
     "end_time": "2023-01-18T15:00:21.919015",
     "exception": false,
     "start_time": "2023-01-18T15:00:21.896773",
     "status": "completed"
    },
    "tags": []
   },
   "outputs": [
    {
     "name": "stdout",
     "output_type": "stream",
     "text": [
      "[8, 9, 10]\n",
      "[3, 4, 5, 6]\n"
     ]
    }
   ],
   "source": [
    "list2 = [1,2,3,4,5,6,7,8,9,10]\n",
    "print(list2[-3:])\n",
    "print(list2[-8:-4])"
   ]
  },
  {
   "cell_type": "code",
   "execution_count": 9,
   "id": "178644ea",
   "metadata": {
    "execution": {
     "iopub.execute_input": "2023-01-18T15:00:21.942776Z",
     "iopub.status.busy": "2023-01-18T15:00:21.940993Z",
     "iopub.status.idle": "2023-01-18T15:00:21.948625Z",
     "shell.execute_reply": "2023-01-18T15:00:21.947386Z"
    },
    "papermill": {
     "duration": 0.021959,
     "end_time": "2023-01-18T15:00:21.951391",
     "exception": false,
     "start_time": "2023-01-18T15:00:21.929432",
     "status": "completed"
    },
    "tags": []
   },
   "outputs": [
    {
     "name": "stdout",
     "output_type": "stream",
     "text": [
      "[1, 2, 3, 4, 5]\n",
      "[4, 5, 6, 7, 8, 9, 10]\n"
     ]
    }
   ],
   "source": [
    "print(list2[:5])\n",
    "print(list2[3:])"
   ]
  },
  {
   "cell_type": "code",
   "execution_count": 10,
   "id": "6515e0da",
   "metadata": {
    "execution": {
     "iopub.execute_input": "2023-01-18T15:00:21.973648Z",
     "iopub.status.busy": "2023-01-18T15:00:21.973180Z",
     "iopub.status.idle": "2023-01-18T15:00:21.978843Z",
     "shell.execute_reply": "2023-01-18T15:00:21.977826Z"
    },
    "papermill": {
     "duration": 0.019855,
     "end_time": "2023-01-18T15:00:21.981694",
     "exception": false,
     "start_time": "2023-01-18T15:00:21.961839",
     "status": "completed"
    },
    "tags": []
   },
   "outputs": [
    {
     "name": "stdout",
     "output_type": "stream",
     "text": [
      "[1, 2, 3, 4, 5, 6, 7, 8]\n",
      "[1, 2, 3, 4, 5, 6, 7, 8, 9, 10]\n"
     ]
    }
   ],
   "source": [
    "print(list2[:-2])\n",
    "print(list2[:])"
   ]
  },
  {
   "cell_type": "code",
   "execution_count": 11,
   "id": "1ba24451",
   "metadata": {
    "execution": {
     "iopub.execute_input": "2023-01-18T15:00:22.004638Z",
     "iopub.status.busy": "2023-01-18T15:00:22.003573Z",
     "iopub.status.idle": "2023-01-18T15:00:22.014116Z",
     "shell.execute_reply": "2023-01-18T15:00:22.013103Z"
    },
    "papermill": {
     "duration": 0.02509,
     "end_time": "2023-01-18T15:00:22.017158",
     "exception": false,
     "start_time": "2023-01-18T15:00:21.992068",
     "status": "completed"
    },
    "tags": []
   },
   "outputs": [
    {
     "data": {
      "text/plain": [
       "['__add__',\n",
       " '__class__',\n",
       " '__contains__',\n",
       " '__delattr__',\n",
       " '__delitem__',\n",
       " '__dir__',\n",
       " '__doc__',\n",
       " '__eq__',\n",
       " '__format__',\n",
       " '__ge__',\n",
       " '__getattribute__',\n",
       " '__getitem__',\n",
       " '__gt__',\n",
       " '__hash__',\n",
       " '__iadd__',\n",
       " '__imul__',\n",
       " '__init__',\n",
       " '__init_subclass__',\n",
       " '__iter__',\n",
       " '__le__',\n",
       " '__len__',\n",
       " '__lt__',\n",
       " '__mul__',\n",
       " '__ne__',\n",
       " '__new__',\n",
       " '__reduce__',\n",
       " '__reduce_ex__',\n",
       " '__repr__',\n",
       " '__reversed__',\n",
       " '__rmul__',\n",
       " '__setattr__',\n",
       " '__setitem__',\n",
       " '__sizeof__',\n",
       " '__str__',\n",
       " '__subclasshook__',\n",
       " 'append',\n",
       " 'clear',\n",
       " 'copy',\n",
       " 'count',\n",
       " 'extend',\n",
       " 'index',\n",
       " 'insert',\n",
       " 'pop',\n",
       " 'remove',\n",
       " 'reverse',\n",
       " 'sort']"
      ]
     },
     "execution_count": 11,
     "metadata": {},
     "output_type": "execute_result"
    }
   ],
   "source": [
    "dir(list2)\n"
   ]
  },
  {
   "cell_type": "code",
   "execution_count": 12,
   "id": "fc689fb4",
   "metadata": {
    "execution": {
     "iopub.execute_input": "2023-01-18T15:00:22.039465Z",
     "iopub.status.busy": "2023-01-18T15:00:22.038665Z",
     "iopub.status.idle": "2023-01-18T15:00:22.045812Z",
     "shell.execute_reply": "2023-01-18T15:00:22.044349Z"
    },
    "papermill": {
     "duration": 0.021241,
     "end_time": "2023-01-18T15:00:22.048433",
     "exception": false,
     "start_time": "2023-01-18T15:00:22.027192",
     "status": "completed"
    },
    "tags": []
   },
   "outputs": [
    {
     "name": "stdout",
     "output_type": "stream",
     "text": [
      "Help on built-in function copy:\n",
      "\n",
      "copy() method of builtins.list instance\n",
      "    Return a shallow copy of the list.\n",
      "\n"
     ]
    }
   ],
   "source": [
    "help(list2.copy)"
   ]
  },
  {
   "cell_type": "code",
   "execution_count": 13,
   "id": "b0d54eb2",
   "metadata": {
    "execution": {
     "iopub.execute_input": "2023-01-18T15:00:22.072228Z",
     "iopub.status.busy": "2023-01-18T15:00:22.071179Z",
     "iopub.status.idle": "2023-01-18T15:00:22.079195Z",
     "shell.execute_reply": "2023-01-18T15:00:22.077794Z"
    },
    "papermill": {
     "duration": 0.022859,
     "end_time": "2023-01-18T15:00:22.082374",
     "exception": false,
     "start_time": "2023-01-18T15:00:22.059515",
     "status": "completed"
    },
    "tags": []
   },
   "outputs": [
    {
     "name": "stdout",
     "output_type": "stream",
     "text": [
      "[1, 2, 3, 4, 5] [1, 2, 3, 4, 5]\n",
      "[1, 2, 3, 4, 5, 'Some element'] [1, 2, 3, 4, 5, 'Some element']\n",
      "[1, 2, 3, 4, 5, 'Some element'] [1, 2, 3, 4, 5, 'Some element', 'Extra element']\n"
     ]
    }
   ],
   "source": [
    "list3 = [1,2,3,4,5]\n",
    "list4 = list3\n",
    "print(list3, list4)\n",
    "list4.append(\"Some element\")\n",
    "print(list3, list4)\n",
    "list4 = list3.copy()\n",
    "list4.append(\"Extra element\")\n",
    "print(list3, list4)"
   ]
  },
  {
   "cell_type": "code",
   "execution_count": 14,
   "id": "dae195d5",
   "metadata": {
    "execution": {
     "iopub.execute_input": "2023-01-18T15:00:22.106407Z",
     "iopub.status.busy": "2023-01-18T15:00:22.105900Z",
     "iopub.status.idle": "2023-01-18T15:00:22.111704Z",
     "shell.execute_reply": "2023-01-18T15:00:22.110276Z"
    },
    "papermill": {
     "duration": 0.021048,
     "end_time": "2023-01-18T15:00:22.114574",
     "exception": false,
     "start_time": "2023-01-18T15:00:22.093526",
     "status": "completed"
    },
    "tags": []
   },
   "outputs": [],
   "source": [
    "list4[-1] = 10"
   ]
  },
  {
   "cell_type": "code",
   "execution_count": 15,
   "id": "8fb616f0",
   "metadata": {
    "execution": {
     "iopub.execute_input": "2023-01-18T15:00:22.137640Z",
     "iopub.status.busy": "2023-01-18T15:00:22.137175Z",
     "iopub.status.idle": "2023-01-18T15:00:22.144625Z",
     "shell.execute_reply": "2023-01-18T15:00:22.142925Z"
    },
    "papermill": {
     "duration": 0.023833,
     "end_time": "2023-01-18T15:00:22.149549",
     "exception": false,
     "start_time": "2023-01-18T15:00:22.125716",
     "status": "completed"
    },
    "tags": []
   },
   "outputs": [
    {
     "name": "stdout",
     "output_type": "stream",
     "text": [
      "[1, 2, 3, 4, 5, 'Some element', 10]\n"
     ]
    }
   ],
   "source": [
    "print(list4)"
   ]
  },
  {
   "cell_type": "code",
   "execution_count": 16,
   "id": "f9eb576b",
   "metadata": {
    "execution": {
     "iopub.execute_input": "2023-01-18T15:00:22.172263Z",
     "iopub.status.busy": "2023-01-18T15:00:22.171824Z",
     "iopub.status.idle": "2023-01-18T15:00:22.179198Z",
     "shell.execute_reply": "2023-01-18T15:00:22.177480Z"
    },
    "papermill": {
     "duration": 0.022126,
     "end_time": "2023-01-18T15:00:22.182378",
     "exception": false,
     "start_time": "2023-01-18T15:00:22.160252",
     "status": "completed"
    },
    "tags": []
   },
   "outputs": [
    {
     "name": "stdout",
     "output_type": "stream",
     "text": [
      "[1, 2, 3, 4, 5, 'Some element']\n"
     ]
    }
   ],
   "source": [
    "print(list3)"
   ]
  },
  {
   "cell_type": "code",
   "execution_count": 17,
   "id": "f0afe1d0",
   "metadata": {
    "execution": {
     "iopub.execute_input": "2023-01-18T15:00:22.205228Z",
     "iopub.status.busy": "2023-01-18T15:00:22.204716Z",
     "iopub.status.idle": "2023-01-18T15:00:22.211760Z",
     "shell.execute_reply": "2023-01-18T15:00:22.210218Z"
    },
    "papermill": {
     "duration": 0.022555,
     "end_time": "2023-01-18T15:00:22.215408",
     "exception": false,
     "start_time": "2023-01-18T15:00:22.192853",
     "status": "completed"
    },
    "tags": []
   },
   "outputs": [
    {
     "name": "stdout",
     "output_type": "stream",
     "text": [
      "[0, 5, 7, 8, 4, 3, 2]\n",
      "[0, 2, 3, 4, 5, 7, 8]\n"
     ]
    }
   ],
   "source": [
    "list5 = [0,5,7,8,4,3,2]\n",
    "print(list5)\n",
    "list5.sort()\n",
    "print(list5)"
   ]
  },
  {
   "cell_type": "code",
   "execution_count": 18,
   "id": "bdf320e3",
   "metadata": {
    "execution": {
     "iopub.execute_input": "2023-01-18T15:00:22.241260Z",
     "iopub.status.busy": "2023-01-18T15:00:22.240819Z",
     "iopub.status.idle": "2023-01-18T15:00:22.248093Z",
     "shell.execute_reply": "2023-01-18T15:00:22.246036Z"
    },
    "papermill": {
     "duration": 0.024763,
     "end_time": "2023-01-18T15:00:22.253127",
     "exception": false,
     "start_time": "2023-01-18T15:00:22.228364",
     "status": "completed"
    },
    "tags": []
   },
   "outputs": [
    {
     "name": "stdout",
     "output_type": "stream",
     "text": [
      "(1, 2, 3, 4, 'String1', 'String2', [1, 2, 3, 4])\n"
     ]
    }
   ],
   "source": [
    "#tuples\n",
    "tuple1 = (1,2,3,4,\"String1\",\"String2\",[1,2,3,4])\n",
    "print(tuple1)"
   ]
  },
  {
   "cell_type": "code",
   "execution_count": 19,
   "id": "7fb0e18a",
   "metadata": {
    "execution": {
     "iopub.execute_input": "2023-01-18T15:00:22.279461Z",
     "iopub.status.busy": "2023-01-18T15:00:22.279037Z",
     "iopub.status.idle": "2023-01-18T15:00:22.285164Z",
     "shell.execute_reply": "2023-01-18T15:00:22.283725Z"
    },
    "papermill": {
     "duration": 0.022085,
     "end_time": "2023-01-18T15:00:22.288132",
     "exception": false,
     "start_time": "2023-01-18T15:00:22.266047",
     "status": "completed"
    },
    "tags": []
   },
   "outputs": [
    {
     "name": "stdout",
     "output_type": "stream",
     "text": [
      "String1\n",
      "String1\n"
     ]
    }
   ],
   "source": [
    "print(tuple1[4])\n",
    "print(tuple1[-3])"
   ]
  },
  {
   "cell_type": "code",
   "execution_count": 20,
   "id": "05be9d45",
   "metadata": {
    "execution": {
     "iopub.execute_input": "2023-01-18T15:00:22.314575Z",
     "iopub.status.busy": "2023-01-18T15:00:22.313183Z",
     "iopub.status.idle": "2023-01-18T15:00:22.322237Z",
     "shell.execute_reply": "2023-01-18T15:00:22.320105Z"
    },
    "papermill": {
     "duration": 0.025563,
     "end_time": "2023-01-18T15:00:22.325286",
     "exception": false,
     "start_time": "2023-01-18T15:00:22.299723",
     "status": "completed"
    },
    "tags": []
   },
   "outputs": [
    {
     "name": "stdout",
     "output_type": "stream",
     "text": [
      "value\n"
     ]
    }
   ],
   "source": [
    "#dictionaries\n",
    "# hashmap ()\n",
    "dict1 = {\"key\" : \"value\"}\n",
    "print(dict1[\"key\"])"
   ]
  },
  {
   "cell_type": "code",
   "execution_count": 21,
   "id": "a72e8039",
   "metadata": {
    "execution": {
     "iopub.execute_input": "2023-01-18T15:00:22.349130Z",
     "iopub.status.busy": "2023-01-18T15:00:22.348709Z",
     "iopub.status.idle": "2023-01-18T15:00:22.354517Z",
     "shell.execute_reply": "2023-01-18T15:00:22.353206Z"
    },
    "papermill": {
     "duration": 0.023074,
     "end_time": "2023-01-18T15:00:22.359121",
     "exception": false,
     "start_time": "2023-01-18T15:00:22.336047",
     "status": "completed"
    },
    "tags": []
   },
   "outputs": [
    {
     "name": "stdout",
     "output_type": "stream",
     "text": [
      "Peter\n"
     ]
    }
   ],
   "source": [
    "dict2 = {\"name\" : \"Peter\"}\n",
    "print(dict2[\"name\"])"
   ]
  },
  {
   "cell_type": "code",
   "execution_count": 22,
   "id": "90773ae8",
   "metadata": {
    "execution": {
     "iopub.execute_input": "2023-01-18T15:00:22.384047Z",
     "iopub.status.busy": "2023-01-18T15:00:22.383611Z",
     "iopub.status.idle": "2023-01-18T15:00:22.392342Z",
     "shell.execute_reply": "2023-01-18T15:00:22.389898Z"
    },
    "papermill": {
     "duration": 0.025933,
     "end_time": "2023-01-18T15:00:22.396762",
     "exception": false,
     "start_time": "2023-01-18T15:00:22.370829",
     "status": "completed"
    },
    "tags": []
   },
   "outputs": [
    {
     "name": "stdout",
     "output_type": "stream",
     "text": [
      "Peter\n",
      "Optimization\n"
     ]
    }
   ],
   "source": [
    "dict3 = {\n",
    "    \"name\" : \"Peter\",\n",
    "    \"age\" : 30,\n",
    "    \"area\" : \"Optimization\"\n",
    "}\n",
    "print(dict3[\"name\"])\n",
    "print(dict3[\"area\"])"
   ]
  },
  {
   "cell_type": "code",
   "execution_count": 23,
   "id": "1f8958a6",
   "metadata": {
    "execution": {
     "iopub.execute_input": "2023-01-18T15:00:22.425396Z",
     "iopub.status.busy": "2023-01-18T15:00:22.424947Z",
     "iopub.status.idle": "2023-01-18T15:00:22.433019Z",
     "shell.execute_reply": "2023-01-18T15:00:22.431821Z"
    },
    "papermill": {
     "duration": 0.027356,
     "end_time": "2023-01-18T15:00:22.437635",
     "exception": false,
     "start_time": "2023-01-18T15:00:22.410279",
     "status": "completed"
    },
    "tags": []
   },
   "outputs": [
    {
     "name": "stdout",
     "output_type": "stream",
     "text": [
      "[1, 2, 3, 4, 5]\n",
      "{'info': 'Data'}\n",
      "Data\n"
     ]
    }
   ],
   "source": [
    "dict4 = {\n",
    "    \"name\" : \"Peter\",\n",
    "    \"age\" : 30,\n",
    "    \"area\" : \"Optimization\",\n",
    "    \"other\" : [1,2,3,4,5],\n",
    "    \"more\" : {\n",
    "        \"info\" : \"Data\"\n",
    "    }\n",
    "}\n",
    "print(dict4[\"other\"])\n",
    "print(dict4[\"more\"])\n",
    "print(dict4[\"more\"][\"info\"])"
   ]
  },
  {
   "cell_type": "code",
   "execution_count": 24,
   "id": "04a5d6af",
   "metadata": {
    "execution": {
     "iopub.execute_input": "2023-01-18T15:00:22.478896Z",
     "iopub.status.busy": "2023-01-18T15:00:22.478482Z",
     "iopub.status.idle": "2023-01-18T15:00:22.487426Z",
     "shell.execute_reply": "2023-01-18T15:00:22.485836Z"
    },
    "papermill": {
     "duration": 0.031227,
     "end_time": "2023-01-18T15:00:22.490470",
     "exception": false,
     "start_time": "2023-01-18T15:00:22.459243",
     "status": "completed"
    },
    "tags": []
   },
   "outputs": [
    {
     "data": {
      "text/plain": [
       "dict_items([('name', 'Peter'), ('age', 30), ('area', 'Optimization'), ('other', [1, 2, 3, 4, 5]), ('more', {'info': 'Data'})])"
      ]
     },
     "execution_count": 24,
     "metadata": {},
     "output_type": "execute_result"
    }
   ],
   "source": [
    "dict4.items()"
   ]
  },
  {
   "cell_type": "code",
   "execution_count": 25,
   "id": "d5575b82",
   "metadata": {
    "execution": {
     "iopub.execute_input": "2023-01-18T15:00:22.519400Z",
     "iopub.status.busy": "2023-01-18T15:00:22.518576Z",
     "iopub.status.idle": "2023-01-18T15:00:22.525108Z",
     "shell.execute_reply": "2023-01-18T15:00:22.524104Z"
    },
    "papermill": {
     "duration": 0.021189,
     "end_time": "2023-01-18T15:00:22.527516",
     "exception": false,
     "start_time": "2023-01-18T15:00:22.506327",
     "status": "completed"
    },
    "tags": []
   },
   "outputs": [
    {
     "data": {
      "text/plain": [
       "dict_values(['Peter', 30, 'Optimization', [1, 2, 3, 4, 5], {'info': 'Data'}])"
      ]
     },
     "execution_count": 25,
     "metadata": {},
     "output_type": "execute_result"
    }
   ],
   "source": [
    "dict4.values()"
   ]
  },
  {
   "cell_type": "code",
   "execution_count": 26,
   "id": "7b252d87",
   "metadata": {
    "execution": {
     "iopub.execute_input": "2023-01-18T15:00:22.552435Z",
     "iopub.status.busy": "2023-01-18T15:00:22.551954Z",
     "iopub.status.idle": "2023-01-18T15:00:22.562190Z",
     "shell.execute_reply": "2023-01-18T15:00:22.560076Z"
    },
    "papermill": {
     "duration": 0.026488,
     "end_time": "2023-01-18T15:00:22.565525",
     "exception": false,
     "start_time": "2023-01-18T15:00:22.539037",
     "status": "completed"
    },
    "tags": []
   },
   "outputs": [
    {
     "data": {
      "text/plain": [
       "['__class__',\n",
       " '__contains__',\n",
       " '__delattr__',\n",
       " '__delitem__',\n",
       " '__dir__',\n",
       " '__doc__',\n",
       " '__eq__',\n",
       " '__format__',\n",
       " '__ge__',\n",
       " '__getattribute__',\n",
       " '__getitem__',\n",
       " '__gt__',\n",
       " '__hash__',\n",
       " '__init__',\n",
       " '__init_subclass__',\n",
       " '__iter__',\n",
       " '__le__',\n",
       " '__len__',\n",
       " '__lt__',\n",
       " '__ne__',\n",
       " '__new__',\n",
       " '__reduce__',\n",
       " '__reduce_ex__',\n",
       " '__repr__',\n",
       " '__setattr__',\n",
       " '__setitem__',\n",
       " '__sizeof__',\n",
       " '__str__',\n",
       " '__subclasshook__',\n",
       " 'clear',\n",
       " 'copy',\n",
       " 'fromkeys',\n",
       " 'get',\n",
       " 'items',\n",
       " 'keys',\n",
       " 'pop',\n",
       " 'popitem',\n",
       " 'setdefault',\n",
       " 'update',\n",
       " 'values']"
      ]
     },
     "execution_count": 26,
     "metadata": {},
     "output_type": "execute_result"
    }
   ],
   "source": [
    "dir(dict)"
   ]
  },
  {
   "cell_type": "code",
   "execution_count": 27,
   "id": "b2600578",
   "metadata": {
    "execution": {
     "iopub.execute_input": "2023-01-18T15:00:22.589813Z",
     "iopub.status.busy": "2023-01-18T15:00:22.589353Z",
     "iopub.status.idle": "2023-01-18T15:00:22.595557Z",
     "shell.execute_reply": "2023-01-18T15:00:22.594186Z"
    },
    "papermill": {
     "duration": 0.02282,
     "end_time": "2023-01-18T15:00:22.599654",
     "exception": false,
     "start_time": "2023-01-18T15:00:22.576834",
     "status": "completed"
    },
    "tags": []
   },
   "outputs": [
    {
     "name": "stdout",
     "output_type": "stream",
     "text": [
      "Help on method_descriptor:\n",
      "\n",
      "values(...)\n",
      "    D.values() -> an object providing a view on D's values\n",
      "\n"
     ]
    }
   ],
   "source": [
    "help(dict.values)"
   ]
  },
  {
   "cell_type": "code",
   "execution_count": 28,
   "id": "5884d8de",
   "metadata": {
    "execution": {
     "iopub.execute_input": "2023-01-18T15:00:22.628432Z",
     "iopub.status.busy": "2023-01-18T15:00:22.627928Z",
     "iopub.status.idle": "2023-01-18T15:00:22.635174Z",
     "shell.execute_reply": "2023-01-18T15:00:22.633588Z"
    },
    "papermill": {
     "duration": 0.025218,
     "end_time": "2023-01-18T15:00:22.637948",
     "exception": false,
     "start_time": "2023-01-18T15:00:22.612730",
     "status": "completed"
    },
    "tags": []
   },
   "outputs": [
    {
     "name": "stdout",
     "output_type": "stream",
     "text": [
      "{1, 2, 3, 4}\n",
      "{2, 4}\n"
     ]
    }
   ],
   "source": [
    "#sets\n",
    "set1 = {1,2,3,4,4,4,4,4,4,4}\n",
    "print(set1)\n",
    "set2 = {2,4,8,10}\n",
    "print(set1.intersection(set2))"
   ]
  },
  {
   "cell_type": "code",
   "execution_count": 29,
   "id": "861e3a49",
   "metadata": {
    "execution": {
     "iopub.execute_input": "2023-01-18T15:00:22.664405Z",
     "iopub.status.busy": "2023-01-18T15:00:22.663955Z",
     "iopub.status.idle": "2023-01-18T15:00:22.670973Z",
     "shell.execute_reply": "2023-01-18T15:00:22.669255Z"
    },
    "papermill": {
     "duration": 0.023881,
     "end_time": "2023-01-18T15:00:22.673727",
     "exception": false,
     "start_time": "2023-01-18T15:00:22.649846",
     "status": "completed"
    },
    "tags": []
   },
   "outputs": [
    {
     "name": "stdout",
     "output_type": "stream",
     "text": [
      "{1, 3}\n"
     ]
    }
   ],
   "source": [
    "print(set1 - set2)"
   ]
  },
  {
   "cell_type": "markdown",
   "id": "80e992a9",
   "metadata": {
    "papermill": {
     "duration": 0.012275,
     "end_time": "2023-01-18T15:00:22.698969",
     "exception": false,
     "start_time": "2023-01-18T15:00:22.686694",
     "status": "completed"
    },
    "tags": []
   },
   "source": [
    "# Python Conditions\n",
    "\n",
    "if (expresion):\n",
    "    run_code"
   ]
  },
  {
   "cell_type": "code",
   "execution_count": 30,
   "id": "28c8670e",
   "metadata": {
    "execution": {
     "iopub.execute_input": "2023-01-18T15:00:22.725888Z",
     "iopub.status.busy": "2023-01-18T15:00:22.723042Z",
     "iopub.status.idle": "2023-01-18T15:00:22.732626Z",
     "shell.execute_reply": "2023-01-18T15:00:22.731072Z"
    },
    "papermill": {
     "duration": 0.024557,
     "end_time": "2023-01-18T15:00:22.735213",
     "exception": false,
     "start_time": "2023-01-18T15:00:22.710656",
     "status": "completed"
    },
    "tags": []
   },
   "outputs": [
    {
     "name": "stdout",
     "output_type": "stream",
     "text": [
      "Is great than 5\n"
     ]
    }
   ],
   "source": [
    "number = 20\n",
    "if (number > 5):\n",
    "    print(\"Is great than 5\")\n",
    "else:\n",
    "    print(\"Is less than 5\")"
   ]
  },
  {
   "cell_type": "code",
   "execution_count": 31,
   "id": "0eb61edb",
   "metadata": {
    "execution": {
     "iopub.execute_input": "2023-01-18T15:00:22.760018Z",
     "iopub.status.busy": "2023-01-18T15:00:22.759261Z",
     "iopub.status.idle": "2023-01-18T15:00:22.766918Z",
     "shell.execute_reply": "2023-01-18T15:00:22.765334Z"
    },
    "papermill": {
     "duration": 0.024198,
     "end_time": "2023-01-18T15:00:22.770864",
     "exception": false,
     "start_time": "2023-01-18T15:00:22.746666",
     "status": "completed"
    },
    "tags": []
   },
   "outputs": [
    {
     "name": "stdout",
     "output_type": "stream",
     "text": [
      "bongo\n"
     ]
    }
   ],
   "source": [
    "blaat = 3\n",
    "if (blaat <2):\n",
    "    print(\"lalala\")\n",
    "else:\n",
    "    print(\"bongo\")"
   ]
  },
  {
   "cell_type": "code",
   "execution_count": 32,
   "id": "4a5d8d57",
   "metadata": {
    "execution": {
     "iopub.execute_input": "2023-01-18T15:00:22.796741Z",
     "iopub.status.busy": "2023-01-18T15:00:22.796287Z",
     "iopub.status.idle": "2023-01-18T15:00:22.803991Z",
     "shell.execute_reply": "2023-01-18T15:00:22.802381Z"
    },
    "papermill": {
     "duration": 0.023583,
     "end_time": "2023-01-18T15:00:22.807161",
     "exception": false,
     "start_time": "2023-01-18T15:00:22.783578",
     "status": "completed"
    },
    "tags": []
   },
   "outputs": [
    {
     "name": "stdout",
     "output_type": "stream",
     "text": [
      "Condition4\n"
     ]
    }
   ],
   "source": [
    "age = 100\n",
    "if (age > 18 and age <= 30):\n",
    "    print(\"Condition1\")\n",
    "elif(age > 30 and age <= 50):\n",
    "    print(\"Condition2\")\n",
    "elif (age > 50 and age <= 60):\n",
    "    print(\"Condition3\")\n",
    "else:\n",
    "    print(\"Condition4\")"
   ]
  },
  {
   "cell_type": "code",
   "execution_count": 33,
   "id": "68014c14",
   "metadata": {
    "execution": {
     "iopub.execute_input": "2023-01-18T15:00:22.833235Z",
     "iopub.status.busy": "2023-01-18T15:00:22.832797Z",
     "iopub.status.idle": "2023-01-18T15:00:22.839534Z",
     "shell.execute_reply": "2023-01-18T15:00:22.837986Z"
    },
    "papermill": {
     "duration": 0.022734,
     "end_time": "2023-01-18T15:00:22.842464",
     "exception": false,
     "start_time": "2023-01-18T15:00:22.819730",
     "status": "completed"
    },
    "tags": []
   },
   "outputs": [
    {
     "name": "stdout",
     "output_type": "stream",
     "text": [
      "Is in\n"
     ]
    }
   ],
   "source": [
    "list1 = [\"Juan\",\"Peter\",\"Aldo\"]\n",
    "if (\"Juan\" in list1):\n",
    "    print(\"Is in\")\n",
    "else:\n",
    "    print(\"Is not in\")"
   ]
  },
  {
   "cell_type": "code",
   "execution_count": 34,
   "id": "43409e7f",
   "metadata": {
    "execution": {
     "iopub.execute_input": "2023-01-18T15:00:22.867699Z",
     "iopub.status.busy": "2023-01-18T15:00:22.866966Z",
     "iopub.status.idle": "2023-01-18T15:00:22.874247Z",
     "shell.execute_reply": "2023-01-18T15:00:22.873251Z"
    },
    "papermill": {
     "duration": 0.023736,
     "end_time": "2023-01-18T15:00:22.877816",
     "exception": false,
     "start_time": "2023-01-18T15:00:22.854080",
     "status": "completed"
    },
    "tags": []
   },
   "outputs": [
    {
     "data": {
      "text/plain": [
       "[1, 2, 3, 4, 5, 6]"
      ]
     },
     "execution_count": 34,
     "metadata": {},
     "output_type": "execute_result"
    }
   ],
   "source": [
    "list1 = [1,2,3,4,5,6,7,6,8,9]\n",
    "list1[:6]"
   ]
  },
  {
   "cell_type": "code",
   "execution_count": 35,
   "id": "97e8e541",
   "metadata": {
    "execution": {
     "iopub.execute_input": "2023-01-18T15:00:22.903186Z",
     "iopub.status.busy": "2023-01-18T15:00:22.902761Z",
     "iopub.status.idle": "2023-01-18T15:00:22.910079Z",
     "shell.execute_reply": "2023-01-18T15:00:22.908672Z"
    },
    "papermill": {
     "duration": 0.023358,
     "end_time": "2023-01-18T15:00:22.912850",
     "exception": false,
     "start_time": "2023-01-18T15:00:22.889492",
     "status": "completed"
    },
    "tags": []
   },
   "outputs": [
    {
     "name": "stdout",
     "output_type": "stream",
     "text": [
      "Help on built-in function remove:\n",
      "\n",
      "remove(value, /) method of builtins.list instance\n",
      "    Remove first occurrence of value.\n",
      "    \n",
      "    Raises ValueError if the value is not present.\n",
      "\n"
     ]
    }
   ],
   "source": [
    "help(list1.remove)"
   ]
  },
  {
   "cell_type": "code",
   "execution_count": 36,
   "id": "38ef088b",
   "metadata": {
    "execution": {
     "iopub.execute_input": "2023-01-18T15:00:22.939457Z",
     "iopub.status.busy": "2023-01-18T15:00:22.938980Z",
     "iopub.status.idle": "2023-01-18T15:00:22.944401Z",
     "shell.execute_reply": "2023-01-18T15:00:22.943069Z"
    },
    "papermill": {
     "duration": 0.022183,
     "end_time": "2023-01-18T15:00:22.946988",
     "exception": false,
     "start_time": "2023-01-18T15:00:22.924805",
     "status": "completed"
    },
    "tags": []
   },
   "outputs": [],
   "source": [
    "list1.remove(6)"
   ]
  },
  {
   "cell_type": "code",
   "execution_count": 37,
   "id": "aa2d9c04",
   "metadata": {
    "execution": {
     "iopub.execute_input": "2023-01-18T15:00:22.973391Z",
     "iopub.status.busy": "2023-01-18T15:00:22.972935Z",
     "iopub.status.idle": "2023-01-18T15:00:22.980367Z",
     "shell.execute_reply": "2023-01-18T15:00:22.979025Z"
    },
    "papermill": {
     "duration": 0.023748,
     "end_time": "2023-01-18T15:00:22.983466",
     "exception": false,
     "start_time": "2023-01-18T15:00:22.959718",
     "status": "completed"
    },
    "tags": []
   },
   "outputs": [
    {
     "data": {
      "text/plain": [
       "[1, 2, 3, 4, 5, 7, 6, 8, 9]"
      ]
     },
     "execution_count": 37,
     "metadata": {},
     "output_type": "execute_result"
    }
   ],
   "source": [
    "list1"
   ]
  }
 ],
 "metadata": {
  "kernelspec": {
   "display_name": "Python 3",
   "language": "python",
   "name": "python3"
  },
  "language_info": {
   "codemirror_mode": {
    "name": "ipython",
    "version": 3
   },
   "file_extension": ".py",
   "mimetype": "text/x-python",
   "name": "python",
   "nbconvert_exporter": "python",
   "pygments_lexer": "ipython3",
   "version": "3.7.12"
  },
  "papermill": {
   "default_parameters": {},
   "duration": 12.385819,
   "end_time": "2023-01-18T15:00:23.720612",
   "environment_variables": {},
   "exception": null,
   "input_path": "__notebook__.ipynb",
   "output_path": "__notebook__.ipynb",
   "parameters": {},
   "start_time": "2023-01-18T15:00:11.334793",
   "version": "2.3.4"
  }
 },
 "nbformat": 4,
 "nbformat_minor": 5
}
