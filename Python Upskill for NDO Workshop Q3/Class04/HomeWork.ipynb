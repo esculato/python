{
 "cells": [
  {
   "cell_type": "markdown",
   "id": "a93a9969-20d4-4d53-8480-411558281f7e",
   "metadata": {},
   "source": [
    "1. Write a program that stores a password in a variable, ask the user for the password up to __N__ times, when the password is correct, show _CORRECT PASSWORD_ on the screen, when the password is incorrect, show _INCORRECT PASSWORD_ on the screen and if it exceeds the number of attempts allowed to display on the screen _BLOCKED USER_"
   ]
  },
  {
   "cell_type": "code",
   "execution_count": null,
   "id": "898423ea-75dc-49ce-b7ea-4cc45641eb47",
   "metadata": {},
   "outputs": [],
   "source": [
    "#code"
   ]
  },
  {
   "cell_type": "markdown",
   "id": "8fab2c38-dd95-4b5a-b34a-47851f31f8a0",
   "metadata": {},
   "source": [
    "2. They have been sent a file called names.txt with a list of names, it is required to separate those names into three groups according to the initial letter of their names, Group A: A-I Group B: J-R, Group C: S-Z. They must be saved in three different files called group_a.txt, group_b.txt, group_c.txt\n",
    "\n",
    "NOTE: Text strings support indexing in the same way as lists, for example name = “Maria Jose”, name[0] = “M”, name[1] = “a”, name[2] = “r”.\n",
    "Comparison operators are also supported in text strings for example “b” > “a” = True, “b” > “z” = False, “m” > “M” = True, “Maria” > “Marco ” = True"
   ]
  },
  {
   "cell_type": "code",
   "execution_count": null,
   "id": "d74aa5f1-230e-421a-9a27-a5df9b0a23f8",
   "metadata": {},
   "outputs": [],
   "source": [
    "#code"
   ]
  },
  {
   "cell_type": "markdown",
   "id": "1e50c69e-1ba7-43c8-901a-485fb418eed6",
   "metadata": {},
   "source": [
    "3. Write a program that displays the numbers from 1 to 100 on the screen, replacing the multiples of 3 with the word \"fiz\", the multiples of 5 with \"buzz\" and the multiples of both, that is, the multiples of 3 and 5 ( or 15), for the word \"fizzbuzz\""
   ]
  },
  {
   "cell_type": "code",
   "execution_count": null,
   "id": "325b2eb7-da3a-44db-b54e-16c6fc166f86",
   "metadata": {},
   "outputs": [],
   "source": [
    "#code"
   ]
  },
  {
   "cell_type": "markdown",
   "id": "31b5dbf4-b2fd-44aa-9840-84c53f0d1ba7",
   "metadata": {},
   "source": [
    "4. Write a function to print this, The function must receive as a parameter a number that defines the height of the triangle\n",
    "<pre>\n",
    "x\n",
    "x x\n",
    "x x x\n",
    "x x x x\n",
    "x x x x x\n",
    "x x x x x x\n",
    "x x x x x x x\n",
    "</pre>"
   ]
  },
  {
   "cell_type": "code",
   "execution_count": null,
   "id": "f70f52a0-4628-4cde-b098-21cc8654f128",
   "metadata": {},
   "outputs": [],
   "source": [
    "#code"
   ]
  },
  {
   "cell_type": "markdown",
   "id": "fe725526-a0ad-435c-abb4-f02f1e298edd",
   "metadata": {},
   "source": [
    "5. Write a function to print this, The function must receive as a parameter a number that defines the height of the triangle\n",
    "<pre>\n",
    "x\n",
    "x x\n",
    "x x x\n",
    "x x x x\n",
    "x x x\n",
    "x x \n",
    "x\n",
    "</pre>"
   ]
  },
  {
   "cell_type": "code",
   "execution_count": null,
   "id": "b325d6f9-1d99-4f56-88fb-a625feb226a2",
   "metadata": {},
   "outputs": [],
   "source": [
    "#code"
   ]
  }
 ],
 "metadata": {
  "kernelspec": {
   "display_name": "Python 3 (ipykernel)",
   "language": "python",
   "name": "python3"
  },
  "language_info": {
   "codemirror_mode": {
    "name": "ipython",
    "version": 3
   },
   "file_extension": ".py",
   "mimetype": "text/x-python",
   "name": "python",
   "nbconvert_exporter": "python",
   "pygments_lexer": "ipython3",
   "version": "3.9.12"
  }
 },
 "nbformat": 4,
 "nbformat_minor": 5
}
