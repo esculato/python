{
 "cells": [
  {
   "cell_type": "markdown",
   "metadata": {},
   "source": [
    "## Python Modules and Packages\n",
    "\n",
    "### Modules\n",
    "\n",
    "- Modules in Python are a collection of functions or classes that can be reused in various projects.\n",
    "\n",
    "    Example:\n",
    "    \n",
    "        project/\n",
    "            - my_module.py -> this is my module\n",
    "            - test.py\n",
    "- Python has an order to search for modules or packages\n",
    "\n",
    "```\n",
    "import sys\n",
    "print(sys.path)\n",
    "```\n",
    "\n",
    "- Once a module has been imported, you can determine the location where it was found with the module’s __file__ attribute\n",
    "\n",
    "- What is ```__name__``` in python\n",
    "\n",
    "### Package\n",
    "\n",
    "- A package is a collection of modules\n",
    "\n",
    "    Exmaple:\n",
    "\n",
    "        - my_pkg:\n",
    "            __init__.py\n",
    "            - my_sub_pkg01:\n",
    "                module01.py\n",
    "                module02.py\n",
    "                __init__.py\n",
    "            - my_sub_pkg02:\n",
    "                module03.py\n",
    "                __init__.py\n",
    "        - test.py\n",
    "\n",
    "- What is the ```__init__.py ``` file\n",
    "    Is a special file primarily used to indicate that a directory should be treated as a package or module.\n",
    "    You can include initialization code in the __init__.py file. This code will be executed automatically when the package is imported or when modules from the package are imported\n",
    "\n"
   ]
  },
  {
   "cell_type": "markdown",
   "metadata": {},
   "source": []
  }
 ],
 "metadata": {
  "language_info": {
   "name": "python"
  },
  "orig_nbformat": 4
 },
 "nbformat": 4,
 "nbformat_minor": 2
}
