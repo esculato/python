{
 "cells": [
  {
   "cell_type": "code",
   "execution_count": null,
   "metadata": {},
   "outputs": [],
   "source": []
  },
  {
   "cell_type": "markdown",
   "metadata": {},
   "source": [
    "### Excersises\n",
    "\n",
    "1. Enter two numbers on the screen and evaluate the following conditions\n",
    "both have to be numbers and number1 must be greater than number2 or the number 2 must be even\n",
    "\n",
    "    prints the result of the expression (the result must be True or False)\n",
    "\n",
    "\n",
    "2. Creates an expression to evaluate if a word entered on the screen is a palindrome\n",
    "hint: to reverse a text string you can do this: string[::-1]\n",
    "\n",
    "3. Create an expression to evaluate if a word entered on the screen **ends with** '.csv' and **starts with** 'NDO'\n",
    "\n",
    "4. Create an expression to evaluate if a word entered on the scrren has at least one letter\n",
    "\n",
    "5. Given this text string <pre>\"         Python for NDO Workshop   \"</pre> how can you remove the **leading and trailing whitespace**"
   ]
  },
  {
   "cell_type": "markdown",
   "metadata": {},
   "source": []
  }
 ],
 "metadata": {
  "language_info": {
   "name": "python"
  },
  "orig_nbformat": 4
 },
 "nbformat": 4,
 "nbformat_minor": 2
}
