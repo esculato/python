{
 "cells": [
  {
   "cell_type": "code",
   "execution_count": 27,
   "metadata": {},
   "outputs": [
    {
     "name": "stdout",
     "output_type": "stream",
     "text": [
      "1 2\n",
      "true\n"
     ]
    }
   ],
   "source": [
    "#1\n",
    "number1 = 1\n",
    "number2 = 2\n",
    "\n",
    "print(number1, number2)\n",
    "\n",
    "if number1 > number2 or number1 < number2:\n",
    "    print(\"true\")\n",
    "else:\n",
    "    print(\"false\")\n"
   ]
  },
  {
   "cell_type": "code",
   "execution_count": 32,
   "metadata": {},
   "outputs": [
    {
     "name": "stdout",
     "output_type": "stream",
     "text": [
      "palindrome!\n"
     ]
    }
   ],
   "source": [
    "#2 Palindrome\n",
    "\n",
    "text = \"tet\"\n",
    "\n",
    "if text == text[::-1]:\n",
    "    print(\"palindrome!\")\n",
    "else:\n",
    "    print(\"nope\")"
   ]
  },
  {
   "cell_type": "code",
   "execution_count": 50,
   "metadata": {},
   "outputs": [
    {
     "name": "stdout",
     "output_type": "stream",
     "text": [
      "correct\n",
      "NDO\n"
     ]
    }
   ],
   "source": [
    "#3 \n",
    "\n",
    "text = \"NDO test.csv\"\n",
    "\n",
    "if text[:3] == \"NDO\" and text[-4:] == \".csv\":\n",
    "    print(\"correct\")\n",
    "else:\n",
    "    print(\"incorrect\")\n"
   ]
  },
  {
   "cell_type": "code",
   "execution_count": 64,
   "metadata": {},
   "outputs": [
    {
     "name": "stdout",
     "output_type": "stream",
     "text": [
      "incorrect\n"
     ]
    }
   ],
   "source": [
    "#4\n",
    "\n",
    "text = \"letters\"\n",
    "\n",
    "if len(text) == 1:\n",
    "    print(\"correct\")\n",
    "else:\n",
    "    print(\"incorrect\")"
   ]
  },
  {
   "cell_type": "code",
   "execution_count": 66,
   "metadata": {},
   "outputs": [
    {
     "name": "stdout",
     "output_type": "stream",
     "text": [
      "            Pythong for NDO Workshop      \n",
      "Pythong for NDO Workshop\n"
     ]
    }
   ],
   "source": [
    "string = \"            Pythong for NDO Workshop      \"\n",
    "\n",
    "print(string)\n",
    "print(string.strip())"
   ]
  },
  {
   "cell_type": "markdown",
   "metadata": {},
   "source": [
    "### Excersises\n",
    "\n",
    "1. Enter two numbers on the screen and evaluate the following conditions\n",
    "both have to be numbers and number1 must be greater than number2 or the number 2 must be even\n",
    "\n",
    "    prints the result of the expression (the result must be True or False)\n",
    "\n",
    "\n",
    "2. Creates an expression to evaluate if a word entered on the screen is a palindrome\n",
    "hint: to reverse a text string you can do this: string[::-1]\n",
    "\n",
    "3. Create an expression to evaluate if a word entered on the screen **ends with** '.csv' and **starts with** 'NDO'\n",
    "\n",
    "4. Create an expression to evaluate if a word entered on the scrren has at least one letter\n",
    "\n",
    "5. Given this text string <pre>\"         Python for NDO Workshop   \"</pre> how can you remove the **leading and trailing whitespace**"
   ]
  },
  {
   "cell_type": "markdown",
   "metadata": {},
   "source": []
  }
 ],
 "metadata": {
  "kernelspec": {
   "display_name": "Python 3",
   "language": "python",
   "name": "python3"
  },
  "language_info": {
   "codemirror_mode": {
    "name": "ipython",
    "version": 3
   },
   "file_extension": ".py",
   "mimetype": "text/x-python",
   "name": "python",
   "nbconvert_exporter": "python",
   "pygments_lexer": "ipython3",
   "version": "3.11.0"
  },
  "orig_nbformat": 4
 },
 "nbformat": 4,
 "nbformat_minor": 2
}
