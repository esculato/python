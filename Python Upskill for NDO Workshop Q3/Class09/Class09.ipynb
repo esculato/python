{
 "cells": [
  {
   "cell_type": "markdown",
   "id": "5290c9b4-c4a1-4b00-a503-dd7555fb9d45",
   "metadata": {
    "tags": []
   },
   "source": [
    "# What is OOP (Object Oriented Programming)?\n",
    "- OOP is a paradigm based on the concept of wrapping blocks of information and their related behavior in special lots called **objects**, which are built from a set of _plans_ defined by a programmer, which are called **classes**.\n",
    "- We can understand OOP as a special form of programming very close to how we can **express real life things** that allows us to design better applications, reaching a high level of complexity without the code becoming unmanageable.\n",
    "\n",
    "# What is a **Class** and **Object**?\n",
    "\n",
    "- We can understand a **Class** as a model that represents something of reality, for example a car.\n",
    "- A class has **attributes** (characteristics) and **methods** (behavior).\n",
    "\n",
    "<img src=\"images/diagrama_carro.jpg\"/>\n",
    "\n",
    "- We can understand an **Object** as the unit resulting from the use of a Class\n",
    "\n",
    "<img src=\"images/carros.jpg\"/>"
   ]
  },
  {
   "cell_type": "markdown",
   "id": "5daae100-8f2c-4b68-a5ae-6318716bacea",
   "metadata": {},
   "source": [
    "# Fundamental concepts\n",
    "\n",
    "- OOP has 4 pillars\n",
    "    - Abstraction\n",
    "    - Inheritance\n",
    "    - Encapsulation\n",
    "    - Polymorphism"
   ]
  },
  {
   "cell_type": "markdown",
   "id": "b80cee6e-f881-42eb-b96c-d2036a2f446d",
   "metadata": {},
   "source": [
    "## Abstraction\n",
    "\n",
    "- The **Abstraction** is the model of an _object or real world phenomenon_ limited to a specific context that represents all the relevant information for that context ignoring the rest.\n",
    "\n",
    "- For example an airplane, in a flight simulator different variables are considered than for a flight reservation system.\n",
    "\n",
    "<img src=\"images/avion.png\" />"
   ]
  },
  {
   "cell_type": "code",
   "execution_count": 1,
   "id": "8ccc890b-cc30-433e-9d10-e7a526fd3cc7",
   "metadata": {},
   "outputs": [],
   "source": [
    "class Airplane:\n",
    "    speed = 0\n",
    "    altitude = 10\n",
    "    roll_angle = 90"
   ]
  },
  {
   "cell_type": "code",
   "execution_count": 2,
   "id": "1125e868-d669-4191-99e2-9a84a37ecc95",
   "metadata": {},
   "outputs": [],
   "source": [
    "airplane = Airplane()"
   ]
  },
  {
   "cell_type": "code",
   "execution_count": 3,
   "id": "d56f3c4a-35e6-4d9e-b0ac-170cf58c0263",
   "metadata": {},
   "outputs": [
    {
     "data": {
      "text/plain": [
       "10"
      ]
     },
     "execution_count": 3,
     "metadata": {},
     "output_type": "execute_result"
    }
   ],
   "source": [
    "airplane.speed\n",
    "airplane.altitude"
   ]
  },
  {
   "cell_type": "code",
   "execution_count": 4,
   "id": "17a0b184-a8cd-47c0-b210-758ae1d0f019",
   "metadata": {},
   "outputs": [],
   "source": [
    "airplane.roll_angle = 95"
   ]
  },
  {
   "cell_type": "code",
   "execution_count": 5,
   "id": "a7d6cbbc-b3ea-4e2c-93d2-263d9cc80c42",
   "metadata": {},
   "outputs": [
    {
     "data": {
      "text/plain": [
       "95"
      ]
     },
     "execution_count": 5,
     "metadata": {},
     "output_type": "execute_result"
    }
   ],
   "source": [
    "airplane.roll_angle"
   ]
  },
  {
   "cell_type": "markdown",
   "id": "2fb8f6b3",
   "metadata": {},
   "source": [
    "## Constructor Class"
   ]
  },
  {
   "cell_type": "code",
   "execution_count": 11,
   "id": "14ab3f9c-bf69-47d1-a702-047f8ab48e8d",
   "metadata": {},
   "outputs": [],
   "source": [
    "class Airplane:\n",
    "    \n",
    "    def __init__(self, speed, altitude, roll_angle, pitch_angle, yaw_angle): #constructor de clase\n",
    "        self.speed = speed\n",
    "        self.altitude = altitude\n",
    "        self.roll_angle = roll_angle\n",
    "        self.pitch_angle = pitch_angle\n",
    "        self.yaw_angle = yaw_angle\n",
    "    \n",
    "    def fly(self):\n",
    "        print(f\"I'm fliying at {self.altitude} m.a.s.l.\")"
   ]
  },
  {
   "cell_type": "code",
   "execution_count": 12,
   "id": "2a146e0d-8cc5-4184-aaaa-a1e2be7b54c2",
   "metadata": {},
   "outputs": [],
   "source": [
    "airplane = Airplane(speed = 100, altitude = 5000, roll_angle = 0, pitch_angle = 0, yaw_angle = 0)"
   ]
  },
  {
   "cell_type": "code",
   "execution_count": 13,
   "id": "ce215b70-b75c-432a-a8fb-63e75d413ca7",
   "metadata": {},
   "outputs": [
    {
     "name": "stdout",
     "output_type": "stream",
     "text": [
      "I'm fliying at 5000 m.a.s.l.\n"
     ]
    }
   ],
   "source": [
    "airplane.fly()"
   ]
  },
  {
   "cell_type": "code",
   "execution_count": 14,
   "id": "fe45a18b-cd47-4fb2-896b-12b7584c7fd2",
   "metadata": {},
   "outputs": [
    {
     "name": "stdout",
     "output_type": "stream",
     "text": [
      "I'm fliying at 7000 m.a.s.l.\n"
     ]
    }
   ],
   "source": [
    "airplane2 = Airplane(speed = 150, altitude = 7000, roll_angle = 10, pitch_angle = 15, yaw_angle = 0)\n",
    "airplane2.fly()"
   ]
  },
  {
   "cell_type": "code",
   "execution_count": 15,
   "id": "e88e192b-6fe4-428b-98ba-130bfc5690f1",
   "metadata": {},
   "outputs": [],
   "source": [
    "class Cat:\n",
    "    \n",
    "    def __init__(self, name, weight, color):\n",
    "        self.name = name\n",
    "        self.weight = weight\n",
    "        self.color = color\n",
    "        \n",
    "    def onomatopoeia(self):\n",
    "        print(\"Miau!!!\")\n",
    "    \n",
    "    def salute(self):\n",
    "        print(f\"Hello I'm {self.name} the cat\")\n",
    "        self.onomatopoeia()\n",
    "    \n",
    "    #overloading\n",
    "    def __str__(self):\n",
    "        return f\"\"\"Name: {self.name}\n",
    "Weight: {self.weight}\n",
    "Color: {self.color}\"\"\""
   ]
  },
  {
   "cell_type": "code",
   "execution_count": 17,
   "id": "fbe82802-c4da-4891-8b5b-27deefcca4a7",
   "metadata": {},
   "outputs": [],
   "source": [
    "blanquito = Cat(name = \"blanquito\", weight = 3, color = \"white\")\n",
    "gato = Cat(name = \"gato\", weight = 4, color = \"black\") #instantiating objects"
   ]
  },
  {
   "cell_type": "code",
   "execution_count": 18,
   "id": "3d30fa2a-d988-49dc-843e-f8a2d5c2f851",
   "metadata": {},
   "outputs": [
    {
     "name": "stdout",
     "output_type": "stream",
     "text": [
      "Name: blanquito\n",
      "Weight: 3\n",
      "Color: white\n",
      "Name: gato\n",
      "Weight: 4\n",
      "Color: black\n"
     ]
    }
   ],
   "source": [
    "print(blanquito)\n",
    "print(gato)"
   ]
  },
  {
   "cell_type": "code",
   "execution_count": 19,
   "id": "b1c83bed-78df-4485-86e9-b807dbab0d15",
   "metadata": {},
   "outputs": [
    {
     "name": "stdout",
     "output_type": "stream",
     "text": [
      "Hello I'm blanquito the cat\n",
      "Miau!!!\n"
     ]
    }
   ],
   "source": [
    "blanquito.salute()"
   ]
  },
  {
   "cell_type": "markdown",
   "id": "3fa86412-6bcf-4fbc-846a-1b2fc6ec51f3",
   "metadata": {},
   "source": [
    "## Inheritance\n",
    "\n",
    "- Inheritance is the ability to create new classes on top of existing classes."
   ]
  },
  {
   "cell_type": "code",
   "execution_count": 48,
   "id": "0459f973-aed1-4e62-b0d0-1700db493cc0",
   "metadata": {},
   "outputs": [],
   "source": [
    "class Animal:\n",
    "    \n",
    "    def __init__(self, name, weight, color):\n",
    "        self.name = name\n",
    "        self.weight = weight\n",
    "        self.color = color\n",
    "    \n",
    "    def onomatopoeia(self):\n",
    "        print(\"*Animalistic noises*\")\n",
    "    \n",
    "    def salute(self):\n",
    "        print(f\"Hello I'm {self.name}\")\n",
    "    "
   ]
  },
  {
   "cell_type": "code",
   "execution_count": 49,
   "id": "87c37264-f128-47a0-9a49-491712aea30a",
   "metadata": {},
   "outputs": [],
   "source": [
    "class Cat(Animal):\n",
    "    \n",
    "    def __init__(self, name, weight, sex, color):\n",
    "        self.name = name\n",
    "        self.weight = weight\n",
    "        self.sex = sex\n",
    "        self.color = color\n",
    "    \n",
    "    def salute(self):\n",
    "        print(f\"Hello I'm {self.name} Miau!!!\")\n",
    "\n",
    "class Dog(Animal):\n",
    "    \n",
    "    def __init__(self, name, weight, sex, color):\n",
    "        self.name = name\n",
    "        self.weight = weight\n",
    "        self.sex = sex\n",
    "        self.color = color\n",
    "    \n",
    "    def salute(self):\n",
    "        print(f\"Hello I'm {self.name} Guau!!!\")\n",
    "       \n",
    "    "
   ]
  },
  {
   "cell_type": "code",
   "execution_count": 50,
   "id": "73a72f1a-850d-4044-8575-91c2e4ac3758",
   "metadata": {},
   "outputs": [],
   "source": [
    "blanquito = Cat(name = \"blanquito\", weight = 3, color = \"blanco\", sex = \"male\")"
   ]
  },
  {
   "cell_type": "code",
   "execution_count": 51,
   "id": "d77e70b6-7b4a-4d78-9ef8-a46a19c07a68",
   "metadata": {},
   "outputs": [
    {
     "name": "stdout",
     "output_type": "stream",
     "text": [
      "Hello I'm blanquito Miau!!!\n"
     ]
    }
   ],
   "source": [
    "blanquito.salute()"
   ]
  },
  {
   "cell_type": "code",
   "execution_count": 52,
   "id": "80c0c8e3-10db-425b-9ad0-eb2ea48b75e8",
   "metadata": {},
   "outputs": [
    {
     "name": "stdout",
     "output_type": "stream",
     "text": [
      "*Animalistic noises*\n"
     ]
    }
   ],
   "source": [
    "blanquito.onomatopoeia()"
   ]
  },
  {
   "cell_type": "code",
   "execution_count": 53,
   "id": "ba02f9cd-9efd-43b5-acbb-503165ac1a0c",
   "metadata": {},
   "outputs": [],
   "source": [
    "class Cat(Animal):\n",
    "    \n",
    "    def __init__(self, name, weight, sex, color):\n",
    "        Animal.__init__(self,name, weight,color)\n",
    "        self.sex = sex\n",
    "    \n",
    "    def salute(self):\n",
    "        print(f\"Hello I'm {self.name} Miau!!!\")\n",
    "\n",
    "class Dog(Animal):\n",
    "    \n",
    "    def __init__(self, name, weight, sex, color):\n",
    "        super().__init__(self,name, weight,color)\n",
    "        self.sex = sex\n",
    "    \n",
    "    def salute(self):\n",
    "        print(f\"Hello I'm {self.name} Guau!!!\")\n",
    "           "
   ]
  },
  {
   "cell_type": "code",
   "execution_count": 54,
   "id": "faf12321-78f3-46e7-89bc-414557973667",
   "metadata": {},
   "outputs": [],
   "source": [
    "blanquito = Cat(name = \"blanquito\", weight = 3, color = \"blanco\", sex = \"male\")"
   ]
  },
  {
   "cell_type": "code",
   "execution_count": 55,
   "id": "e62ddf3f-f7e1-4e3e-8d07-ff3ac25aa2bf",
   "metadata": {},
   "outputs": [
    {
     "name": "stdout",
     "output_type": "stream",
     "text": [
      "*Animalistic noises*\n"
     ]
    }
   ],
   "source": [
    "blanquito.onomatopoeia()"
   ]
  },
  {
   "cell_type": "markdown",
   "id": "8c080d59-ab41-4626-9263-ab38788c6296",
   "metadata": {},
   "source": [
    "## Encapsulation\n",
    "\n",
    "- Is the ability of an object to hide a part of its state and behavior from other objects by exposing only a limited interface to the rest of the program.\n",
    "- To encapsulate something means to make it _private_ and therefore accessible only by the methods of its own class."
   ]
  },
  {
   "cell_type": "code",
   "execution_count": 56,
   "id": "95caa03b-2910-47e1-a85d-24afafdbd3bb",
   "metadata": {},
   "outputs": [],
   "source": [
    "class Rabbit(Animal):\n",
    "    __secret_name = \"Bad Bunny\"\n",
    "    owner = \"Juan\"\n",
    "    \n",
    "    def __init__(self, name, weight, sex, color):\n",
    "        super().__init__(name, weight, color)\n",
    "        self.sex = sex\n",
    "    \n",
    "    def __secret_method(self):\n",
    "        print(\"This is my encapsulated method\")\n",
    "        \n",
    "    def interface(self):\n",
    "        print(f\"The secret name is: {self.__secret_name}\")\n",
    "        self.__secret_method()\n",
    "    \n",
    "    def salute(self):\n",
    "        print(f\"Hello I'm {self.name} *noise in rabbit*\")"
   ]
  },
  {
   "cell_type": "code",
   "execution_count": 57,
   "id": "9e9c55b8-52c0-4d3c-b9a0-4d22652635c9",
   "metadata": {},
   "outputs": [],
   "source": [
    "rabbit = Rabbit(name = \"bunny\", weight = 2, sex = \"female\", color = \"brown\")"
   ]
  },
  {
   "cell_type": "code",
   "execution_count": 58,
   "id": "5f991755-a9b7-4618-8eb1-97283f09db43",
   "metadata": {
    "collapsed": true,
    "jupyter": {
     "outputs_hidden": true
    },
    "tags": []
   },
   "outputs": [
    {
     "ename": "AttributeError",
     "evalue": "'Rabbit' object has no attribute '__secret_method'",
     "output_type": "error",
     "traceback": [
      "\u001b[1;31m---------------------------------------------------------------------------\u001b[0m",
      "\u001b[1;31mAttributeError\u001b[0m                            Traceback (most recent call last)",
      "\u001b[1;32mc:\\Users\\ereuanp\\Ericsson\\Python for NDO Upskill workshop - W3 - Python Upskill for NDO Workshop\\G1\\Class09\\Class09.ipynb Celda 30\u001b[0m line \u001b[0;36m1\n\u001b[1;32m----> <a href='vscode-notebook-cell:/c%3A/Users/ereuanp/Ericsson/Python%20for%20NDO%20Upskill%20workshop%20-%20W3%20-%20Python%20Upskill%20for%20NDO%20Workshop/G1/Class09/Class09.ipynb#X40sZmlsZQ%3D%3D?line=0'>1</a>\u001b[0m rabbit\u001b[39m.\u001b[39;49m__secret_method()\n",
      "\u001b[1;31mAttributeError\u001b[0m: 'Rabbit' object has no attribute '__secret_method'"
     ]
    }
   ],
   "source": [
    "rabbit.__secret_method()"
   ]
  },
  {
   "cell_type": "code",
   "execution_count": 59,
   "id": "0a77da45-8c09-4f73-a8ec-4ee9885c0b92",
   "metadata": {},
   "outputs": [
    {
     "name": "stdout",
     "output_type": "stream",
     "text": [
      "The secret name is: Bad Bunny\n",
      "This is my encapsulated method\n"
     ]
    }
   ],
   "source": [
    "rabbit.interface()"
   ]
  },
  {
   "cell_type": "markdown",
   "id": "3b9d3588-32c9-4648-b234-e6ac95d7d5d6",
   "metadata": {},
   "source": [
    "## Polymorphism\n",
    "- It is the ability of a program to detect the true class of an object and invoke its implementation, even if its real type is unknown in the current connection.\n",
    "- Python is polymorphic by default"
   ]
  },
  {
   "cell_type": "code",
   "execution_count": 60,
   "id": "d434cc42-2a7e-4680-8202-448008140b11",
   "metadata": {},
   "outputs": [
    {
     "name": "stdout",
     "output_type": "stream",
     "text": [
      "Hello I'm blanquito Miau!!!\n",
      "Hello I'm bunny *noise in rabbit*\n"
     ]
    }
   ],
   "source": [
    "bag = [blanquito, rabbit]\n",
    "\n",
    "for animal in bag:\n",
    "    animal.salute()"
   ]
  },
  {
   "cell_type": "markdown",
   "id": "023bf7d0-8fcf-4ed8-84b0-44c39e3561bc",
   "metadata": {},
   "source": [
    "## Overloading\n",
    "\n",
    "- It allows us to redefine the behavior of some operators supported by the language.\n",
    "\n",
    "<img src=\"images/overloading1.webp\" />\n",
    "<img src=\"images/overloadint2.webp\" />"
   ]
  },
  {
   "cell_type": "markdown",
   "id": "1e8e45c9-4e3f-4bbf-83bd-9f1f76ab5205",
   "metadata": {},
   "source": [
    "# Creating a Vector"
   ]
  },
  {
   "cell_type": "code",
   "execution_count": 61,
   "id": "dd384288-531a-490d-a114-cd9f6b63d389",
   "metadata": {},
   "outputs": [],
   "source": [
    "class Vector(object):\n",
    "    \n",
    "    def __init__(self,x, y, z):\n",
    "        \n",
    "        self.x = x\n",
    "        self.y = y\n",
    "        self.z = z\n",
    "    def __add__(self,vector):\n",
    "        x = self.x + vector.x\n",
    "        y = self.y + vector.y\n",
    "        z = self.z + vector.z\n",
    "        return Vector(x, y, z)\n",
    "    \n",
    "    def __sub__(self,vector):\n",
    "        x = self.x - vector.x\n",
    "        y = self.y - vector.y\n",
    "        z = self.z - vector.z\n",
    "        return Vector(x, y, z)\n",
    "    \n",
    "    def __str__(self):\n",
    "        return f\"({self.x},{self.y},{self.z})\"\n",
    "    \n",
    "    def __repr__(self):\n",
    "        return f\"({self.x},{self.y},{self.z})\"\n",
    "    \n",
    "    "
   ]
  },
  {
   "cell_type": "code",
   "execution_count": 62,
   "id": "54cc1072-b6a0-47ed-ba97-89be657bb006",
   "metadata": {},
   "outputs": [],
   "source": [
    "v1 = Vector(0,0,5)\n",
    "v2 = Vector(1,-1,1)"
   ]
  },
  {
   "cell_type": "code",
   "execution_count": null,
   "id": "895ab7b7-7d12-465d-8f82-dfeed2679c04",
   "metadata": {},
   "outputs": [],
   "source": [
    "print(v1 + v2)"
   ]
  },
  {
   "cell_type": "code",
   "execution_count": 64,
   "id": "692241e7-cecb-4ebd-80a2-eea78ff7ce71",
   "metadata": {},
   "outputs": [
    {
     "data": {
      "text/plain": [
       "(-1,1,4)"
      ]
     },
     "execution_count": 64,
     "metadata": {},
     "output_type": "execute_result"
    }
   ],
   "source": [
    "v1 - v2"
   ]
  },
  {
   "cell_type": "code",
   "execution_count": 65,
   "id": "c20ea8d1-0e43-4ddf-b9b6-d75a6c2b20a2",
   "metadata": {},
   "outputs": [
    {
     "data": {
      "text/plain": [
       "object"
      ]
     },
     "execution_count": 65,
     "metadata": {},
     "output_type": "execute_result"
    }
   ],
   "source": [
    "object"
   ]
  },
  {
   "cell_type": "code",
   "execution_count": 66,
   "id": "abe9a770-cdf1-40c5-a36a-45be0753baf5",
   "metadata": {},
   "outputs": [
    {
     "data": {
      "text/plain": [
       "['__class__',\n",
       " '__delattr__',\n",
       " '__dir__',\n",
       " '__doc__',\n",
       " '__eq__',\n",
       " '__format__',\n",
       " '__ge__',\n",
       " '__getattribute__',\n",
       " '__gt__',\n",
       " '__hash__',\n",
       " '__init__',\n",
       " '__init_subclass__',\n",
       " '__le__',\n",
       " '__lt__',\n",
       " '__ne__',\n",
       " '__new__',\n",
       " '__reduce__',\n",
       " '__reduce_ex__',\n",
       " '__repr__',\n",
       " '__setattr__',\n",
       " '__sizeof__',\n",
       " '__str__',\n",
       " '__subclasshook__']"
      ]
     },
     "execution_count": 66,
     "metadata": {},
     "output_type": "execute_result"
    }
   ],
   "source": [
    "dir(object)"
   ]
  },
  {
   "cell_type": "code",
   "execution_count": 76,
   "id": "6b7dfb15-631b-402e-bad4-8c00edd84e12",
   "metadata": {},
   "outputs": [
    {
     "name": "stdout",
     "output_type": "stream",
     "text": [
      "<class 'float'>\n"
     ]
    }
   ],
   "source": [
    "print(type(1.5))"
   ]
  },
  {
   "cell_type": "code",
   "execution_count": null,
   "id": "96a7f2e9-070f-45b8-b4ca-58ca6bd8305e",
   "metadata": {},
   "outputs": [],
   "source": []
  }
 ],
 "metadata": {
  "kernelspec": {
   "display_name": "Python 3 (ipykernel)",
   "language": "python",
   "name": "python3"
  },
  "language_info": {
   "codemirror_mode": {
    "name": "ipython",
    "version": 3
   },
   "file_extension": ".py",
   "mimetype": "text/x-python",
   "name": "python",
   "nbconvert_exporter": "python",
   "pygments_lexer": "ipython3",
   "version": "3.9.13"
  }
 },
 "nbformat": 4,
 "nbformat_minor": 5
}
