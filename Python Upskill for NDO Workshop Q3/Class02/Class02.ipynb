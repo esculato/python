{
  "cells": [
    {
      "cell_type": "markdown",
      "metadata": {
        "id": "1Sr3w4oSZeUH"
      },
      "source": [
        "# Data Collections\n",
        "\n",
        "- Lists\n",
        "- Tuples\n",
        "- Dicctionaries\n",
        "- Sets\n",
        "\n"
      ]
    },
    {
      "cell_type": "markdown",
      "metadata": {
        "id": "U0XbLp84aLFH"
      },
      "source": [
        "### Lists\n",
        "\n",
        "- are mutables\n",
        "- They can contain any type of data\n",
        "- They are defined with square brackets **[ ]**\n",
        "\n",
        "```\n",
        "list1 = [1,2,3]\n",
        "list2 = [\"Hello\",True]\n",
        "```\n"
      ]
    },
    {
      "cell_type": "code",
      "execution_count": 2,
      "metadata": {
        "colab": {
          "base_uri": "https://localhost:8080/"
        },
        "id": "A9CYE7aKZlWk",
        "outputId": "f70fd062-a979-4c2b-f962-68f1608ca46c"
      },
      "outputs": [
        {
          "name": "stdout",
          "output_type": "stream",
          "text": [
            "['Hello', True, [1, 2, 3, 5]]\n"
          ]
        }
      ],
      "source": [
        "list1 = [1,2,3,5]\n",
        "list2 = [\"Hello\",True,list1]\n",
        "print(list2)"
      ]
    },
    {
      "cell_type": "code",
      "execution_count": 3,
      "metadata": {
        "id": "69VPs0jEbBSD"
      },
      "outputs": [],
      "source": [
        "list2.append(\"Hello\")"
      ]
    },
    {
      "cell_type": "code",
      "execution_count": 4,
      "metadata": {
        "colab": {
          "base_uri": "https://localhost:8080/"
        },
        "id": "_Azg8FFucDN7",
        "outputId": "3c27676b-4d40-48a5-a781-eb5ce740ddc6"
      },
      "outputs": [
        {
          "name": "stdout",
          "output_type": "stream",
          "text": [
            "['Hello', True, [1, 2, 3, 5], 'Hello']\n"
          ]
        }
      ],
      "source": [
        "print(list2)"
      ]
    },
    {
      "cell_type": "code",
      "execution_count": 5,
      "metadata": {
        "id": "fnQ5esjPxU2p"
      },
      "outputs": [
        {
          "data": {
            "text/plain": [
              "['__add__',\n",
              " '__class__',\n",
              " '__class_getitem__',\n",
              " '__contains__',\n",
              " '__delattr__',\n",
              " '__delitem__',\n",
              " '__dir__',\n",
              " '__doc__',\n",
              " '__eq__',\n",
              " '__format__',\n",
              " '__ge__',\n",
              " '__getattribute__',\n",
              " '__getitem__',\n",
              " '__gt__',\n",
              " '__hash__',\n",
              " '__iadd__',\n",
              " '__imul__',\n",
              " '__init__',\n",
              " '__init_subclass__',\n",
              " '__iter__',\n",
              " '__le__',\n",
              " '__len__',\n",
              " '__lt__',\n",
              " '__mul__',\n",
              " '__ne__',\n",
              " '__new__',\n",
              " '__reduce__',\n",
              " '__reduce_ex__',\n",
              " '__repr__',\n",
              " '__reversed__',\n",
              " '__rmul__',\n",
              " '__setattr__',\n",
              " '__setitem__',\n",
              " '__sizeof__',\n",
              " '__str__',\n",
              " '__subclasshook__',\n",
              " 'append',\n",
              " 'clear',\n",
              " 'copy',\n",
              " 'count',\n",
              " 'extend',\n",
              " 'index',\n",
              " 'insert',\n",
              " 'pop',\n",
              " 'remove',\n",
              " 'reverse',\n",
              " 'sort']"
            ]
          },
          "execution_count": 5,
          "metadata": {},
          "output_type": "execute_result"
        }
      ],
      "source": [
        "dir(list2)"
      ]
    },
    {
      "cell_type": "markdown",
      "metadata": {
        "id": "dYGVkR39cnfH"
      },
      "source": [
        "### Indexation (positive)\n",
        "\n",
        "The index of the arrays is initialized to _0_\n",
        "```\n",
        "Array :  [1,2,3,4]\n",
        "          ? ? ? ?\n",
        "Index :   0 1 2 3\n",
        "```\n",
        "\n"
      ]
    },
    {
      "cell_type": "code",
      "execution_count": 8,
      "metadata": {
        "colab": {
          "base_uri": "https://localhost:8080/"
        },
        "id": "lw_aUL5wcEwx",
        "outputId": "e3cbfb18-fff2-4be1-e578-b60bf70c2c99"
      },
      "outputs": [
        {
          "name": "stdout",
          "output_type": "stream",
          "text": [
            "Hola\n",
            "True\n",
            "1\n"
          ]
        }
      ],
      "source": [
        "print(list2[0])\n",
        "print(list2[1])\n",
        "print(list2[2][0])"
      ]
    },
    {
      "cell_type": "markdown",
      "metadata": {
        "id": "pnPt6xxodTsB"
      },
      "source": [
        "### Indexation (negative)\n",
        "\n",
        "The index of the arrays ends in _-1_\n",
        "```\n",
        "Array :  [1, 2, 3, 4]\n",
        "          ?  ?  ?  ?\n",
        "Index :  -4 -3 -2 -1\n",
        "```\n"
      ]
    },
    {
      "cell_type": "code",
      "execution_count": 6,
      "metadata": {
        "colab": {
          "base_uri": "https://localhost:8080/"
        },
        "id": "SsgF4P05cktu",
        "outputId": "cea2706f-fe55-4ac0-cf33-93cd8420f1de"
      },
      "outputs": [
        {
          "name": "stdout",
          "output_type": "stream",
          "text": [
            "Hello\n",
            "5\n",
            "True\n"
          ]
        }
      ],
      "source": [
        "print(list2[-1])\n",
        "print(list2[-2][-1])\n",
        "print(list2[-3])"
      ]
    },
    {
      "cell_type": "code",
      "execution_count": 7,
      "metadata": {
        "colab": {
          "base_uri": "https://localhost:8080/"
        },
        "id": "aND5gOmwzD1Z",
        "outputId": "67b3e480-ee39-494c-c2a2-61577258c485"
      },
      "outputs": [
        {
          "data": {
            "text/plain": [
              "4"
            ]
          },
          "execution_count": 7,
          "metadata": {},
          "output_type": "execute_result"
        }
      ],
      "source": [
        "len(list1)"
      ]
    },
    {
      "cell_type": "code",
      "execution_count": 8,
      "metadata": {
        "colab": {
          "base_uri": "https://localhost:8080/",
          "height": 166
        },
        "id": "tZdxlY-DzOEL",
        "outputId": "dc7d6225-23d5-4473-9e0d-f92fde783d6b"
      },
      "outputs": [
        {
          "ename": "IndexError",
          "evalue": "list index out of range",
          "output_type": "error",
          "traceback": [
            "\u001b[1;31m---------------------------------------------------------------------------\u001b[0m",
            "\u001b[1;31mIndexError\u001b[0m                                Traceback (most recent call last)",
            "Cell \u001b[1;32mIn[8], line 1\u001b[0m\n\u001b[1;32m----> 1\u001b[0m list1[\u001b[39m4\u001b[39;49m]\n",
            "\u001b[1;31mIndexError\u001b[0m: list index out of range"
          ]
        }
      ],
      "source": [
        "list1[4]"
      ]
    },
    {
      "cell_type": "markdown",
      "metadata": {
        "id": "B6S8eToneEsf"
      },
      "source": [
        "### Slicing \n",
        "\n",
        "- It is the way we use to obtain a section of the array\n",
        "\n",
        "$ array[start: end + 1: step] $ \\\n",
        "$ start=0(default) $ \\\n",
        "$ step=1(default) $ \\\n"
      ]
    },
    {
      "cell_type": "markdown",
      "metadata": {
        "id": "9mAnBKbsfovp"
      },
      "source": [
        "```\n",
        "Array :  [1, 2, 3, 4, 5, 6, 7, 8, 9, 10]\n",
        "          ?  ?  ?  ?  ?  ?  ?  ?  ?  ?\n",
        "Index :   0  1  2  3  4  5  6  7  8   9\n",
        "```"
      ]
    },
    {
      "cell_type": "code",
      "execution_count": 9,
      "metadata": {
        "colab": {
          "base_uri": "https://localhost:8080/"
        },
        "id": "C-bouZFHdrpn",
        "outputId": "d657d1f6-07b2-446d-9a36-946bb7fe1345"
      },
      "outputs": [
        {
          "name": "stdout",
          "output_type": "stream",
          "text": [
            "[1, 2, 3]\n",
            "[3, 4, 5, 6]\n",
            "[8, 9, 10]\n"
          ]
        }
      ],
      "source": [
        "list1 = [1,2,3,4,5,6,7,8,9,10]\n",
        "print(list1[0:3])\n",
        "print(list1[2:6])\n",
        "print(list1[7:10])"
      ]
    },
    {
      "cell_type": "code",
      "execution_count": 10,
      "metadata": {
        "colab": {
          "base_uri": "https://localhost:8080/"
        },
        "id": "641xzg8Bgj_y",
        "outputId": "0aa25578-3842-48b8-84d4-bd739ce7c6af"
      },
      "outputs": [
        {
          "name": "stdout",
          "output_type": "stream",
          "text": [
            "[1, 3]\n",
            "[3, 6]\n"
          ]
        }
      ],
      "source": [
        "list1 = [1,2,3,4,5,6,7,8,9,10]\n",
        "print(list1[:3:2])\n",
        "print(list1[2:6:3])"
      ]
    },
    {
      "cell_type": "markdown",
      "metadata": {
        "id": "poqenGy6gGrB"
      },
      "source": [
        "```\n",
        "Array :  [1,  2,  3,  4,  5,  6,  7,  8,  9,  10]\n",
        "          ?   ?   ?   ?   ?   ?   ?   ?   ?   ?\n",
        "Index :  -10 -9  -8  -7  -6  -5   -4  -3  -2  -1\n",
        "```"
      ]
    },
    {
      "cell_type": "code",
      "execution_count": 11,
      "metadata": {
        "colab": {
          "base_uri": "https://localhost:8080/"
        },
        "id": "KhV7nXqrfZe5",
        "outputId": "357886d1-1364-4b2f-aba2-725e9df9d6d5"
      },
      "outputs": [
        {
          "name": "stdout",
          "output_type": "stream",
          "text": [
            "[8, 9, 10]\n",
            "[3, 4, 5, 6]\n"
          ]
        }
      ],
      "source": [
        "list1 = [1,2,3,4,5,6,7,8,9,10]\n",
        "print(list1[-3:])\n",
        "print(list1[-8:-4])"
      ]
    },
    {
      "cell_type": "code",
      "execution_count": 12,
      "metadata": {
        "colab": {
          "base_uri": "https://localhost:8080/"
        },
        "id": "SF6OezRWffEZ",
        "outputId": "8af66cd1-7bd2-48be-bbe0-579b8776d5ef"
      },
      "outputs": [
        {
          "name": "stdout",
          "output_type": "stream",
          "text": [
            "<class 'list'>\n"
          ]
        }
      ],
      "source": [
        "print(type(list1))"
      ]
    },
    {
      "cell_type": "code",
      "execution_count": 13,
      "metadata": {
        "colab": {
          "base_uri": "https://localhost:8080/"
        },
        "id": "qm55s8IT3UJC",
        "outputId": "3223397d-b7f0-4d29-bf05-5a15a147bb89"
      },
      "outputs": [
        {
          "data": {
            "text/plain": [
              "['__add__',\n",
              " '__class__',\n",
              " '__class_getitem__',\n",
              " '__contains__',\n",
              " '__delattr__',\n",
              " '__delitem__',\n",
              " '__dir__',\n",
              " '__doc__',\n",
              " '__eq__',\n",
              " '__format__',\n",
              " '__ge__',\n",
              " '__getattribute__',\n",
              " '__getitem__',\n",
              " '__gt__',\n",
              " '__hash__',\n",
              " '__iadd__',\n",
              " '__imul__',\n",
              " '__init__',\n",
              " '__init_subclass__',\n",
              " '__iter__',\n",
              " '__le__',\n",
              " '__len__',\n",
              " '__lt__',\n",
              " '__mul__',\n",
              " '__ne__',\n",
              " '__new__',\n",
              " '__reduce__',\n",
              " '__reduce_ex__',\n",
              " '__repr__',\n",
              " '__reversed__',\n",
              " '__rmul__',\n",
              " '__setattr__',\n",
              " '__setitem__',\n",
              " '__sizeof__',\n",
              " '__str__',\n",
              " '__subclasshook__',\n",
              " 'append',\n",
              " 'clear',\n",
              " 'copy',\n",
              " 'count',\n",
              " 'extend',\n",
              " 'index',\n",
              " 'insert',\n",
              " 'pop',\n",
              " 'remove',\n",
              " 'reverse',\n",
              " 'sort']"
            ]
          },
          "execution_count": 13,
          "metadata": {},
          "output_type": "execute_result"
        }
      ],
      "source": [
        "dir(list1)"
      ]
    },
    {
      "cell_type": "markdown",
      "metadata": {
        "id": "EAyzTPcKhLVJ"
      },
      "source": [
        "### Lists are passed by reference\n",
        "\n",
        "- **Pass by value:** A local copy of the variable is created within the function.\n",
        "- **Pass by reference:** The variable is handled directly, changes made within the function will also affect it outside.\n",
        "\n",
        "Traditionally:\n",
        "- **Simple types are passed by value:** Integers, floats, strings, logical...\n",
        "- **Composite types are passed by reference:** Lists, dictionaries, sets..."
      ]
    },
    {
      "cell_type": "code",
      "execution_count": 14,
      "metadata": {
        "colab": {
          "base_uri": "https://localhost:8080/"
        },
        "id": "WmW4zqU0hQWo",
        "outputId": "e2be4130-7fb3-4859-d0fd-69008dbb5b42"
      },
      "outputs": [
        {
          "name": "stdout",
          "output_type": "stream",
          "text": [
            "[1, 2, 3, 4, 5] ; [1, 2, 3, 4, 5]\n",
            "[1, 2, 3, 4, 5, 'number one'] ; [1, 2, 3, 4, 5, 'number one']\n"
          ]
        }
      ],
      "source": [
        "list2 = [1,2,3,4,5]\n",
        "list3 = list2\n",
        "print(list2, list3, sep = \" ; \")\n",
        "list3.append(\"number one\")\n",
        "print(list2, list3, sep = \" ; \")"
      ]
    },
    {
      "cell_type": "code",
      "execution_count": 16,
      "metadata": {},
      "outputs": [
        {
          "name": "stdout",
          "output_type": "stream",
          "text": [
            "1585456381248\n",
            "1585456381248\n"
          ]
        }
      ],
      "source": [
        "print(id(list2))\n",
        "print(id(list3))"
      ]
    },
    {
      "cell_type": "code",
      "execution_count": 17,
      "metadata": {
        "colab": {
          "base_uri": "https://localhost:8080/"
        },
        "id": "JUhn7lP5h69K",
        "outputId": "6c6caa73-3d85-48f0-946c-04037954e00b"
      },
      "outputs": [
        {
          "name": "stdout",
          "output_type": "stream",
          "text": [
            "[1, 2, 3, 4, 5] ; [1, 2, 3, 4, 5]\n",
            "[1, 2, 3, 4, 5] ; [1, 2, 3, 4, 5, 'numero uno']\n"
          ]
        }
      ],
      "source": [
        "list2 = [1,2,3,4,5]\n",
        "list3 = list2.copy()\n",
        "print(list2, list3, sep = \" ; \")\n",
        "list3.append(\"numero uno\")\n",
        "print(list2, list3, sep = \" ; \")"
      ]
    },
    {
      "cell_type": "code",
      "execution_count": 18,
      "metadata": {
        "colab": {
          "base_uri": "https://localhost:8080/"
        },
        "id": "Nl0v72hGiP8P",
        "outputId": "e81ac368-e320-42d9-b814-77b1616e99ec"
      },
      "outputs": [
        {
          "name": "stdout",
          "output_type": "stream",
          "text": [
            "[1, 2, 3, 4, 5, 'last value']\n"
          ]
        }
      ],
      "source": [
        "list3[-1] = \"last value\"\n",
        "print(list3)"
      ]
    },
    {
      "cell_type": "code",
      "execution_count": 19,
      "metadata": {
        "colab": {
          "base_uri": "https://localhost:8080/"
        },
        "id": "-5RGhvLLiKgT",
        "outputId": "6433e20d-de8d-454b-f8dd-7b0a228214c3"
      },
      "outputs": [
        {
          "name": "stdout",
          "output_type": "stream",
          "text": [
            "[1, 2, 3, 4, 5, 6, 7, 8, 9]\n"
          ]
        }
      ],
      "source": [
        "list4 = [1,3,5,7,9,2,4,6,8]\n",
        "list4.sort()\n",
        "print(list4)"
      ]
    },
    {
      "cell_type": "code",
      "execution_count": 20,
      "metadata": {
        "colab": {
          "base_uri": "https://localhost:8080/"
        },
        "id": "GwVxK60b5EKU",
        "outputId": "193717e2-1a43-4b86-a751-5c657863137b"
      },
      "outputs": [
        {
          "name": "stdout",
          "output_type": "stream",
          "text": [
            "[9, 8, 7, 6, 5, 4, 3, 2, 1]\n"
          ]
        }
      ],
      "source": [
        "list4.reverse()\n",
        "print(list4)"
      ]
    },
    {
      "cell_type": "markdown",
      "metadata": {
        "id": "gxQKuRymkrZE"
      },
      "source": [
        "### Tuples\n",
        "\n",
        "- They are immutable\n",
        "- Can contain any type of data\n",
        "- They are defined with parentheses **( )**\n",
        "- Like lists, it supports _slicing_ and _positive and negative indexing_"
      ]
    },
    {
      "cell_type": "code",
      "execution_count": 21,
      "metadata": {
        "colab": {
          "base_uri": "https://localhost:8080/"
        },
        "id": "aIlxfC_xidxB",
        "outputId": "a7fb3c88-f77e-4d10-bf5a-9c78d8160a78"
      },
      "outputs": [
        {
          "name": "stdout",
          "output_type": "stream",
          "text": [
            "(1, 2, 3, 4, 'String1', 'String2', [1, 2, 3, 4])\n"
          ]
        }
      ],
      "source": [
        "tupl1 = (1,2,3,4,\"String1\",\"String2\", [1,2,3,4])\n",
        "print(tupl1)"
      ]
    },
    {
      "cell_type": "code",
      "execution_count": 22,
      "metadata": {
        "colab": {
          "base_uri": "https://localhost:8080/"
        },
        "id": "ZhCqDQfC5_fE",
        "outputId": "561fbc55-0ad4-422f-8017-58adadca1486"
      },
      "outputs": [
        {
          "data": {
            "text/plain": [
              "3"
            ]
          },
          "execution_count": 22,
          "metadata": {},
          "output_type": "execute_result"
        }
      ],
      "source": [
        "tupl1[-1][2]"
      ]
    },
    {
      "cell_type": "markdown",
      "metadata": {
        "id": "crq4grizlMPT"
      },
      "source": [
        "### Dictionaries\n",
        "\n",
        "- It is built with the format _Key:Value (Hashmap)_\n",
        "- They are defined with braces **{ }**\n",
        "- The _Value_ is accessed through the _Key_\n",
        "- The _Key_ can be an integer or a text string\n",
        "- The _Value_ can be any python data type"
      ]
    },
    {
      "cell_type": "code",
      "execution_count": 23,
      "metadata": {
        "colab": {
          "base_uri": "https://localhost:8080/"
        },
        "id": "6L9kVl-GlJD_",
        "outputId": "e29063b8-8ba3-4c66-b683-40f41fadcff1"
      },
      "outputs": [
        {
          "name": "stdout",
          "output_type": "stream",
          "text": [
            "value\n"
          ]
        }
      ],
      "source": [
        "dict1 = {\"key\" : \"value\"}\n",
        "print(dict1[\"key\"])"
      ]
    },
    {
      "cell_type": "code",
      "execution_count": 24,
      "metadata": {
        "colab": {
          "base_uri": "https://localhost:8080/"
        },
        "id": "V06EojDuljOf",
        "outputId": "25c295a6-568c-4489-e9a0-e2236f942011"
      },
      "outputs": [
        {
          "name": "stdout",
          "output_type": "stream",
          "text": [
            "Peter\n"
          ]
        }
      ],
      "source": [
        "dict2 = {\"name\" : \"Peter\"}\n",
        "print(dict2[\"name\"])"
      ]
    },
    {
      "cell_type": "code",
      "execution_count": 25,
      "metadata": {
        "colab": {
          "base_uri": "https://localhost:8080/"
        },
        "id": "pZ-EqcbllnV_",
        "outputId": "818cf8cb-acee-40db-c74c-aea76562b000"
      },
      "outputs": [
        {
          "name": "stdout",
          "output_type": "stream",
          "text": [
            "Peter\n",
            "Optimization\n"
          ]
        }
      ],
      "source": [
        "dict3 = {\n",
        "    \"name\" : \"Peter\",\n",
        "    \"age\" : 30,\n",
        "    \"area\" : \"Optimization\"\n",
        "}\n",
        "print(dict3[\"name\"])\n",
        "print(dict3[\"area\"])"
      ]
    },
    {
      "cell_type": "code",
      "execution_count": 26,
      "metadata": {
        "colab": {
          "base_uri": "https://localhost:8080/"
        },
        "id": "JOKZ_Y3Xl7eQ",
        "outputId": "d9e29d25-2353-430a-af38-85947d98bf1d"
      },
      "outputs": [
        {
          "name": "stdout",
          "output_type": "stream",
          "text": [
            "Peter\n",
            "{'projects': ['project1', 'project2']}\n",
            "['project1', 'project2']\n",
            "project1\n"
          ]
        }
      ],
      "source": [
        "dict3 = {\n",
        "    \"name\" : \"Peter\",\n",
        "    \"age\" : 30,\n",
        "    \"area\" : \"Optimization\",\n",
        "    \"info\" : {\n",
        "        \"projects\" : [\n",
        "            \"project1\",\n",
        "            \"project2\"\n",
        "            ]\n",
        "    }\n",
        "}\n",
        "print(dict3[\"name\"])\n",
        "print(dict3[\"info\"])\n",
        "print(dict3[\"info\"][\"projects\"])\n",
        "print(dict3[\"info\"][\"projects\"][0])"
      ]
    },
    {
      "cell_type": "code",
      "execution_count": 27,
      "metadata": {
        "colab": {
          "base_uri": "https://localhost:8080/"
        },
        "id": "RsS8apSA7IbU",
        "outputId": "dbe4a10b-2915-41a6-8729-7cabd9bea92e"
      },
      "outputs": [
        {
          "data": {
            "text/plain": [
              "dict_keys(['name', 'age', 'area', 'info'])"
            ]
          },
          "execution_count": 27,
          "metadata": {},
          "output_type": "execute_result"
        }
      ],
      "source": [
        "dict3.keys()"
      ]
    },
    {
      "cell_type": "code",
      "execution_count": 72,
      "metadata": {
        "colab": {
          "base_uri": "https://localhost:8080/"
        },
        "id": "wI-SontD9mSI",
        "outputId": "9d5089fb-9622-413f-f54e-9428a1bd6f7f"
      },
      "outputs": [
        {
          "data": {
            "text/plain": [
              "dict_values(['Peter', 30, 'Optimizacion', {'projects': ['project1', 'project2']}])"
            ]
          },
          "execution_count": 72,
          "metadata": {},
          "output_type": "execute_result"
        }
      ],
      "source": [
        "dict3.values()"
      ]
    },
    {
      "cell_type": "code",
      "execution_count": 73,
      "metadata": {
        "colab": {
          "base_uri": "https://localhost:8080/"
        },
        "id": "tlcgFnzy9rmE",
        "outputId": "b05a5186-086b-4bf7-be07-3881ad201fbf"
      },
      "outputs": [
        {
          "data": {
            "text/plain": [
              "dict_items([('name', 'Peter'), ('age', 30), ('area', 'Optimizacion'), ('info', {'projects': ['project1', 'project2']})])"
            ]
          },
          "execution_count": 73,
          "metadata": {},
          "output_type": "execute_result"
        }
      ],
      "source": [
        "dict3.items()"
      ]
    },
    {
      "cell_type": "code",
      "execution_count": 29,
      "metadata": {},
      "outputs": [
        {
          "ename": "KeyError",
          "evalue": "'jobstage'",
          "output_type": "error",
          "traceback": [
            "\u001b[1;31m---------------------------------------------------------------------------\u001b[0m",
            "\u001b[1;31mKeyError\u001b[0m                                  Traceback (most recent call last)",
            "Cell \u001b[1;32mIn[29], line 1\u001b[0m\n\u001b[1;32m----> 1\u001b[0m dict3[\u001b[39m'\u001b[39;49m\u001b[39mjobstage\u001b[39;49m\u001b[39m'\u001b[39;49m]\n",
            "\u001b[1;31mKeyError\u001b[0m: 'jobstage'"
          ]
        }
      ],
      "source": [
        "dict3['jobstage']"
      ]
    },
    {
      "cell_type": "code",
      "execution_count": 30,
      "metadata": {},
      "outputs": [
        {
          "data": {
            "text/plain": [
              "'missing value'"
            ]
          },
          "execution_count": 30,
          "metadata": {},
          "output_type": "execute_result"
        }
      ],
      "source": [
        "dict3.get('jobstage','missing value')"
      ]
    },
    {
      "cell_type": "markdown",
      "metadata": {
        "id": "DGaLTLJLmcUL"
      },
      "source": [
        "### Sets\n",
        "\n",
        "- They are mutables\n",
        "- They are defined with braces **{ }**\n",
        "- Does not support duplicate values\n",
        "- Does not support indexing"
      ]
    },
    {
      "cell_type": "code",
      "execution_count": 31,
      "metadata": {
        "colab": {
          "base_uri": "https://localhost:8080/"
        },
        "id": "PP-9OpIhmiaz",
        "outputId": "45bf8b02-1490-4a4e-c863-8f44f086303d"
      },
      "outputs": [
        {
          "name": "stdout",
          "output_type": "stream",
          "text": [
            "{1, 2, 3, 4, 5, 6}\n",
            "{2, 4, 6, 8, 10}\n"
          ]
        }
      ],
      "source": [
        "set1 = {1,2,3,4,5,6,6,6,6,6,6}\n",
        "print(set1)\n",
        "set2 = {2,4,6,8,10}\n",
        "print(set2)"
      ]
    },
    {
      "cell_type": "code",
      "execution_count": 32,
      "metadata": {
        "colab": {
          "base_uri": "https://localhost:8080/"
        },
        "id": "p1O52lSFmjwH",
        "outputId": "b9a66400-6c13-40f0-c775-eaac04d8ba34"
      },
      "outputs": [
        {
          "name": "stdout",
          "output_type": "stream",
          "text": [
            "{2, 4, 6}\n"
          ]
        }
      ],
      "source": [
        "print(set1.intersection(set2))"
      ]
    },
    {
      "cell_type": "code",
      "execution_count": 33,
      "metadata": {
        "colab": {
          "base_uri": "https://localhost:8080/"
        },
        "id": "FSuz3QNKnNGS",
        "outputId": "6f4a748f-a4aa-4079-bfac-81253110cc16"
      },
      "outputs": [
        {
          "name": "stdout",
          "output_type": "stream",
          "text": [
            "{1, 3, 5}\n"
          ]
        }
      ],
      "source": [
        "print(set1 - set2)"
      ]
    },
    {
      "cell_type": "code",
      "execution_count": 34,
      "metadata": {
        "colab": {
          "base_uri": "https://localhost:8080/"
        },
        "id": "bYIhjo8bns9S",
        "outputId": "9a5ae837-d10f-4ede-89e3-3aa01f5ccb90"
      },
      "outputs": [
        {
          "name": "stdout",
          "output_type": "stream",
          "text": [
            "{8, 10}\n"
          ]
        }
      ],
      "source": [
        "print(set2 - set1)"
      ]
    },
    {
      "cell_type": "code",
      "execution_count": 54,
      "metadata": {
        "colab": {
          "base_uri": "https://localhost:8080/"
        },
        "id": "DpWMLOFynxV4",
        "outputId": "d6b3c6a1-3234-494e-8f19-eb2f827609b3"
      },
      "outputs": [
        {
          "name": "stdout",
          "output_type": "stream",
          "text": [
            "{1, 2, 3, 4, 5, 6, 8, 10}\n"
          ]
        }
      ],
      "source": [
        "print(set1.union(set2))"
      ]
    },
    {
      "cell_type": "code",
      "execution_count": 35,
      "metadata": {
        "colab": {
          "base_uri": "https://localhost:8080/",
          "height": 166
        },
        "id": "5DnLiml08Em2",
        "outputId": "5d6f4e9d-4d84-4ab3-9e67-f8a6ced755ca"
      },
      "outputs": [
        {
          "ename": "TypeError",
          "evalue": "unsupported operand type(s) for +: 'set' and 'set'",
          "output_type": "error",
          "traceback": [
            "\u001b[1;31m---------------------------------------------------------------------------\u001b[0m",
            "\u001b[1;31mTypeError\u001b[0m                                 Traceback (most recent call last)",
            "Cell \u001b[1;32mIn[35], line 1\u001b[0m\n\u001b[1;32m----> 1\u001b[0m set1 \u001b[39m+\u001b[39;49m set2\n",
            "\u001b[1;31mTypeError\u001b[0m: unsupported operand type(s) for +: 'set' and 'set'"
          ]
        }
      ],
      "source": [
        "set1 + set2"
      ]
    },
    {
      "cell_type": "code",
      "execution_count": 36,
      "metadata": {
        "colab": {
          "base_uri": "https://localhost:8080/"
        },
        "id": "UNorBbYbn0lY",
        "outputId": "c2d71b5f-a623-4f45-a412-c09a750aeb8a"
      },
      "outputs": [
        {
          "data": {
            "text/plain": [
              "[1, 2, 3, 4, 5, 6, 7, 8, 9, 10, 1, 2, 3, 4, 5]"
            ]
          },
          "execution_count": 36,
          "metadata": {},
          "output_type": "execute_result"
        }
      ],
      "source": [
        "list1  + list2"
      ]
    },
    {
      "cell_type": "code",
      "execution_count": 37,
      "metadata": {
        "colab": {
          "base_uri": "https://localhost:8080/",
          "height": 166
        },
        "id": "ZaLqc6vkn4mW",
        "outputId": "1437b51f-925a-41ef-e959-246400b7f3f2"
      },
      "outputs": [
        {
          "ename": "TypeError",
          "evalue": "unsupported operand type(s) for -: 'list' and 'list'",
          "output_type": "error",
          "traceback": [
            "\u001b[1;31m---------------------------------------------------------------------------\u001b[0m",
            "\u001b[1;31mTypeError\u001b[0m                                 Traceback (most recent call last)",
            "Cell \u001b[1;32mIn[37], line 1\u001b[0m\n\u001b[1;32m----> 1\u001b[0m list1 \u001b[39m-\u001b[39;49m list2\n",
            "\u001b[1;31mTypeError\u001b[0m: unsupported operand type(s) for -: 'list' and 'list'"
          ]
        }
      ],
      "source": [
        "list1 - list2"
      ]
    },
    {
      "cell_type": "code",
      "execution_count": 38,
      "metadata": {
        "colab": {
          "base_uri": "https://localhost:8080/"
        },
        "id": "7JYBhIZZn6w-",
        "outputId": "d0c55422-6fc1-445e-b146-fad48c137411"
      },
      "outputs": [
        {
          "data": {
            "text/plain": [
              "{1, 2, 3, 4, 5, 6, 7, 8, 9, 10}"
            ]
          },
          "execution_count": 38,
          "metadata": {},
          "output_type": "execute_result"
        }
      ],
      "source": [
        "set(list1)"
      ]
    },
    {
      "cell_type": "code",
      "execution_count": 39,
      "metadata": {
        "colab": {
          "base_uri": "https://localhost:8080/"
        },
        "id": "pIPOd5URn_eH",
        "outputId": "98002e0c-fbcf-4b0d-b1a3-57313a1ef4f9"
      },
      "outputs": [
        {
          "data": {
            "text/plain": [
              "[1, 2, 3, 4, 5, 6]"
            ]
          },
          "execution_count": 39,
          "metadata": {},
          "output_type": "execute_result"
        }
      ],
      "source": [
        "list(set1)"
      ]
    },
    {
      "cell_type": "code",
      "execution_count": 40,
      "metadata": {
        "colab": {
          "base_uri": "https://localhost:8080/"
        },
        "id": "1-lsul1SoCJW",
        "outputId": "3a964232-9fc1-454d-c51f-951ec5e4d1d7"
      },
      "outputs": [
        {
          "data": {
            "text/plain": [
              "(1, 2, 3, 4, 5, 6)"
            ]
          },
          "execution_count": 40,
          "metadata": {},
          "output_type": "execute_result"
        }
      ],
      "source": [
        "tuple(set1)"
      ]
    },
    {
      "cell_type": "code",
      "execution_count": 41,
      "metadata": {
        "colab": {
          "base_uri": "https://localhost:8080/"
        },
        "id": "jFvZHgVG8j4l",
        "outputId": "1c9780a8-fab5-430e-a2a7-55880a4b27f3"
      },
      "outputs": [
        {
          "data": {
            "text/plain": [
              "[1, 2, 3, 4, 5, 6, 7, 8, 9, 10]"
            ]
          },
          "execution_count": 41,
          "metadata": {},
          "output_type": "execute_result"
        }
      ],
      "source": [
        "list(set(list1  + list2))"
      ]
    },
    {
      "cell_type": "code",
      "execution_count": 42,
      "metadata": {
        "colab": {
          "base_uri": "https://localhost:8080/"
        },
        "id": "-bOVUpeItCIP",
        "outputId": "0792bd16-577e-4532-8f7f-dada8d258058"
      },
      "outputs": [
        {
          "data": {
            "text/plain": [
              "{'a': 1, 'b': 1}"
            ]
          },
          "execution_count": 42,
          "metadata": {},
          "output_type": "execute_result"
        }
      ],
      "source": [
        "dict([(\"a\",1),(\"b\",1)])"
      ]
    },
    {
      "cell_type": "markdown",
      "metadata": {
        "id": "zSNQeBQUotnm"
      },
      "source": [
        "### Text strings as array\n",
        "\n",
        "- Text strings can be treated as indexed arrays"
      ]
    },
    {
      "cell_type": "code",
      "execution_count": 43,
      "metadata": {
        "colab": {
          "base_uri": "https://localhost:8080/"
        },
        "id": "bwlBeZExoD87",
        "outputId": "4c642657-a36f-4d9b-aa18-4df8525ff814"
      },
      "outputs": [
        {
          "name": "stdout",
          "output_type": "stream",
          "text": [
            "!\n",
            "l\n"
          ]
        }
      ],
      "source": [
        "string1 = \"Hello World!\"\n",
        "print(string1[-1])\n",
        "print(string1[3])"
      ]
    },
    {
      "cell_type": "code",
      "execution_count": 44,
      "metadata": {
        "colab": {
          "base_uri": "https://localhost:8080/"
        },
        "id": "onmeorSBo8wx",
        "outputId": "3145f400-d6f9-4c85-85e4-2bca62a8b4b9"
      },
      "outputs": [
        {
          "data": {
            "text/plain": [
              "['H', 'e', 'l', 'l', 'o', ' ', 'W', 'o', 'r', 'l', 'd', '!']"
            ]
          },
          "execution_count": 44,
          "metadata": {},
          "output_type": "execute_result"
        }
      ],
      "source": [
        "list(string1)"
      ]
    },
    {
      "cell_type": "code",
      "execution_count": 45,
      "metadata": {
        "colab": {
          "base_uri": "https://localhost:8080/"
        },
        "id": "8b3kYJlco_Vy",
        "outputId": "fb5b4fa6-c37b-4a12-d05f-6a969f90e857"
      },
      "outputs": [
        {
          "data": {
            "text/plain": [
              "('H', 'e', 'l', 'l', 'o', ' ', 'W', 'o', 'r', 'l', 'd', '!')"
            ]
          },
          "execution_count": 45,
          "metadata": {},
          "output_type": "execute_result"
        }
      ],
      "source": [
        "tuple(string1)"
      ]
    },
    {
      "cell_type": "code",
      "execution_count": 46,
      "metadata": {
        "colab": {
          "base_uri": "https://localhost:8080/"
        },
        "id": "rFAJovgQpAZQ",
        "outputId": "4d39caf8-1582-4d59-a3d0-ef63f84396f2"
      },
      "outputs": [
        {
          "data": {
            "text/plain": [
              "['Hello', 'World!']"
            ]
          },
          "execution_count": 46,
          "metadata": {},
          "output_type": "execute_result"
        }
      ],
      "source": [
        "string1.split(\" \")"
      ]
    },
    {
      "cell_type": "code",
      "execution_count": 47,
      "metadata": {
        "colab": {
          "base_uri": "https://localhost:8080/",
          "height": 35
        },
        "id": "LYknuAndpD9C",
        "outputId": "7455ab3e-dc3b-46ef-910f-17ce0ab650bc"
      },
      "outputs": [
        {
          "data": {
            "text/plain": [
              "'1,2,3,4,5,6,7,8,9'"
            ]
          },
          "execution_count": 47,
          "metadata": {},
          "output_type": "execute_result"
        }
      ],
      "source": [
        "list5 = ['1','2','3','4','5','6','7','8','9']\n",
        "\",\".join(list5)"
      ]
    },
    {
      "cell_type": "markdown",
      "metadata": {
        "id": "KSWG5FnfqBo_"
      },
      "source": [
        "# Condicionales\n",
        "\n",
        "```\n",
        "1)\n",
        "if (expression):\n",
        "    run_code...\n",
        "\n",
        "2)\n",
        "if (expression):\n",
        "    run_code...\n",
        "else:\n",
        "    run_default_code...\n",
        "\n",
        "3)\n",
        "if (expression):\n",
        "    run_code1...\n",
        "elif (expression):\n",
        "    run_code2...\n",
        "elif (expression):\n",
        "    run_code3...\n",
        "else:\n",
        "    rund_default_code...\n",
        "```"
      ]
    },
    {
      "cell_type": "code",
      "execution_count": 50,
      "metadata": {
        "id": "r7al8EvTqnXQ"
      },
      "outputs": [
        {
          "name": "stdout",
          "output_type": "stream",
          "text": [
            "Greather than 5\n"
          ]
        }
      ],
      "source": [
        "number = 20\n",
        "if number > 5:\n",
        "  print(\"Greather than 5\")\n",
        "else:\n",
        "  print(\"Less than 5\")"
      ]
    },
    {
      "cell_type": "code",
      "execution_count": null,
      "metadata": {
        "id": "z0XH3JJqqwRH"
      },
      "outputs": [],
      "source": [
        "age = int(input(\"Age: \"))\n",
        "if (age > 18 and age <= 65):\n",
        "  print(\"Condition1\")\n",
        "elif (age > 65 and age <= 100):\n",
        "  print(\"Condition2\")\n",
        "else:\n",
        "  print(\"Condition3\")"
      ]
    },
    {
      "cell_type": "markdown",
      "metadata": {},
      "source": [
        "### \"In\" statement\n",
        "\n",
        "- It is used to check if an element is inside an array"
      ]
    },
    {
      "cell_type": "code",
      "execution_count": 51,
      "metadata": {},
      "outputs": [
        {
          "data": {
            "text/plain": [
              "True"
            ]
          },
          "execution_count": 51,
          "metadata": {},
          "output_type": "execute_result"
        }
      ],
      "source": [
        "names = [\"Juan\",\"peter\",\"Jorge\"]\n",
        "'Juan' in names"
      ]
    },
    {
      "cell_type": "code",
      "execution_count": 52,
      "metadata": {
        "id": "_JeN_OqFrXr0"
      },
      "outputs": [
        {
          "name": "stdout",
          "output_type": "stream",
          "text": [
            "Access granted\n"
          ]
        }
      ],
      "source": [
        "db = [\"Juan\",\"peter\",\"Jorge\"]\n",
        "name = input(\"Enter your name: \")\n",
        "if name in db:\n",
        "  print(\"Access granted\")\n",
        "else:\n",
        "  print(\"Access denied\")"
      ]
    },
    {
      "cell_type": "code",
      "execution_count": null,
      "metadata": {
        "id": "0X6opwDOsAoK"
      },
      "outputs": [],
      "source": []
    },
    {
      "cell_type": "code",
      "execution_count": null,
      "metadata": {},
      "outputs": [],
      "source": []
    }
  ],
  "metadata": {
    "colab": {
      "provenance": []
    },
    "kernelspec": {
      "display_name": "Python 3",
      "name": "python3"
    },
    "language_info": {
      "codemirror_mode": {
        "name": "ipython",
        "version": 3
      },
      "file_extension": ".py",
      "mimetype": "text/x-python",
      "name": "python",
      "nbconvert_exporter": "python",
      "pygments_lexer": "ipython3",
      "version": "3.9.13"
    }
  },
  "nbformat": 4,
  "nbformat_minor": 0
}
