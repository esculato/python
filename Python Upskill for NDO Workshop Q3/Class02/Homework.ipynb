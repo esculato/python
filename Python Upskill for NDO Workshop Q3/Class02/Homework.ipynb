{
  "cells": [
    {
      "cell_type": "markdown",
      "metadata": {
        "id": "M86uPT6Vm69e"
      },
      "source": [
        "1. From two variables __name__ and __age__, create a variable called __expression__ that evaluates whether ALL of the following conditions are met by chaining logical operators in __a single line__\n",
        "  - Let __name__ be different than four asterisks\n",
        "  - That __age__ is less than 10 and less than 18\n",
        "  - That the length of the name is greater than or equal to 8 and less than 10\n",
        "\n",
        "  _**Note:** Use parentheses to chain different sets of logical expressions together_\n"
      ]
    },
    {
      "cell_type": "code",
      "execution_count": null,
      "metadata": {
        "id": "ezgQjZISomhw"
      },
      "outputs": [],
      "source": []
    },
    {
      "cell_type": "markdown",
      "metadata": {},
      "source": [
        "2. Write a program to convert temperatures to and from Celsius and Fahrenheit\n",
        "\n",
        "$ \\dfrac{c}{5} = \\dfrac{f-32}{9} \\rightarrow[ \\text{where c = temperature in celsius and f = temperature in fahrenheit} ]$"
      ]
    },
    {
      "cell_type": "code",
      "execution_count": null,
      "metadata": {},
      "outputs": [],
      "source": []
    },
    {
      "cell_type": "markdown",
      "metadata": {
        "id": "5Dfvu5nmooUW"
      },
      "source": [
        "3. Three people decide to invest their money to found a company. Each one of them invests a different quality. Obtain the percentage that each one invests with respect to the total amount invested and display the result on the screen\n",
        "\n",
        "_**Note:** do all the necessary validations to prevent the code from breaking_\n"
      ]
    },
    {
      "cell_type": "code",
      "execution_count": null,
      "metadata": {
        "id": "Hp0EhrUCpEQH"
      },
      "outputs": [],
      "source": []
    },
    {
      "cell_type": "markdown",
      "metadata": {
        "id": "Gj1-C5q0pGN-"
      },
      "source": [
        "4. The taxes for the income declaration of a certain country are the following:\n",
        "\n",
        "| Income | Taxes\n",
        "| -- | -- |\n",
        "| Less than 10000 | 5% |\n",
        "| Between 10000 and 20000 | 15% |\n",
        "| Between 20000 and 35000 | 20% |\n",
        "| Between 35000 and 60000 | 30% | \n",
        "| more 60000 | 45% |\n",
        "\n",
        "  Write a program that asks the user their annual income and displays the corresponding tax on the screen\n",
        "\n",
        "_**Note:** do all the necessary validations to prevent the code from breaking_"
      ]
    },
    {
      "cell_type": "code",
      "execution_count": null,
      "metadata": {
        "id": "PnZuV8KEpsN6"
      },
      "outputs": [],
      "source": []
    }
  ],
  "metadata": {
    "colab": {
      "provenance": []
    },
    "kernelspec": {
      "display_name": "Python 3",
      "name": "python3"
    },
    "language_info": {
      "name": "python",
      "version": "3.9.13"
    }
  },
  "nbformat": 4,
  "nbformat_minor": 0
}
