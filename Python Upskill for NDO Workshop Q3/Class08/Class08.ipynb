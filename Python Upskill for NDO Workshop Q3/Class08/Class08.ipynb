{
 "cells": [
  {
   "cell_type": "markdown",
   "metadata": {},
   "source": [
    "## Class 08\n",
    "\n",
    "- ``` pip install setuptools ```\n",
    "- ``` python .\\setup.py sdist ```\n",
    "- ``` pip list --format=freeze > requirements.txt ```\n",
    "- ``` python -m venv <virtual-env-name> ```\n",
    "- ``` <virtual-env-name>\\Scripts\\activate ```\n",
    "\n",
    "<a href=\"https://docs.conda.io/projects/miniconda/en/latest/miniconda-install.html\">Miniconda Download</a>\n",
    "\n",
    "- ``` conda env list ```\n",
    "- ``` conda create -n test_conda python=3.6 ```\n",
    "- ``` conda env remove -n test_conda ```\n"
   ]
  },
  {
   "cell_type": "markdown",
   "metadata": {},
   "source": []
  }
 ],
 "metadata": {
  "language_info": {
   "name": "python"
  },
  "orig_nbformat": 4
 },
 "nbformat": 4,
 "nbformat_minor": 2
}
