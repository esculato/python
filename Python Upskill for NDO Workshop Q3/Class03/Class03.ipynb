{
 "cells": [
  {
   "cell_type": "markdown",
   "metadata": {},
   "source": [
    "# F-strings\n",
    "```\n",
    "\"This is a f-string {}, {}\".format(var1, var2)\n",
    "f\"This is a f-string {var1}, {var2}\"  (for python >= 3.6)\n",
    "```\n"
   ]
  },
  {
   "cell_type": "code",
   "execution_count": null,
   "metadata": {},
   "outputs": [],
   "source": [
    "name = \"Kevin\"\n",
    "age = 28\n",
    "message = \"Hello, i am {} and i am {} years old\".format(name, age)\n",
    "print(message)"
   ]
  },
  {
   "cell_type": "code",
   "execution_count": null,
   "metadata": {},
   "outputs": [],
   "source": [
    "fruits = [\"apple\", \"pear\", \"orange\"]\n",
    "message = \"I like {0}, {1} and {2}\".format(fruits[0], fruits[1], fruits[2])\n",
    "print(message)\n",
    "message = \"I like {1}, {2} and {0} ({0}, {1}, {2}, {0})\".format(fruits[1], fruits[0], fruits[2])\n",
    "print(message)"
   ]
  },
  {
   "cell_type": "code",
   "execution_count": null,
   "metadata": {},
   "outputs": [],
   "source": [
    "fruits = [\"apple\", \"pear\", \"orange\"]\n",
    "message = f\"I like {fruits[1]}, {fruits[0]} and {fruits[2]} ({fruits[1]})\"\n",
    "print(message)"
   ]
  },
  {
   "cell_type": "code",
   "execution_count": null,
   "metadata": {},
   "outputs": [],
   "source": [
    "header = \"Welcome to Python Workshop for NDO\"\n",
    "header = \"Hello everynyan\"\n",
    "# \"{:}\"\n",
    "message = \"{:<50}\".format(header) #left alignment\n",
    "print(message)\n",
    "print(\"*\" * 50)\n",
    "message = \"{:>50}\".format(header) #right alignment\n",
    "print(message)\n",
    "message = \"{:^50}\".format(header) #center alignment\n",
    "print(message)\n",
    "message = \"{:!^50}\".format(header) #center alignment\n",
    "print(message)\n",
    "message = f\"{header:x^50}\" #center alignment\n",
    "print(message)\n",
    "lenght = len(header) * 3\n",
    "print(lenght)\n",
    "message = f\"{header:x^{lenght}}\" #center alignment\n",
    "print(message)"
   ]
  },
  {
   "cell_type": "code",
   "execution_count": null,
   "metadata": {},
   "outputs": [],
   "source": [
    "number = 256\n",
    "print(f\"{number:0>5}\")\n",
    "number = 256.256563756\n",
    "print(f\"{number:0>5.2f}\")\n",
    "\n",
    "# 00010\n",
    "# 00011\n",
    "# 00012\n",
    "# 99999\n",
    "# Week01\n",
    "# Week02\n",
    "# Week52"
   ]
  },
  {
   "cell_type": "code",
   "execution_count": null,
   "metadata": {},
   "outputs": [],
   "source": [
    "weeknumber = 10\n",
    "print(f\"Week{weeknumber:0>2}\")"
   ]
  },
  {
   "cell_type": "markdown",
   "metadata": {},
   "source": [
    "Python_Package\n",
    "- Function1\n",
    "- Function2\n",
    "- Function3\n",
    "\n",
    "```\n",
    "import Python_Package\n",
    "\n",
    "Python_Package.Function1()\n",
    "Python_Package.Function2()\n",
    "Python_Package.Function3()\n",
    "```\n",
    "OR\n",
    "\n",
    "```\n",
    "from Python_Package import Function1, Function2\n",
    "\n",
    "Function1()\n",
    "Function2()\n",
    "```\n",
    "\n",
    "OR \n",
    "\n",
    "```\n",
    "import Python_Package as package\n",
    "\n",
    "package.Function1()\n",
    "package.Function2()\n",
    "package.Function3()\n",
    "```\n",
    "\n",
    "- import pandas as pd\n",
    "- import numpy as np\n",
    "- import matplotlib.pyplot as plt\n"
   ]
  },
  {
   "cell_type": "code",
   "execution_count": null,
   "metadata": {},
   "outputs": [],
   "source": [
    "from getpass import getpass\n",
    "#import getpass\n",
    "from sys import exit\n",
    "\n",
    "users = {\n",
    "    \"juan\" : \"juan123\",\n",
    "    \"peter\" : \"domingo333\",\n",
    "    \"aldo\" : \"123456\"\n",
    "}\n",
    "username = input(\"Username: \")\n",
    "username = username.lower()\n",
    "password = getpass(\"Password:\")\n",
    "if (username in users.keys()):\n",
    "    if (password == users[username]):\n",
    "        print(\"Access granted\")\n",
    "\n",
    "# guard condition\n",
    "if (username not in users.keys()):\n",
    "    print(\"User does not exist\")\n",
    "    exit(1)\n",
    "if (password != users[username]):\n",
    "    print(\"Wrong Password\")\n",
    "    exit(2)\n",
    "\n",
    "print(\"Code...\")"
   ]
  },
  {
   "cell_type": "markdown",
   "metadata": {},
   "source": [
    "## Loops\n",
    "\n",
    "Python has two types of loops\n",
    "- While\n",
    "- For"
   ]
  },
  {
   "cell_type": "markdown",
   "metadata": {},
   "source": [
    "## While Loop\n",
    "```\n",
    "while (condition):\n",
    "  code block\n",
    "else:\n",
    "  code block (It is executed if the while ends successfully)\n",
    "```"
   ]
  },
  {
   "cell_type": "code",
   "execution_count": null,
   "metadata": {},
   "outputs": [],
   "source": [
    "number = 0\n",
    "while (number <= 10):\n",
    "    print(number)\n",
    "    number += 1"
   ]
  },
  {
   "cell_type": "markdown",
   "metadata": {},
   "source": [
    "### continue Statement\n",
    "\n",
    "It is used when we want to \"skip\" an iteration"
   ]
  },
  {
   "cell_type": "code",
   "execution_count": null,
   "metadata": {},
   "outputs": [],
   "source": [
    "hour = 0\n",
    "while (hour <= 23):\n",
    "    print(\"Schedule: \",hour)\n",
    "    hour += 1"
   ]
  },
  {
   "cell_type": "code",
   "execution_count": null,
   "metadata": {},
   "outputs": [],
   "source": [
    "hour = 0\n",
    "while (hour <= 23):\n",
    "    hour += 1\n",
    "    if (hour == 13):\n",
    "        print(\"Lunch time\")\n",
    "        continue\n",
    "    print(\"Schedule: \",hour)"
   ]
  },
  {
   "cell_type": "markdown",
   "metadata": {},
   "source": [
    "### break Statement\n",
    "\n",
    "Used to break the loop"
   ]
  },
  {
   "cell_type": "code",
   "execution_count": null,
   "metadata": {},
   "outputs": [],
   "source": [
    "names = ['Adel','Adonis','Ajaz','Akos','Aldo','Amets','Amaro','Aquiles','Algimantas',\n",
    " 'Alpidio','Amrane','Anish','Arián','Ayun','Azariel','Bagrat','Bencomo','Bertino',\n",
    " 'Candi','Cesc','Cirino','Crisólogo','Cruz','Danilo','Dareck','Dariel','Darin','Delmiro',\n",
    " 'Damen','Dilan','Dipa','Doménico','Drago','Edivaldo','Elvis','Elyan','Emeric','Engracio',\n",
    " 'Ensa','Eñaut','Eleazar','Eros','Eufemio','Feiyang','Fiorenzo','Foudil','Galo', 'Gastón',\n",
    " 'Giulio','Gautam','Gentil','Gianni','Gianluca','Giorgio','Gourav']\n",
    "index = 0\n",
    "while (index < len(names)):\n",
    "    name = names[index]\n",
    "    print(name)\n",
    "    index += 1"
   ]
  },
  {
   "cell_type": "code",
   "execution_count": null,
   "metadata": {},
   "outputs": [],
   "source": [
    "index = 0\n",
    "while (index < len(names)):\n",
    "    name = names[index]\n",
    "    print(name)\n",
    "    if (name == 'Dipa'):\n",
    "        print(name,\"I found you!\")\n",
    "        break\n",
    "    index += 1\n",
    "print(\"Code...\")"
   ]
  },
  {
   "cell_type": "markdown",
   "metadata": {},
   "source": [
    "### While Statement - Else\n",
    "\n",
    "An else statement can be added to the while statement\n",
    "the else code block is executed when the while loop ends without interruption"
   ]
  },
  {
   "cell_type": "markdown",
   "metadata": {},
   "source": [
    "\n",
    "- create a program that allows you to check the amount of fruit in the basket, and add if the fruit does not exist"
   ]
  },
  {
   "cell_type": "code",
   "execution_count": null,
   "metadata": {},
   "outputs": [],
   "source": [
    "basket = [\n",
    "    {\"fruit\" : \"apple\", \"q\" : 20},\n",
    "    {\"fruit\" : \"banana\", \"q\" : 30},\n",
    "    {\"fruit\" : \"orange\", \"q\" : 10},\n",
    "]\n",
    "\n",
    "\n",
    "fruit = input(\"Enter a fruit: \")\n",
    "fruit = fruit.lower()\n",
    "\n",
    "index = 0\n",
    "\n",
    "while index < len(basket):\n",
    "    item = basket[index]\n",
    "    if (item[\"fruit\"] == fruit):\n",
    "        print(f\"The basket has {item['q']} {item['fruit']}(s)\")\n",
    "        break\n",
    "    index += 1\n",
    "else:\n",
    "    q = int(input(f\"Enter the quantity of the fruit {fruit}\"))\n",
    "    basket.append({\"fruit\" : fruit, \"q\" : q})\n",
    "    print(basket)"
   ]
  },
  {
   "cell_type": "markdown",
   "metadata": {},
   "source": [
    "## For loop"
   ]
  },
  {
   "cell_type": "code",
   "execution_count": null,
   "metadata": {},
   "outputs": [],
   "source": [
    "names = ['Adel','Adonis','Ajaz','Akos','Aldo','Amets','Amaro','Aquiles','Algimantas',\n",
    " 'Alpidio','Amrane','Anish','Arián','Ayun','Azariel','Bagrat','Bencomo','Bertino',\n",
    " 'Candi','Cesc','Cirino','Crisólogo','Cruz','Danilo','Dareck','Dariel','Darin','Delmiro',\n",
    " 'Damen','Dilan','Dipa','Doménico','Drago','Edivaldo','Elvis','Elyan','Emeric','Engracio',\n",
    " 'Ensa','Eñaut','Eleazar','Eros','Eufemio','Feiyang','Fiorenzo','Foudil','Galo', 'Gastón',\n",
    " 'Giulio','Gautam','Gentil','Gianni','Gianluca','Giorgio','Gourav']\n",
    "\n",
    "for name in names:\n",
    "    print(name)"
   ]
  },
  {
   "cell_type": "code",
   "execution_count": null,
   "metadata": {},
   "outputs": [],
   "source": [
    "for name in names:\n",
    "    print(hash(name))"
   ]
  },
  {
   "cell_type": "code",
   "execution_count": null,
   "metadata": {},
   "outputs": [],
   "source": [
    "for index,name in enumerate(names):\n",
    "      print(index,name)"
   ]
  },
  {
   "cell_type": "code",
   "execution_count": null,
   "metadata": {},
   "outputs": [],
   "source": [
    "hashes = []\n",
    "for name in names:\n",
    "    hashes.append(hash(name))\n",
    "print(hashes)"
   ]
  },
  {
   "cell_type": "code",
   "execution_count": null,
   "metadata": {},
   "outputs": [],
   "source": [
    "for index,name in enumerate(names):\n",
    "    print(f\"{index:0>2}{name:^30}{hashes[index]:^30}\")"
   ]
  },
  {
   "cell_type": "markdown",
   "metadata": {},
   "source": [
    "### Range\n",
    "\n",
    "```\n",
    "range(start = 0, end, step = 1)\n",
    "\n",
    "range(1, 5) -> [1,2,3,4]\n",
    "range(3) -> [0,1,2]\n",
    "range(0, 9, 2) -> [0, 2, 4, 6, 8]\n",
    "```\n",
    "This function does not return a list, it returns an object of type _range_ which is an iterable"
   ]
  },
  {
   "cell_type": "code",
   "execution_count": null,
   "metadata": {},
   "outputs": [],
   "source": [
    "for i in range(3,17,4):\n",
    "    print(i)"
   ]
  },
  {
   "cell_type": "code",
   "execution_count": null,
   "metadata": {},
   "outputs": [],
   "source": [
    "type(range(3,17,4))"
   ]
  },
  {
   "cell_type": "code",
   "execution_count": null,
   "metadata": {},
   "outputs": [],
   "source": [
    "tuple(range(3,17,4))"
   ]
  },
  {
   "cell_type": "markdown",
   "metadata": {},
   "source": [
    "## List comprehension"
   ]
  },
  {
   "cell_type": "code",
   "execution_count": null,
   "metadata": {},
   "outputs": [],
   "source": [
    "numbers = [x for x in range(10)]\n",
    "print(numbers)"
   ]
  },
  {
   "cell_type": "code",
   "execution_count": null,
   "metadata": {},
   "outputs": [],
   "source": [
    "numbers = [pow(x,2) for x in range(10)]\n",
    "print(numbers)"
   ]
  },
  {
   "cell_type": "code",
   "execution_count": null,
   "metadata": {},
   "outputs": [],
   "source": [
    "numbers = [pow(x,2) for x in range(10) if (x % 2 == 0)]\n",
    "print(numbers)"
   ]
  },
  {
   "cell_type": "markdown",
   "metadata": {},
   "source": [
    "### File management\n",
    "\n",
    "\n",
    "```\n",
    "file = open(filename,option)\n",
    "file.close()\n",
    "\n",
    "option:\n",
    "- r : Open the file in reading mode (default)\n",
    "- r+ : If you want to read and write to the file.\n",
    "- w : To overwrite the content.\n",
    "- a: To add to the end of the file if it already exists.\n",
    "- b : Open the file in binary form\n",
    "```"
   ]
  },
  {
   "cell_type": "markdown",
   "metadata": {},
   "source": []
  },
  {
   "cell_type": "code",
   "execution_count": null,
   "metadata": {},
   "outputs": [],
   "source": [
    "data = open(\"downloaded_medals.csv\")\n",
    "\n",
    "print(data.read())\n",
    "print(data.readlines())\n",
    "data.close()"
   ]
  },
  {
   "cell_type": "code",
   "execution_count": null,
   "metadata": {},
   "outputs": [],
   "source": [
    "data = open(\"Athelete_Sports_Map.csv\", encoding = 'cp1250') #iso-8859-1, iso-8859-2\n",
    "\n",
    "print(data.read())\n",
    "print(data.readlines())\n",
    "data.close()"
   ]
  },
  {
   "cell_type": "code",
   "execution_count": null,
   "metadata": {},
   "outputs": [],
   "source": [
    "with open(\"test.txt\",'a') as test:\n",
    "    for name in names:\n",
    "        test.write(f\"{name}\\n\")"
   ]
  },
  {
   "cell_type": "code",
   "execution_count": null,
   "metadata": {},
   "outputs": [],
   "source": []
  }
 ],
 "metadata": {
  "kernelspec": {
   "display_name": "Python 3 (ipykernel)",
   "language": "python",
   "name": "python3"
  },
  "language_info": {
   "codemirror_mode": {
    "name": "ipython",
    "version": 3
   },
   "file_extension": ".py",
   "mimetype": "text/x-python",
   "name": "python",
   "nbconvert_exporter": "python",
   "pygments_lexer": "ipython3",
   "version": "3.9.7"
  }
 },
 "nbformat": 4,
 "nbformat_minor": 4
}
