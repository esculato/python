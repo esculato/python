{
 "cells": [
  {
   "cell_type": "markdown",
   "id": "a93a9969-20d4-4d53-8480-411558281f7e",
   "metadata": {},
   "source": [
    "1. Write a program that stores a password in a variable, ask the user for the password up to __N__ times, when the password is correct, show _CORRECT PASSWORD_ on the screen, when the password is incorrect, show _INCORRECT PASSWORD_ on the screen and if it exceeds the number of attempts allowed to display on the screen _BLOCKED USER_"
   ]
  },
  {
   "cell_type": "code",
   "execution_count": null,
   "id": "898423ea-75dc-49ce-b7ea-4cc45641eb47",
   "metadata": {},
   "outputs": [],
   "source": []
  },
  {
   "cell_type": "markdown",
   "id": "8fab2c38-dd95-4b5a-b34a-47851f31f8a0",
   "metadata": {},
   "source": [
    "2. They have been sent a file called names.txt with a list of names, it is required to separate those names into three groups according to the initial letter of their names, Group A: A-I Group B: J-R, Group C: S-Z. They must be saved in three different files called group_a.txt, group_b.txt, group_c.txt\n",
    "\n",
    "NOTE: Text strings support indexing in the same way as lists, for example name = “Maria Jose”, name[0] = “M”, name[1] = “a”, name[2] = “r”.\n",
    "Comparison operators are also supported in text strings for example “b” > “a” = True, “b” > “z” = False, “m” > “M” = True, “Maria” > “Marco ” = True"
   ]
  },
  {
   "cell_type": "code",
   "execution_count": null,
   "id": "d74aa5f1-230e-421a-9a27-a5df9b0a23f8",
   "metadata": {},
   "outputs": [],
   "source": []
  }
 ],
 "metadata": {
  "kernelspec": {
   "display_name": "Python 3 (ipykernel)",
   "language": "python",
   "name": "python3"
  },
  "language_info": {
   "codemirror_mode": {
    "name": "ipython",
    "version": 3
   },
   "file_extension": ".py",
   "mimetype": "text/x-python",
   "name": "python",
   "nbconvert_exporter": "python",
   "pygments_lexer": "ipython3",
   "version": "3.9.12"
  }
 },
 "nbformat": 4,
 "nbformat_minor": 5
}
